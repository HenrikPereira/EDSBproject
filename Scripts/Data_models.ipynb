{
 "cells": [
  {
   "cell_type": "code",
   "execution_count": 1,
   "metadata": {
    "pycharm": {
     "is_executing": false
    }
   },
   "outputs": [],
   "source": [
    "import pandas as pd\n",
    "import numpy as np\n",
    "import seaborn as sb\n",
    "import matplotlib as mpl\n",
    "import matplotlib.pyplot as plt\n",
    "%matplotlib inline\n",
    "import sklearn\n",
    "from sklearn.preprocessing import MinMaxScaler\n",
    "from sklearn import metrics\n",
    "from sklearn.model_selection import train_test_split, StratifiedKFold, GridSearchCV\n",
    "from IPython.core.display import display, HTML\n",
    "import os\n",
    "import tempfile\n",
    "\n",
    "from auxiliary import grids_skf_lr, grids_skf_lsvc, grids_skf_rf, grids_skf_svc, \\\n",
    "    grids_skf_xgb, plot_cm, plot_elbow_kmeans, plot_nn_metrics, plot_pr_curve, \\\n",
    "    plot_roc, save_metrics\n",
    "\n",
    "colors = plt.rcParams['axes.prop_cycle'].by_key()['color']"
   ]
  },
  {
   "cell_type": "code",
   "execution_count": 2,
   "metadata": {},
   "outputs": [
    {
     "name": "stdout",
     "output_type": "stream",
     "text": [
      "\t2 columns, ['EmployeeCount', 'StandardHours'] were droped\n",
      "\tThe ['Over18'] column was droped.\n",
      "\tPattern \" \" cleared.\n",
      "\tPattern \"Travel_\" cleared.\n",
      "\tPattern \"-\" cleared.\n",
      "\tPattern \"&\" cleared.\n",
      "--------------------------------------------------------------------------\n",
      " Pre-processing concluded on  ../Data/HR_DS.csv with success.\n",
      " Dataframes produced: finaldf\n",
      " Other instances created: n_features\n",
      " ___________________________________________________________________________\n"
     ]
    }
   ],
   "source": [
    "# Load of pre processed data\n",
    "%run -i data_pre_proc.py"
   ]
  },
  {
   "cell_type": "markdown",
   "metadata": {},
   "source": [
    "# I. Introduction and Workflow\n",
    "Our approach to the problem at hand is as follows in the next flowchart or pipeline. This was due, namely, to the fact that: \n",
    "1. The dataset is imbalanced;\n",
    "2. There is no time dimension to the data available;\n",
    "3. There is no great volume of data\n",
    "\n",
    "First, the dataset will be split into 2 stratified sets of data so that the following is available:\n",
    "* A train dataset (features and labels appart) (90%)\n",
    "    * The models will be trained and validated on this subset;\n",
    "    * For sake of reproducibility we will apply the same techniques in order to find the best performance model;\n",
    "    * The best model(s) will be selected to train on this full data subset before being tested against the test dataset (as follows)\n",
    "* A test dataset (features and labels appart) (10%)\n",
    "    * This will be used to test the final models as an out-of-sample dataset.\n",
    "    \n",
    "After the selection of best model(s) there will be extracted feature importance by permutation and a cluster analysis/profiling.\n",
    "The resulting insights will be used as an holistic advise on:\n",
    "* Feature Improvement to avoid atritrion\n",
    "* Attrition Prediction"
   ]
  },
  {
   "cell_type": "code",
   "execution_count": 3,
   "metadata": {},
   "outputs": [
    {
     "data": {
      "text/html": [
       "<!--[if IE]><meta http-equiv=\"X-UA-Compatible\" content=\"IE=5,IE=9\" ><![endif]-->\n",
       "<!DOCTYPE html>\n",
       "<html>\n",
       "<head>\n",
       "<title>modeling</title>\n",
       "<meta charset=\"utf-8\"/>\n",
       "</head>\n",
       "<body><div class=\"mxgraph\" style=\"max-width:100%;border:1px solid transparent;\" data-mxgraph=\"{&quot;highlight&quot;:&quot;#0000ff&quot;,&quot;nav&quot;:true,&quot;resize&quot;:true,&quot;toolbar&quot;:&quot;zoom layers lightbox&quot;,&quot;edit&quot;:&quot;_blank&quot;,&quot;xml&quot;:&quot;&lt;mxfile host=\\&quot;www.draw.io\\&quot; modified=\\&quot;2019-11-24T04:40:18.266Z\\&quot; agent=\\&quot;Mozilla/5.0 (Windows NT 10.0; Win64; x64) AppleWebKit/537.36 (KHTML, like Gecko) Chrome/78.0.3904.108 Safari/537.36\\&quot; etag=\\&quot;w8q64jSG-GYSLoU_B0bL\\&quot; version=\\&quot;12.2.9\\&quot; type=\\&quot;github\\&quot; pages=\\&quot;1\\&quot;&gt;&lt;diagram id=\\&quot;vclmZol-7umqQOqe9Rck\\&quot; name=\\&quot;Page-1\\&quot;&gt;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&lt;/diagram&gt;&lt;/mxfile&gt;&quot;}\"></div>\n",
       "<script type=\"text/javascript\" src=\"https://www.draw.io/js/viewer.min.js\"></script>\n",
       "</body>\n",
       "</html>"
      ],
      "text/plain": [
       "<IPython.core.display.HTML object>"
      ]
     },
     "metadata": {},
     "output_type": "display_data"
    }
   ],
   "source": [
    "display(HTML('../resources/modeling.html'))"
   ]
  },
  {
   "cell_type": "markdown",
   "metadata": {
    "toc-hr-collapsed": false
   },
   "source": [
    "# II. Models"
   ]
  },
  {
   "cell_type": "markdown",
   "metadata": {
    "toc-hr-collapsed": true
   },
   "source": [
    "## A. Settings and global instances"
   ]
  },
  {
   "cell_type": "code",
   "execution_count": 4,
   "metadata": {
    "pycharm": {
     "is_executing": false
    }
   },
   "outputs": [
    {
     "name": "stdout",
     "output_type": "stream",
     "text": [
      "Training labels shape: (1323,)\n",
      "Test labels shape: (147,)\n",
      "\n",
      "Training features shape: (1323, 41)\n",
      "Test features shape: (147, 41)\n"
     ]
    }
   ],
   "source": [
    "# test 10%; train 90%\n",
    "train_df, test_df = train_test_split(finaldf, test_size=0.1, random_state=0, stratify=finaldf.Attrition_Yes)\n",
    "\n",
    "# Initialization of min-max normalizing scaler\n",
    "minmax = MinMaxScaler()\n",
    "\n",
    "# Form np arrays of labels and features\n",
    "train_labels = np.array(train_df.Attrition_Yes)\n",
    "test_labels = np.array(test_df.Attrition_Yes)\n",
    "\n",
    "# The train and test features will be normalized separatedly in order not to cross-contaminate data\n",
    "train_features = train_df.drop('Attrition_Yes', axis=1)\n",
    "test_features = minmax.fit_transform(test_df.drop('Attrition_Yes', axis=1))\n",
    "train_features_norm = minmax.fit_transform(train_features)\n",
    "\n",
    "# vectorize train features\n",
    "train_features_v = np.array(train_features)\n",
    "\n",
    "# initialization of the dataframe to store the metrics for each model evaluated on test split\n",
    "m_summary = pd.DataFrame(columns=[\n",
    "    'model','tp', 'fp', 'tn', 'fn', \n",
    "    'acc', 'prec', 'recall', 'pr_auc', 'f1', 'mc_coef', \n",
    "    'batch_s', 'data', 'series'\n",
    "])\n",
    "\n",
    "# standart number of folds to be used by StratifiedKfold sampling\n",
    "n_folds = 10\n",
    "\n",
    "print('Training labels shape:', train_labels.shape)\n",
    "print('Test labels shape:', test_labels.shape)\n",
    "print('')\n",
    "print('Training features shape:', train_features.shape)\n",
    "print('Test features shape:', test_features.shape)"
   ]
  },
  {
   "cell_type": "code",
   "execution_count": 5,
   "metadata": {},
   "outputs": [],
   "source": [
    "# Instantiate the cross validator\n",
    "skf = StratifiedKFold(n_splits=n_folds, shuffle=True)"
   ]
  },
  {
   "cell_type": "markdown",
   "metadata": {},
   "source": [
    "### A.1. Imbalanced Series (original weights)\n",
    "A check on the imbalance of the datasets is needed as follows:"
   ]
  },
  {
   "cell_type": "code",
   "execution_count": 6,
   "metadata": {
    "pycharm": {
     "is_executing": false
    }
   },
   "outputs": [
    {
     "name": "stdout",
     "output_type": "stream",
     "text": [
      "Cases on full dataset:\n",
      "\tTotal: 1470\n",
      "\tEmployees that Left the company: 237 (16.12% of total)\n",
      "\n",
      "\tCases on test dataset:\n",
      "\t\tTotal: 147\n",
      "\t\tEmployees that Left the company: 24 (16.33% of total)\n",
      "\n",
      "\tCases on training dataset:\n",
      "\t\tTotal: 1323\n",
      "\t\tEmployees that Left the company: 213 (16.10% of total)\n",
      "\n"
     ]
    }
   ],
   "source": [
    "neg_df, pos_df = np.bincount(finaldf.Attrition_Yes)\n",
    "total_df = neg_df + pos_df\n",
    "neg_test, pos_test = np.bincount(test_labels)\n",
    "total_test = neg_test + pos_test\n",
    "neg_t, pos_t = np.bincount(train_labels)\n",
    "total_t = neg_t + pos_t\n",
    "\n",
    "print('Cases on full dataset:\\n\\tTotal: {}\\n\\tEmployees that Left the company: {} ({:.2f}% of total)\\n'.format(\n",
    "    total_df, pos_df, 100 * pos_df / total_df))\n",
    "print('\\tCases on test dataset:\\n\\t\\tTotal: {}\\n\\t\\tEmployees that Left the company: {} ({:.2f}% of total)\\n'.format(\n",
    "    total_test, pos_test, 100 * pos_test / total_test))\n",
    "print('\\tCases on training dataset:\\n\\t\\tTotal: {}\\n\\t\\tEmployees that Left the company: {} ({:.2f}% of total)\\n'.format(\n",
    "    total_t, pos_t, 100 * pos_t / total_t))"
   ]
  },
  {
   "cell_type": "markdown",
   "metadata": {},
   "source": [
    "A determination of the weights of the target label (train dataset) will be important further on the testing of the models"
   ]
  },
  {
   "cell_type": "code",
   "execution_count": 7,
   "metadata": {
    "pycharm": {
     "is_executing": false
    }
   },
   "outputs": [
    {
     "name": "stdout",
     "output_type": "stream",
     "text": [
      "Weight for class 0 (Stayers): 0.60\n",
      "Weight for class 1 (Leavers): 3.11\n"
     ]
    }
   ],
   "source": [
    "# Scaling by total/2(categories) helps keep the loss to a similar magnitude.\n",
    "# The sum of the weights of all examples stays the same.\n",
    "weight_for_0 = (1 / neg_t)*(total_t)/2\n",
    "weight_for_1 = (1 / pos_t)*(total_t)/2\n",
    "\n",
    "class_weights = {0: weight_for_0, 1: weight_for_1}\n",
    "\n",
    "print('Weight for class 0 (Stayers): {:.2f}'.format(weight_for_0))\n",
    "print('Weight for class 1 (Leavers): {:.2f}'.format(weight_for_1))"
   ]
  },
  {
   "cell_type": "markdown",
   "metadata": {},
   "source": [
    "### A.2. Oversampled Series (SMOTE)\n",
    "In order to minimize impact of the imbalance on the original dataset, We'll be using SMOTE to generate artificial data based on the k nearest neighbours of the train data subset."
   ]
  },
  {
   "cell_type": "code",
   "execution_count": 8,
   "metadata": {
    "pycharm": {
     "is_executing": false
    }
   },
   "outputs": [
    {
     "name": "stderr",
     "output_type": "stream",
     "text": [
      "Using TensorFlow backend.\n"
     ]
    }
   ],
   "source": [
    "from imblearn.over_sampling import SMOTE"
   ]
  },
  {
   "cell_type": "code",
   "execution_count": 9,
   "metadata": {},
   "outputs": [
    {
     "data": {
      "image/png": "[encoded data removed]",
      "text/plain": [
       "<Figure size 720x360 with 2 Axes>"
      ]
     },
     "metadata": {
      "needs_background": "light"
     },
     "output_type": "display_data"
    },
    {
     "name": "stdout",
     "output_type": "stream",
     "text": [
      "The best number of clusters is 5\n"
     ]
    }
   ],
   "source": [
    "n_kn = plot_elbow_kmeans(train_features_norm, 20)"
   ]
  },
  {
   "cell_type": "code",
   "execution_count": 10,
   "metadata": {},
   "outputs": [],
   "source": [
    "smote = SMOTE(\n",
    "    k_neighbors=n_kn,\n",
    "    random_state=0,\n",
    "    n_jobs=-1\n",
    ")"
   ]
  },
  {
   "cell_type": "code",
   "execution_count": 11,
   "metadata": {
    "pycharm": {
     "is_executing": false
    }
   },
   "outputs": [],
   "source": [
    "# producing the data subset oversampled\n",
    "X_SMOTE, y_SMOTE = smote.fit_sample(train_features_norm, train_labels)\n",
    "\n",
    "X_SMOTE_mm = minmax.fit_transform(X_SMOTE)"
   ]
  },
  {
   "cell_type": "markdown",
   "metadata": {},
   "source": [
    "This data subset will have equal weights for both classes of the target labels. In this case the artificial data produced belong to class '1', the employees who have left the company (Attrition = Yes)"
   ]
  },
  {
   "cell_type": "markdown",
   "metadata": {
    "toc-hr-collapsed": true
   },
   "source": [
    "## 1. XGBoost"
   ]
  },
  {
   "cell_type": "markdown",
   "metadata": {
    "toc-hr-collapsed": false
   },
   "source": [
    "### 1.1. Imbalanced Series"
   ]
  },
  {
   "cell_type": "markdown",
   "metadata": {},
   "source": [
    "#### 1.1.1. Optimization - GridSearch & Stratified K-Fold CV"
   ]
  },
  {
   "cell_type": "code",
   "execution_count": 12,
   "metadata": {
    "pycharm": {
     "is_executing": false
    }
   },
   "outputs": [
    {
     "name": "stdout",
     "output_type": "stream",
     "text": [
      "Fitting 10 folds for each of 144 candidates, totalling 1440 fits\n"
     ]
    },
    {
     "name": "stderr",
     "output_type": "stream",
     "text": [
      "[Parallel(n_jobs=-1)]: Using backend LokyBackend with 12 concurrent workers.\n",
      "[Parallel(n_jobs=-1)]: Done  17 tasks      | elapsed:    6.3s\n",
      "[Parallel(n_jobs=-1)]: Done 138 tasks      | elapsed:   25.8s\n",
      "[Parallel(n_jobs=-1)]: Done 341 tasks      | elapsed:  1.1min\n",
      "[Parallel(n_jobs=-1)]: Done 624 tasks      | elapsed:  2.0min\n",
      "[Parallel(n_jobs=-1)]: Done 989 tasks      | elapsed:  3.7min\n",
      "[Parallel(n_jobs=-1)]: Done 1440 out of 1440 | elapsed:  5.9min finished\n",
      "C:\\ProgramData\\Anaconda3\\lib\\site-packages\\sklearn\\model_selection\\_search.py:814: DeprecationWarning: The default of the `iid` parameter will change from True to False in version 0.22 and will be removed in 0.24. This will change numeric results when test-set sizes are unequal.\n",
      "  DeprecationWarning)\n"
     ]
    },
    {
     "name": "stdout",
     "output_type": "stream",
     "text": [
      "XGBClassifier(base_score=0.5, booster='gbtree', colsample_bylevel=1,\n",
      "              colsample_bynode=1, colsample_bytree=1, gamma=0,\n",
      "              learning_rate=0.05, max_delta_step=0, max_depth=4,\n",
      "              min_child_weight=1, missing=None, n_estimators=2000, n_jobs=-1,\n",
      "              nthread=None, objective='binary:logistic', random_state=0,\n",
      "              reg_alpha=0, reg_lambda=1, scale_pos_weight=0.1918918918918919,\n",
      "              seed=123, silent=None, subsample=0.5, verbosity=0)\n"
     ]
    }
   ],
   "source": [
    "# fit model on training data\n",
    "parameters_XGB = {\n",
    "    'objective':['binary:logistic'],\n",
    "    'learning_rate': [0.01, 0.05, 0.1],\n",
    "    'max_depth': [i for i in range(3,7)],\n",
    "    'subsample': [0.5, 1],\n",
    "    'colsample_bytree': [0.5, 1],\n",
    "    'n_estimators': [100, 1000, 2000],\n",
    "    'seed': [123]}\n",
    "\n",
    "model_XGB = grids_skf_xgb(\n",
    "    train_features,\n",
    "    train_labels, \n",
    "    parameters_XGB, \n",
    "    pos_t/neg_t, \n",
    "    n_folds\n",
    ")"
   ]
  },
  {
   "cell_type": "markdown",
   "metadata": {},
   "source": [
    "#### 1.1.2. Evaluation - Stratified K-Fold CV"
   ]
  },
  {
   "cell_type": "code",
   "execution_count": 13,
   "metadata": {},
   "outputs": [
    {
     "name": "stdout",
     "output_type": "stream",
     "text": [
      "Training on fold 1/10...\n",
      "Training on fold 2/10...\n",
      "Training on fold 3/10...\n",
      "Training on fold 4/10...\n",
      "Training on fold 5/10...\n",
      "Training on fold 6/10...\n",
      "Training on fold 7/10...\n",
      "Training on fold 8/10...\n",
      "Training on fold 9/10...\n",
      "Training on fold 10/10...\n",
      "...Done\n"
     ]
    }
   ],
   "source": [
    "# Loop through the indices the split() method returns\n",
    "for index, (train_indices, val_indices) in enumerate(skf.split(train_features_norm, train_labels)):\n",
    "    print(\"Training on fold \" + str(index+1) + \"/\" + str(skf.n_splits) + \"...\")\n",
    "    # Generate batches from indices\n",
    "    xtrain, xval = train_features_norm[train_indices], train_features_norm[val_indices]\n",
    "    ytrain, yval = train_labels[train_indices], train_labels[val_indices]\n",
    "    \n",
    "    # train model\n",
    "    model_XGB.fit(xtrain, ytrain)\n",
    "    \n",
    "    m_summary = save_metrics(m_summary, 'model_XGB', ytrain, model_XGB.predict_proba(xtrain)[:, 1], split_data='train', series='imbalanced')\n",
    "    m_summary = save_metrics(m_summary, 'model_XGB', yval, model_XGB.predict_proba(xval)[:, 1], split_data='val', series='imbalanced')\n",
    "    m_summary = save_metrics(m_summary, 'model_XGB', test_labels, model_XGB.predict_proba(test_features)[:, 1], split_data='test', series='imbalanced')\n",
    "print('...Done')"
   ]
  },
  {
   "cell_type": "markdown",
   "metadata": {},
   "source": [
    "### 1.2. Oversampling Series"
   ]
  },
  {
   "cell_type": "markdown",
   "metadata": {},
   "source": [
    "#### 1.2.1. Optimization - GridSearch & Stratified K-Fold CV"
   ]
  },
  {
   "cell_type": "code",
   "execution_count": 14,
   "metadata": {
    "pycharm": {
     "is_executing": false
    }
   },
   "outputs": [
    {
     "name": "stdout",
     "output_type": "stream",
     "text": [
      "Fitting 5 folds for each of 144 candidates, totalling 720 fits\n"
     ]
    },
    {
     "name": "stderr",
     "output_type": "stream",
     "text": [
      "[Parallel(n_jobs=-1)]: Using backend LokyBackend with 12 concurrent workers.\n",
      "[Parallel(n_jobs=-1)]: Done  17 tasks      | elapsed:    9.1s\n",
      "[Parallel(n_jobs=-1)]: Done 138 tasks      | elapsed:   49.6s\n",
      "[Parallel(n_jobs=-1)]: Done 341 tasks      | elapsed:  1.8min\n",
      "[Parallel(n_jobs=-1)]: Done 624 tasks      | elapsed:  4.2min\n",
      "[Parallel(n_jobs=-1)]: Done 720 out of 720 | elapsed:  4.9min finished\n"
     ]
    },
    {
     "name": "stdout",
     "output_type": "stream",
     "text": [
      "XGBClassifier(base_score=0.5, booster='gbtree', colsample_bylevel=1,\n",
      "              colsample_bynode=1, colsample_bytree=1, gamma=0,\n",
      "              learning_rate=0.05, max_delta_step=0, max_depth=5,\n",
      "              min_child_weight=1, missing=None, n_estimators=2000, n_jobs=-1,\n",
      "              nthread=None, objective='binary:logistic', random_state=0,\n",
      "              reg_alpha=0, reg_lambda=1, scale_pos_weight=10, seed=123,\n",
      "              silent=None, subsample=0.5, verbosity=0)\n"
     ]
    }
   ],
   "source": [
    "# fit model on training data\n",
    "model_XGB_smote = grids_skf_xgb(\n",
    "    X_SMOTE_mm,\n",
    "    y_SMOTE, \n",
    "    parameters_XGB, \n",
    "    n_folds\n",
    ")"
   ]
  },
  {
   "cell_type": "markdown",
   "metadata": {},
   "source": [
    "#### 1.2.2. Evaluation - Stratified K-Fold CV"
   ]
  },
  {
   "cell_type": "code",
   "execution_count": 15,
   "metadata": {},
   "outputs": [
    {
     "name": "stdout",
     "output_type": "stream",
     "text": [
      "Training on fold 1/10...\n"
     ]
    },
    {
     "name": "stderr",
     "output_type": "stream",
     "text": [
      "C:\\ProgramData\\Anaconda3\\lib\\site-packages\\sklearn\\metrics\\classification.py:1437: UndefinedMetricWarning: Precision is ill-defined and being set to 0.0 due to no predicted samples.\n",
      "  'precision', 'predicted', average, warn_for)\n",
      "C:\\ProgramData\\Anaconda3\\lib\\site-packages\\sklearn\\metrics\\classification.py:1437: UndefinedMetricWarning: F-score is ill-defined and being set to 0.0 due to no predicted samples.\n",
      "  'precision', 'predicted', average, warn_for)\n",
      "C:\\ProgramData\\Anaconda3\\lib\\site-packages\\sklearn\\metrics\\classification.py:872: RuntimeWarning: invalid value encountered in double_scalars\n",
      "  mcc = cov_ytyp / np.sqrt(cov_ytyt * cov_ypyp)\n"
     ]
    },
    {
     "name": "stdout",
     "output_type": "stream",
     "text": [
      "Training on fold 2/10...\n",
      "Training on fold 3/10...\n"
     ]
    },
    {
     "name": "stderr",
     "output_type": "stream",
     "text": [
      "C:\\ProgramData\\Anaconda3\\lib\\site-packages\\sklearn\\metrics\\classification.py:1437: UndefinedMetricWarning: Precision is ill-defined and being set to 0.0 due to no predicted samples.\n",
      "  'precision', 'predicted', average, warn_for)\n",
      "C:\\ProgramData\\Anaconda3\\lib\\site-packages\\sklearn\\metrics\\classification.py:1437: UndefinedMetricWarning: F-score is ill-defined and being set to 0.0 due to no predicted samples.\n",
      "  'precision', 'predicted', average, warn_for)\n",
      "C:\\ProgramData\\Anaconda3\\lib\\site-packages\\sklearn\\metrics\\classification.py:872: RuntimeWarning: invalid value encountered in double_scalars\n",
      "  mcc = cov_ytyp / np.sqrt(cov_ytyt * cov_ypyp)\n"
     ]
    },
    {
     "name": "stdout",
     "output_type": "stream",
     "text": [
      "Training on fold 4/10...\n"
     ]
    },
    {
     "name": "stderr",
     "output_type": "stream",
     "text": [
      "C:\\ProgramData\\Anaconda3\\lib\\site-packages\\sklearn\\metrics\\classification.py:1437: UndefinedMetricWarning: Precision is ill-defined and being set to 0.0 due to no predicted samples.\n",
      "  'precision', 'predicted', average, warn_for)\n",
      "C:\\ProgramData\\Anaconda3\\lib\\site-packages\\sklearn\\metrics\\classification.py:1437: UndefinedMetricWarning: F-score is ill-defined and being set to 0.0 due to no predicted samples.\n",
      "  'precision', 'predicted', average, warn_for)\n",
      "C:\\ProgramData\\Anaconda3\\lib\\site-packages\\sklearn\\metrics\\classification.py:872: RuntimeWarning: invalid value encountered in double_scalars\n",
      "  mcc = cov_ytyp / np.sqrt(cov_ytyt * cov_ypyp)\n"
     ]
    },
    {
     "name": "stdout",
     "output_type": "stream",
     "text": [
      "Training on fold 5/10...\n"
     ]
    },
    {
     "name": "stderr",
     "output_type": "stream",
     "text": [
      "C:\\ProgramData\\Anaconda3\\lib\\site-packages\\sklearn\\metrics\\classification.py:1437: UndefinedMetricWarning: Precision is ill-defined and being set to 0.0 due to no predicted samples.\n",
      "  'precision', 'predicted', average, warn_for)\n",
      "C:\\ProgramData\\Anaconda3\\lib\\site-packages\\sklearn\\metrics\\classification.py:1437: UndefinedMetricWarning: F-score is ill-defined and being set to 0.0 due to no predicted samples.\n",
      "  'precision', 'predicted', average, warn_for)\n",
      "C:\\ProgramData\\Anaconda3\\lib\\site-packages\\sklearn\\metrics\\classification.py:872: RuntimeWarning: invalid value encountered in double_scalars\n",
      "  mcc = cov_ytyp / np.sqrt(cov_ytyt * cov_ypyp)\n"
     ]
    },
    {
     "name": "stdout",
     "output_type": "stream",
     "text": [
      "Training on fold 6/10...\n"
     ]
    },
    {
     "name": "stderr",
     "output_type": "stream",
     "text": [
      "C:\\ProgramData\\Anaconda3\\lib\\site-packages\\sklearn\\metrics\\classification.py:1437: UndefinedMetricWarning: Precision is ill-defined and being set to 0.0 due to no predicted samples.\n",
      "  'precision', 'predicted', average, warn_for)\n",
      "C:\\ProgramData\\Anaconda3\\lib\\site-packages\\sklearn\\metrics\\classification.py:1437: UndefinedMetricWarning: F-score is ill-defined and being set to 0.0 due to no predicted samples.\n",
      "  'precision', 'predicted', average, warn_for)\n",
      "C:\\ProgramData\\Anaconda3\\lib\\site-packages\\sklearn\\metrics\\classification.py:872: RuntimeWarning: invalid value encountered in double_scalars\n",
      "  mcc = cov_ytyp / np.sqrt(cov_ytyt * cov_ypyp)\n"
     ]
    },
    {
     "name": "stdout",
     "output_type": "stream",
     "text": [
      "Training on fold 7/10...\n"
     ]
    },
    {
     "name": "stderr",
     "output_type": "stream",
     "text": [
      "C:\\ProgramData\\Anaconda3\\lib\\site-packages\\sklearn\\metrics\\classification.py:1437: UndefinedMetricWarning: Precision is ill-defined and being set to 0.0 due to no predicted samples.\n",
      "  'precision', 'predicted', average, warn_for)\n",
      "C:\\ProgramData\\Anaconda3\\lib\\site-packages\\sklearn\\metrics\\classification.py:1437: UndefinedMetricWarning: F-score is ill-defined and being set to 0.0 due to no predicted samples.\n",
      "  'precision', 'predicted', average, warn_for)\n",
      "C:\\ProgramData\\Anaconda3\\lib\\site-packages\\sklearn\\metrics\\classification.py:872: RuntimeWarning: invalid value encountered in double_scalars\n",
      "  mcc = cov_ytyp / np.sqrt(cov_ytyt * cov_ypyp)\n"
     ]
    },
    {
     "name": "stdout",
     "output_type": "stream",
     "text": [
      "Training on fold 8/10...\n"
     ]
    },
    {
     "name": "stderr",
     "output_type": "stream",
     "text": [
      "C:\\ProgramData\\Anaconda3\\lib\\site-packages\\sklearn\\metrics\\classification.py:1437: UndefinedMetricWarning: Precision is ill-defined and being set to 0.0 due to no predicted samples.\n",
      "  'precision', 'predicted', average, warn_for)\n",
      "C:\\ProgramData\\Anaconda3\\lib\\site-packages\\sklearn\\metrics\\classification.py:1437: UndefinedMetricWarning: F-score is ill-defined and being set to 0.0 due to no predicted samples.\n",
      "  'precision', 'predicted', average, warn_for)\n",
      "C:\\ProgramData\\Anaconda3\\lib\\site-packages\\sklearn\\metrics\\classification.py:872: RuntimeWarning: invalid value encountered in double_scalars\n",
      "  mcc = cov_ytyp / np.sqrt(cov_ytyt * cov_ypyp)\n"
     ]
    },
    {
     "name": "stdout",
     "output_type": "stream",
     "text": [
      "Training on fold 9/10...\n"
     ]
    },
    {
     "name": "stderr",
     "output_type": "stream",
     "text": [
      "C:\\ProgramData\\Anaconda3\\lib\\site-packages\\sklearn\\metrics\\classification.py:1437: UndefinedMetricWarning: Precision is ill-defined and being set to 0.0 due to no predicted samples.\n",
      "  'precision', 'predicted', average, warn_for)\n",
      "C:\\ProgramData\\Anaconda3\\lib\\site-packages\\sklearn\\metrics\\classification.py:1437: UndefinedMetricWarning: F-score is ill-defined and being set to 0.0 due to no predicted samples.\n",
      "  'precision', 'predicted', average, warn_for)\n",
      "C:\\ProgramData\\Anaconda3\\lib\\site-packages\\sklearn\\metrics\\classification.py:872: RuntimeWarning: invalid value encountered in double_scalars\n",
      "  mcc = cov_ytyp / np.sqrt(cov_ytyt * cov_ypyp)\n"
     ]
    },
    {
     "name": "stdout",
     "output_type": "stream",
     "text": [
      "Training on fold 10/10...\n",
      "...Done\n"
     ]
    },
    {
     "name": "stderr",
     "output_type": "stream",
     "text": [
      "C:\\ProgramData\\Anaconda3\\lib\\site-packages\\sklearn\\metrics\\classification.py:1437: UndefinedMetricWarning: Precision is ill-defined and being set to 0.0 due to no predicted samples.\n",
      "  'precision', 'predicted', average, warn_for)\n",
      "C:\\ProgramData\\Anaconda3\\lib\\site-packages\\sklearn\\metrics\\classification.py:1437: UndefinedMetricWarning: F-score is ill-defined and being set to 0.0 due to no predicted samples.\n",
      "  'precision', 'predicted', average, warn_for)\n",
      "C:\\ProgramData\\Anaconda3\\lib\\site-packages\\sklearn\\metrics\\classification.py:872: RuntimeWarning: invalid value encountered in double_scalars\n",
      "  mcc = cov_ytyp / np.sqrt(cov_ytyt * cov_ypyp)\n"
     ]
    }
   ],
   "source": [
    "# Loop through the indices the split() method returns\n",
    "for index, (train_indices, val_indices) in enumerate(skf.split(train_features_v, train_labels)):\n",
    "    print(\"Training on fold \" + str(index+1) + \"/\" + str(skf.n_splits) + \"...\")\n",
    "    # Generate batches from indices\n",
    "    xtrain, xval = train_features_v[train_indices], train_features_v[val_indices]\n",
    "    ytrain, yval = train_labels[train_indices], train_labels[val_indices]\n",
    "    \n",
    "    # Oversampling training sets\n",
    "    xtrain_SMOTE, ytrain_SMOTE = smote.fit_sample(xtrain, ytrain)\n",
    "    xtrain_SMOTE = minmax.fit_transform(xtrain_SMOTE)\n",
    "    \n",
    "    # train model\n",
    "    model_XGB_smote.fit(xtrain_SMOTE, ytrain_SMOTE)\n",
    "    \n",
    "    m_summary = save_metrics(m_summary, 'model_XGB', ytrain_SMOTE, model_XGB_smote.predict_proba(xtrain_SMOTE)[:, 1], split_data='train', series='SMOTE')\n",
    "    m_summary = save_metrics(m_summary, 'model_XGB', yval, model_XGB_smote.predict_proba(xval)[:, 1], split_data='val', series='SMOTE')\n",
    "    m_summary = save_metrics(m_summary, 'model_XGB', test_labels, model_XGB_smote.predict_proba(test_features)[:, 1], split_data='test', series='SMOTE')\n",
    "print('...Done')"
   ]
  },
  {
   "cell_type": "markdown",
   "metadata": {
    "toc-hr-collapsed": true
   },
   "source": [
    "## 2. Logistic Regression"
   ]
  },
  {
   "cell_type": "markdown",
   "metadata": {
    "toc-hr-collapsed": false
   },
   "source": [
    "### 2.1. Imbalanced Series"
   ]
  },
  {
   "cell_type": "markdown",
   "metadata": {},
   "source": [
    "#### 2.1.1. Optimization - GridSearch & Stratified K-Fold CV"
   ]
  },
  {
   "cell_type": "code",
   "execution_count": 16,
   "metadata": {
    "pycharm": {
     "is_executing": false
    }
   },
   "outputs": [
    {
     "name": "stdout",
     "output_type": "stream",
     "text": [
      "Fitting 10 folds for each of 72 candidates, totalling 720 fits\n"
     ]
    },
    {
     "name": "stderr",
     "output_type": "stream",
     "text": [
      "[Parallel(n_jobs=-1)]: Using backend LokyBackend with 12 concurrent workers.\n",
      "[Parallel(n_jobs=-1)]: Done  26 tasks      | elapsed:    9.1s\n",
      "[Parallel(n_jobs=-1)]: Done 176 tasks      | elapsed:   16.8s\n",
      "[Parallel(n_jobs=-1)]: Done 594 tasks      | elapsed:   28.1s\n"
     ]
    },
    {
     "name": "stdout",
     "output_type": "stream",
     "text": [
      "LogisticRegression(C=1,\n",
      "                   class_weight={0: 0.595945945945946, 1: 3.1056338028169015},\n",
      "                   dual=False, fit_intercept=True, intercept_scaling=1,\n",
      "                   l1_ratio=None, max_iter=10000, multi_class='ovr', n_jobs=-1,\n",
      "                   penalty='l2', random_state=0, solver='liblinear', tol=0.0001,\n",
      "                   verbose=0, warm_start=True)\n"
     ]
    },
    {
     "name": "stderr",
     "output_type": "stream",
     "text": [
      "[Parallel(n_jobs=-1)]: Done 720 out of 720 | elapsed:  1.1min finished\n",
      "C:\\ProgramData\\Anaconda3\\lib\\site-packages\\sklearn\\linear_model\\logistic.py:1544: UserWarning: 'n_jobs' > 1 does not have any effect when 'solver' is set to 'liblinear'. Got 'n_jobs' = 12.\n",
      "  \" = {}.\".format(effective_n_jobs(self.n_jobs)))\n"
     ]
    }
   ],
   "source": [
    "parameters_log = [{\n",
    "    'solver' : ['sag'],\n",
    "    'C' : [1, 10, 100],\n",
    "    'max_iter': [10000],\n",
    "    'penalty' : ('none', 'l2'),\n",
    "    'warm_start' : (True, False),\n",
    "    'fit_intercept' : [True, False]\n",
    "},{\n",
    "    'solver' : ['liblinear', 'saga'], \n",
    "    'C' : [1, 10, 100],\n",
    "    'max_iter': [10000],\n",
    "    'penalty' : ('l1', 'l2'),\n",
    "    'warm_start' : (True, False),\n",
    "    'fit_intercept' : [True, False]\n",
    "}]\n",
    "\n",
    "model_logistic = grids_skf_lr(\n",
    "    train_features,\n",
    "    train_labels, \n",
    "    parameters_log, \n",
    "    class_weights, \n",
    "    n_folds\n",
    ")"
   ]
  },
  {
   "cell_type": "markdown",
   "metadata": {},
   "source": [
    "#### 2.1.2. Evaluation - Stratified K-Fold CV"
   ]
  },
  {
   "cell_type": "code",
   "execution_count": 17,
   "metadata": {},
   "outputs": [
    {
     "name": "stdout",
     "output_type": "stream",
     "text": [
      "Training on fold 1/10...\n",
      "Training on fold 2/10...\n",
      "Training on fold 3/10...\n",
      "Training on fold 4/10...\n",
      "Training on fold 5/10..."
     ]
    },
    {
     "name": "stderr",
     "output_type": "stream",
     "text": [
      "C:\\ProgramData\\Anaconda3\\lib\\site-packages\\sklearn\\linear_model\\logistic.py:1544: UserWarning: 'n_jobs' > 1 does not have any effect when 'solver' is set to 'liblinear'. Got 'n_jobs' = 12.\n",
      "  \" = {}.\".format(effective_n_jobs(self.n_jobs)))\n",
      "C:\\ProgramData\\Anaconda3\\lib\\site-packages\\sklearn\\linear_model\\logistic.py:1544: UserWarning: 'n_jobs' > 1 does not have any effect when 'solver' is set to 'liblinear'. Got 'n_jobs' = 12.\n",
      "  \" = {}.\".format(effective_n_jobs(self.n_jobs)))\n",
      "C:\\ProgramData\\Anaconda3\\lib\\site-packages\\sklearn\\linear_model\\logistic.py:1544: UserWarning: 'n_jobs' > 1 does not have any effect when 'solver' is set to 'liblinear'. Got 'n_jobs' = 12.\n",
      "  \" = {}.\".format(effective_n_jobs(self.n_jobs)))\n",
      "C:\\ProgramData\\Anaconda3\\lib\\site-packages\\sklearn\\linear_model\\logistic.py:1544: UserWarning: 'n_jobs' > 1 does not have any effect when 'solver' is set to 'liblinear'. Got 'n_jobs' = 12.\n",
      "  \" = {}.\".format(effective_n_jobs(self.n_jobs)))\n"
     ]
    },
    {
     "name": "stdout",
     "output_type": "stream",
     "text": [
      "\n",
      "Training on fold 6/10...\n",
      "Training on fold 7/10...\n",
      "Training on fold 8/10...\n",
      "Training on fold 9/10..."
     ]
    },
    {
     "name": "stderr",
     "output_type": "stream",
     "text": [
      "C:\\ProgramData\\Anaconda3\\lib\\site-packages\\sklearn\\linear_model\\logistic.py:1544: UserWarning: 'n_jobs' > 1 does not have any effect when 'solver' is set to 'liblinear'. Got 'n_jobs' = 12.\n",
      "  \" = {}.\".format(effective_n_jobs(self.n_jobs)))\n",
      "C:\\ProgramData\\Anaconda3\\lib\\site-packages\\sklearn\\linear_model\\logistic.py:1544: UserWarning: 'n_jobs' > 1 does not have any effect when 'solver' is set to 'liblinear'. Got 'n_jobs' = 12.\n",
      "  \" = {}.\".format(effective_n_jobs(self.n_jobs)))\n",
      "C:\\ProgramData\\Anaconda3\\lib\\site-packages\\sklearn\\linear_model\\logistic.py:1544: UserWarning: 'n_jobs' > 1 does not have any effect when 'solver' is set to 'liblinear'. Got 'n_jobs' = 12.\n",
      "  \" = {}.\".format(effective_n_jobs(self.n_jobs)))\n",
      "C:\\ProgramData\\Anaconda3\\lib\\site-packages\\sklearn\\linear_model\\logistic.py:1544: UserWarning: 'n_jobs' > 1 does not have any effect when 'solver' is set to 'liblinear'. Got 'n_jobs' = 12.\n",
      "  \" = {}.\".format(effective_n_jobs(self.n_jobs)))\n"
     ]
    },
    {
     "name": "stdout",
     "output_type": "stream",
     "text": [
      "\n",
      "Training on fold 10/10...\n",
      "...Done\n"
     ]
    },
    {
     "name": "stderr",
     "output_type": "stream",
     "text": [
      "C:\\ProgramData\\Anaconda3\\lib\\site-packages\\sklearn\\linear_model\\logistic.py:1544: UserWarning: 'n_jobs' > 1 does not have any effect when 'solver' is set to 'liblinear'. Got 'n_jobs' = 12.\n",
      "  \" = {}.\".format(effective_n_jobs(self.n_jobs)))\n",
      "C:\\ProgramData\\Anaconda3\\lib\\site-packages\\sklearn\\linear_model\\logistic.py:1544: UserWarning: 'n_jobs' > 1 does not have any effect when 'solver' is set to 'liblinear'. Got 'n_jobs' = 12.\n",
      "  \" = {}.\".format(effective_n_jobs(self.n_jobs)))\n"
     ]
    }
   ],
   "source": [
    "# Loop through the indices the split() method returns\n",
    "for index, (train_indices, val_indices) in enumerate(skf.split(train_features_norm, train_labels)):\n",
    "    print(\"Training on fold \" + str(index+1) + \"/\" + str(skf.n_splits) + \"...\")\n",
    "    # Generate batches from indices\n",
    "    xtrain, xval = train_features_norm[train_indices], train_features_norm[val_indices]\n",
    "    ytrain, yval = train_labels[train_indices], train_labels[val_indices]\n",
    "    \n",
    "    # train model\n",
    "    model_logistic.fit(xtrain, ytrain)\n",
    "    \n",
    "    m_summary = save_metrics(m_summary, 'model_logistic', ytrain, model_logistic.predict_proba(xtrain)[:, 1], split_data='train', series='imbalanced')\n",
    "    m_summary = save_metrics(m_summary, 'model_logistic', yval, model_logistic.predict_proba(xval)[:, 1], split_data='val', series='imbalanced')\n",
    "    m_summary = save_metrics(m_summary, 'model_logistic', test_labels, model_logistic.predict_proba(test_features)[:, 1], split_data='test', series='imbalanced')\n",
    "print('...Done')"
   ]
  },
  {
   "cell_type": "markdown",
   "metadata": {},
   "source": [
    "### 2.2. Oversampling Series"
   ]
  },
  {
   "cell_type": "markdown",
   "metadata": {},
   "source": [
    "#### 2.2.1. Optimization - GridSearch & Stratified K-Fold CV"
   ]
  },
  {
   "cell_type": "code",
   "execution_count": 18,
   "metadata": {},
   "outputs": [
    {
     "name": "stdout",
     "output_type": "stream",
     "text": [
      "Fitting 10 folds for each of 72 candidates, totalling 720 fits\n"
     ]
    },
    {
     "name": "stderr",
     "output_type": "stream",
     "text": [
      "[Parallel(n_jobs=-1)]: Using backend LokyBackend with 12 concurrent workers.\n",
      "[Parallel(n_jobs=-1)]: Done  26 tasks      | elapsed:    9.1s\n",
      "[Parallel(n_jobs=-1)]: Done 176 tasks      | elapsed:   18.8s\n",
      "[Parallel(n_jobs=-1)]: Done 519 tasks      | elapsed:   28.3s\n"
     ]
    },
    {
     "name": "stdout",
     "output_type": "stream",
     "text": [
      "LogisticRegression(C=1, class_weight={0: 1, 1: 1}, dual=False,\n",
      "                   fit_intercept=True, intercept_scaling=1, l1_ratio=None,\n",
      "                   max_iter=10000, multi_class='ovr', n_jobs=-1, penalty='l2',\n",
      "                   random_state=0, solver='liblinear', tol=0.0001, verbose=0,\n",
      "                   warm_start=True)\n"
     ]
    },
    {
     "name": "stderr",
     "output_type": "stream",
     "text": [
      "[Parallel(n_jobs=-1)]: Done 720 out of 720 | elapsed:   40.2s finished\n",
      "C:\\ProgramData\\Anaconda3\\lib\\site-packages\\sklearn\\linear_model\\logistic.py:1544: UserWarning: 'n_jobs' > 1 does not have any effect when 'solver' is set to 'liblinear'. Got 'n_jobs' = 12.\n",
      "  \" = {}.\".format(effective_n_jobs(self.n_jobs)))\n"
     ]
    }
   ],
   "source": [
    "model_logistic_smote = grids_skf_lr(\n",
    "    X_SMOTE_mm,\n",
    "    y_SMOTE, \n",
    "    parameters_log,\n",
    "    {0: 1, 1: 1},\n",
    "    n_folds\n",
    ")"
   ]
  },
  {
   "cell_type": "markdown",
   "metadata": {},
   "source": [
    "#### 2.2.2. Evaluation - Stratified K-Fold CV"
   ]
  },
  {
   "cell_type": "code",
   "execution_count": 19,
   "metadata": {},
   "outputs": [
    {
     "name": "stderr",
     "output_type": "stream",
     "text": [
      "C:\\ProgramData\\Anaconda3\\lib\\site-packages\\sklearn\\linear_model\\logistic.py:1544: UserWarning: 'n_jobs' > 1 does not have any effect when 'solver' is set to 'liblinear'. Got 'n_jobs' = 12.\n",
      "  \" = {}.\".format(effective_n_jobs(self.n_jobs)))\n"
     ]
    },
    {
     "name": "stdout",
     "output_type": "stream",
     "text": [
      "Training on fold 1/10...\n",
      "Training on fold 2/10...\n"
     ]
    },
    {
     "name": "stderr",
     "output_type": "stream",
     "text": [
      "C:\\ProgramData\\Anaconda3\\lib\\site-packages\\sklearn\\metrics\\classification.py:872: RuntimeWarning: invalid value encountered in double_scalars\n",
      "  mcc = cov_ytyp / np.sqrt(cov_ytyt * cov_ypyp)\n",
      "C:\\ProgramData\\Anaconda3\\lib\\site-packages\\sklearn\\linear_model\\logistic.py:1544: UserWarning: 'n_jobs' > 1 does not have any effect when 'solver' is set to 'liblinear'. Got 'n_jobs' = 12.\n",
      "  \" = {}.\".format(effective_n_jobs(self.n_jobs)))\n",
      "C:\\ProgramData\\Anaconda3\\lib\\site-packages\\sklearn\\metrics\\classification.py:872: RuntimeWarning: invalid value encountered in double_scalars\n",
      "  mcc = cov_ytyp / np.sqrt(cov_ytyt * cov_ypyp)\n"
     ]
    },
    {
     "name": "stdout",
     "output_type": "stream",
     "text": [
      "Training on fold 3/10..."
     ]
    },
    {
     "name": "stderr",
     "output_type": "stream",
     "text": [
      "C:\\ProgramData\\Anaconda3\\lib\\site-packages\\sklearn\\linear_model\\logistic.py:1544: UserWarning: 'n_jobs' > 1 does not have any effect when 'solver' is set to 'liblinear'. Got 'n_jobs' = 12.\n",
      "  \" = {}.\".format(effective_n_jobs(self.n_jobs)))\n",
      "C:\\ProgramData\\Anaconda3\\lib\\site-packages\\sklearn\\metrics\\classification.py:872: RuntimeWarning: invalid value encountered in double_scalars\n",
      "  mcc = cov_ytyp / np.sqrt(cov_ytyt * cov_ypyp)\n"
     ]
    },
    {
     "name": "stdout",
     "output_type": "stream",
     "text": [
      "\n",
      "Training on fold 4/10...\n"
     ]
    },
    {
     "name": "stderr",
     "output_type": "stream",
     "text": [
      "C:\\ProgramData\\Anaconda3\\lib\\site-packages\\sklearn\\linear_model\\logistic.py:1544: UserWarning: 'n_jobs' > 1 does not have any effect when 'solver' is set to 'liblinear'. Got 'n_jobs' = 12.\n",
      "  \" = {}.\".format(effective_n_jobs(self.n_jobs)))\n",
      "C:\\ProgramData\\Anaconda3\\lib\\site-packages\\sklearn\\metrics\\classification.py:872: RuntimeWarning: invalid value encountered in double_scalars\n",
      "  mcc = cov_ytyp / np.sqrt(cov_ytyt * cov_ypyp)\n",
      "C:\\ProgramData\\Anaconda3\\lib\\site-packages\\sklearn\\linear_model\\logistic.py:1544: UserWarning: 'n_jobs' > 1 does not have any effect when 'solver' is set to 'liblinear'. Got 'n_jobs' = 12.\n",
      "  \" = {}.\".format(effective_n_jobs(self.n_jobs)))\n",
      "C:\\ProgramData\\Anaconda3\\lib\\site-packages\\sklearn\\metrics\\classification.py:872: RuntimeWarning: invalid value encountered in double_scalars\n",
      "  mcc = cov_ytyp / np.sqrt(cov_ytyt * cov_ypyp)\n"
     ]
    },
    {
     "name": "stdout",
     "output_type": "stream",
     "text": [
      "Training on fold 5/10...\n",
      "Training on fold 6/10...\n"
     ]
    },
    {
     "name": "stderr",
     "output_type": "stream",
     "text": [
      "C:\\ProgramData\\Anaconda3\\lib\\site-packages\\sklearn\\linear_model\\logistic.py:1544: UserWarning: 'n_jobs' > 1 does not have any effect when 'solver' is set to 'liblinear'. Got 'n_jobs' = 12.\n",
      "  \" = {}.\".format(effective_n_jobs(self.n_jobs)))\n",
      "C:\\ProgramData\\Anaconda3\\lib\\site-packages\\sklearn\\metrics\\classification.py:872: RuntimeWarning: invalid value encountered in double_scalars\n",
      "  mcc = cov_ytyp / np.sqrt(cov_ytyt * cov_ypyp)\n",
      "C:\\ProgramData\\Anaconda3\\lib\\site-packages\\sklearn\\linear_model\\logistic.py:1544: UserWarning: 'n_jobs' > 1 does not have any effect when 'solver' is set to 'liblinear'. Got 'n_jobs' = 12.\n",
      "  \" = {}.\".format(effective_n_jobs(self.n_jobs)))\n",
      "C:\\ProgramData\\Anaconda3\\lib\\site-packages\\sklearn\\metrics\\classification.py:872: RuntimeWarning: invalid value encountered in double_scalars\n",
      "  mcc = cov_ytyp / np.sqrt(cov_ytyt * cov_ypyp)\n"
     ]
    },
    {
     "name": "stdout",
     "output_type": "stream",
     "text": [
      "Training on fold 7/10...\n",
      "Training on fold 8/10...\n"
     ]
    },
    {
     "name": "stderr",
     "output_type": "stream",
     "text": [
      "C:\\ProgramData\\Anaconda3\\lib\\site-packages\\sklearn\\linear_model\\logistic.py:1544: UserWarning: 'n_jobs' > 1 does not have any effect when 'solver' is set to 'liblinear'. Got 'n_jobs' = 12.\n",
      "  \" = {}.\".format(effective_n_jobs(self.n_jobs)))\n",
      "C:\\ProgramData\\Anaconda3\\lib\\site-packages\\sklearn\\metrics\\classification.py:872: RuntimeWarning: invalid value encountered in double_scalars\n",
      "  mcc = cov_ytyp / np.sqrt(cov_ytyt * cov_ypyp)\n",
      "C:\\ProgramData\\Anaconda3\\lib\\site-packages\\sklearn\\linear_model\\logistic.py:1544: UserWarning: 'n_jobs' > 1 does not have any effect when 'solver' is set to 'liblinear'. Got 'n_jobs' = 12.\n",
      "  \" = {}.\".format(effective_n_jobs(self.n_jobs)))\n",
      "C:\\ProgramData\\Anaconda3\\lib\\site-packages\\sklearn\\metrics\\classification.py:872: RuntimeWarning: invalid value encountered in double_scalars\n",
      "  mcc = cov_ytyp / np.sqrt(cov_ytyt * cov_ypyp)\n"
     ]
    },
    {
     "name": "stdout",
     "output_type": "stream",
     "text": [
      "Training on fold 9/10...\n",
      "Training on fold 10/10...\n",
      "...Done\n"
     ]
    },
    {
     "name": "stderr",
     "output_type": "stream",
     "text": [
      "C:\\ProgramData\\Anaconda3\\lib\\site-packages\\sklearn\\linear_model\\logistic.py:1544: UserWarning: 'n_jobs' > 1 does not have any effect when 'solver' is set to 'liblinear'. Got 'n_jobs' = 12.\n",
      "  \" = {}.\".format(effective_n_jobs(self.n_jobs)))\n",
      "C:\\ProgramData\\Anaconda3\\lib\\site-packages\\sklearn\\metrics\\classification.py:872: RuntimeWarning: invalid value encountered in double_scalars\n",
      "  mcc = cov_ytyp / np.sqrt(cov_ytyt * cov_ypyp)\n"
     ]
    }
   ],
   "source": [
    "# Loop through the indices the split() method returns\n",
    "for index, (train_indices, val_indices) in enumerate(skf.split(train_features_v, train_labels)):\n",
    "    print(\"Training on fold \" + str(index+1) + \"/\" + str(skf.n_splits) + \"...\")\n",
    "    # Generate batches from indices\n",
    "    xtrain, xval = train_features_v[train_indices], train_features_v[val_indices]\n",
    "    ytrain, yval = train_labels[train_indices], train_labels[val_indices]\n",
    "    \n",
    "    # Oversampling training sets\n",
    "    xtrain_SMOTE, ytrain_SMOTE = smote.fit_sample(xtrain, ytrain)\n",
    "    xtrain_SMOTE = minmax.fit_transform(xtrain_SMOTE)\n",
    "    \n",
    "    # train model\n",
    "    model_logistic_smote.fit(xtrain_SMOTE, ytrain_SMOTE)\n",
    "    \n",
    "    m_summary = save_metrics(m_summary, 'model_logistic', ytrain_SMOTE, model_logistic.predict_proba(xtrain_SMOTE)[:, 1], split_data='train', series='SMOTE')\n",
    "    m_summary = save_metrics(m_summary, 'model_logistic', yval, model_logistic.predict_proba(xval)[:, 1], split_data='val', series='SMOTE')\n",
    "    m_summary = save_metrics(m_summary, 'model_logistic', test_labels, model_logistic.predict_proba(test_features)[:, 1], split_data='test', series='SMOTE')\n",
    "print('...Done')"
   ]
  },
  {
   "cell_type": "markdown",
   "metadata": {
    "toc-hr-collapsed": true
   },
   "source": [
    "## 3. LinearSVC"
   ]
  },
  {
   "cell_type": "markdown",
   "metadata": {
    "toc-hr-collapsed": false
   },
   "source": [
    "### 3.1. Imbalanced Series"
   ]
  },
  {
   "cell_type": "markdown",
   "metadata": {},
   "source": [
    "#### 3.1.1. Optimization - GridSearch & Stratified K-Fold CV"
   ]
  },
  {
   "cell_type": "code",
   "execution_count": 20,
   "metadata": {
    "pycharm": {
     "is_executing": false
    }
   },
   "outputs": [
    {
     "name": "stdout",
     "output_type": "stream",
     "text": [
      "Fitting 10 folds for each of 30 candidates, totalling 300 fits\n"
     ]
    },
    {
     "name": "stderr",
     "output_type": "stream",
     "text": [
      "[Parallel(n_jobs=-1)]: Using backend LokyBackend with 12 concurrent workers.\n",
      "[Parallel(n_jobs=-1)]: Done  26 tasks      | elapsed:    6.5s\n",
      "[Parallel(n_jobs=-1)]: Done 176 tasks      | elapsed:   11.3s\n",
      "[Parallel(n_jobs=-1)]: Done 300 out of 300 | elapsed:   16.1s finished\n"
     ]
    },
    {
     "name": "stdout",
     "output_type": "stream",
     "text": [
      "LinearSVC(C=1, class_weight={0: 0.595945945945946, 1: 3.1056338028169015},\n",
      "          dual=False, fit_intercept=True, intercept_scaling=1,\n",
      "          loss='squared_hinge', max_iter=10000, multi_class='ovr', penalty='l1',\n",
      "          random_state=0, tol=0.0001, verbose=0)\n"
     ]
    }
   ],
   "source": [
    "parameters_lsvc = [{\n",
    "    'C' : [i for i in range(1,10,2)],\n",
    "    'penalty' : ['l1', 'l2'],\n",
    "    'max_iter': [10000, 100000, 1000000]\n",
    "}]\n",
    "\n",
    "model_LinearSVC = grids_skf_lsvc(\n",
    "    train_features, \n",
    "    train_labels, \n",
    "    parameters_lsvc, \n",
    "    class_weights, \n",
    "    n_folds\n",
    ")"
   ]
  },
  {
   "cell_type": "markdown",
   "metadata": {},
   "source": [
    "#### 3.1.2. Evaluation - Stratified K-Fold CV"
   ]
  },
  {
   "cell_type": "code",
   "execution_count": 21,
   "metadata": {},
   "outputs": [
    {
     "name": "stdout",
     "output_type": "stream",
     "text": [
      "Training on fold 1/10...\n",
      "Training on fold 2/10...\n",
      "Training on fold 3/10...\n",
      "Training on fold 4/10...\n",
      "Training on fold 5/10...\n",
      "Training on fold 6/10...\n",
      "Training on fold 7/10...\n",
      "Training on fold 8/10...\n",
      "Training on fold 9/10...\n",
      "Training on fold 10/10...\n",
      "...Done\n"
     ]
    }
   ],
   "source": [
    "# Loop through the indices the split() method returns\n",
    "for index, (train_indices, val_indices) in enumerate(skf.split(train_features_norm, train_labels)):\n",
    "    print(\"Training on fold \" + str(index+1) + \"/\" + str(skf.n_splits) + \"...\")\n",
    "    # Generate batches from indices\n",
    "    xtrain, xval = train_features_norm[train_indices], train_features_norm[val_indices]\n",
    "    ytrain, yval = train_labels[train_indices], train_labels[val_indices]\n",
    "    \n",
    "    # train model\n",
    "    model_LinearSVC.fit(xtrain, ytrain)\n",
    "    \n",
    "    m_summary = save_metrics(m_summary, 'model_LinearSVC', ytrain, model_LinearSVC.decision_function(xtrain), split_data='train', series='imbalanced')\n",
    "    m_summary = save_metrics(m_summary, 'model_LinearSVC', yval, model_LinearSVC.decision_function(xval), split_data='val', series='imbalanced')\n",
    "    m_summary = save_metrics(m_summary, 'model_LinearSVC', test_labels, model_LinearSVC.decision_function(test_features), split_data='test', series='imbalanced')\n",
    "print('...Done')"
   ]
  },
  {
   "cell_type": "markdown",
   "metadata": {},
   "source": [
    "### 3.2. Oversampling Series"
   ]
  },
  {
   "cell_type": "markdown",
   "metadata": {},
   "source": [
    "#### 3.2.1. Optimization - GridSearch & Stratified K-Fold CV"
   ]
  },
  {
   "cell_type": "code",
   "execution_count": 22,
   "metadata": {},
   "outputs": [
    {
     "name": "stdout",
     "output_type": "stream",
     "text": [
      "Fitting 10 folds for each of 30 candidates, totalling 300 fits\n"
     ]
    },
    {
     "name": "stderr",
     "output_type": "stream",
     "text": [
      "[Parallel(n_jobs=-1)]: Using backend LokyBackend with 12 concurrent workers.\n",
      "[Parallel(n_jobs=-1)]: Done  26 tasks      | elapsed:    5.6s\n",
      "[Parallel(n_jobs=-1)]: Done 176 tasks      | elapsed:   13.3s\n"
     ]
    },
    {
     "name": "stdout",
     "output_type": "stream",
     "text": [
      "LinearSVC(C=3, class_weight={0: 1, 1: 1}, dual=False, fit_intercept=True,\n",
      "          intercept_scaling=1, loss='squared_hinge', max_iter=10000,\n",
      "          multi_class='ovr', penalty='l2', random_state=0, tol=0.0001,\n",
      "          verbose=0)\n"
     ]
    },
    {
     "name": "stderr",
     "output_type": "stream",
     "text": [
      "[Parallel(n_jobs=-1)]: Done 300 out of 300 | elapsed:   22.2s finished\n"
     ]
    }
   ],
   "source": [
    "model_LinearSVC_smote = grids_skf_lsvc(\n",
    "    X_SMOTE_mm, \n",
    "    y_SMOTE, \n",
    "    parameters_lsvc,\n",
    "    {0: 1, 1: 1},\n",
    "    n_folds\n",
    ")"
   ]
  },
  {
   "cell_type": "markdown",
   "metadata": {},
   "source": [
    "#### 3.2.2. Evaluation - Stratified K-Fold CV"
   ]
  },
  {
   "cell_type": "code",
   "execution_count": 23,
   "metadata": {},
   "outputs": [
    {
     "name": "stdout",
     "output_type": "stream",
     "text": [
      "Training on fold 1/10...\n",
      "Training on fold 2/10..."
     ]
    },
    {
     "name": "stderr",
     "output_type": "stream",
     "text": [
      "C:\\ProgramData\\Anaconda3\\lib\\site-packages\\sklearn\\metrics\\classification.py:872: RuntimeWarning: invalid value encountered in double_scalars\n",
      "  mcc = cov_ytyp / np.sqrt(cov_ytyt * cov_ypyp)\n",
      "C:\\ProgramData\\Anaconda3\\lib\\site-packages\\sklearn\\metrics\\classification.py:872: RuntimeWarning: invalid value encountered in double_scalars\n",
      "  mcc = cov_ytyp / np.sqrt(cov_ytyt * cov_ypyp)\n"
     ]
    },
    {
     "name": "stdout",
     "output_type": "stream",
     "text": [
      "\n",
      "Training on fold 3/10...\n"
     ]
    },
    {
     "name": "stderr",
     "output_type": "stream",
     "text": [
      "C:\\ProgramData\\Anaconda3\\lib\\site-packages\\sklearn\\metrics\\classification.py:872: RuntimeWarning: invalid value encountered in double_scalars\n",
      "  mcc = cov_ytyp / np.sqrt(cov_ytyt * cov_ypyp)\n",
      "C:\\ProgramData\\Anaconda3\\lib\\site-packages\\sklearn\\metrics\\classification.py:872: RuntimeWarning: invalid value encountered in double_scalars\n",
      "  mcc = cov_ytyp / np.sqrt(cov_ytyt * cov_ypyp)\n"
     ]
    },
    {
     "name": "stdout",
     "output_type": "stream",
     "text": [
      "Training on fold 4/10...\n",
      "Training on fold 5/10...\n",
      "Training on fold 6/10...\n"
     ]
    },
    {
     "name": "stderr",
     "output_type": "stream",
     "text": [
      "C:\\ProgramData\\Anaconda3\\lib\\site-packages\\sklearn\\metrics\\classification.py:872: RuntimeWarning: invalid value encountered in double_scalars\n",
      "  mcc = cov_ytyp / np.sqrt(cov_ytyt * cov_ypyp)\n"
     ]
    },
    {
     "name": "stdout",
     "output_type": "stream",
     "text": [
      "Training on fold 7/10...\n",
      "Training on fold 8/10...\n",
      "Training on fold 9/10...\n",
      "Training on fold 10/10...\n"
     ]
    },
    {
     "name": "stderr",
     "output_type": "stream",
     "text": [
      "C:\\ProgramData\\Anaconda3\\lib\\site-packages\\sklearn\\metrics\\classification.py:872: RuntimeWarning: invalid value encountered in double_scalars\n",
      "  mcc = cov_ytyp / np.sqrt(cov_ytyt * cov_ypyp)\n",
      "C:\\ProgramData\\Anaconda3\\lib\\site-packages\\sklearn\\metrics\\classification.py:872: RuntimeWarning: invalid value encountered in double_scalars\n",
      "  mcc = cov_ytyp / np.sqrt(cov_ytyt * cov_ypyp)\n"
     ]
    },
    {
     "name": "stdout",
     "output_type": "stream",
     "text": [
      "...Done\n"
     ]
    }
   ],
   "source": [
    "for index, (train_indices, val_indices) in enumerate(skf.split(train_features_v, train_labels)):\n",
    "    print(\"Training on fold \" + str(index+1) + \"/\" + str(skf.n_splits) + \"...\")\n",
    "    # Generate batches from indices\n",
    "    xtrain, xval = train_features_v[train_indices], train_features_v[val_indices]\n",
    "    ytrain, yval = train_labels[train_indices], train_labels[val_indices]\n",
    "    \n",
    "    # Oversampling training sets\n",
    "    xtrain_SMOTE, ytrain_SMOTE = smote.fit_sample(xtrain, ytrain)\n",
    "    xtrain_SMOTE = minmax.fit_transform(xtrain_SMOTE)\n",
    "    \n",
    "    # train model\n",
    "    model_LinearSVC_smote.fit(xtrain_SMOTE, ytrain_SMOTE)\n",
    "    \n",
    "    m_summary = save_metrics(m_summary, 'model_LinearSVC', ytrain_SMOTE, model_LinearSVC_smote.decision_function(xtrain_SMOTE), split_data='train', series='SMOTE')\n",
    "    m_summary = save_metrics(m_summary, 'model_LinearSVC', yval, model_LinearSVC_smote.decision_function(xval), split_data='val', series='SMOTE')\n",
    "    m_summary = save_metrics(m_summary, 'model_LinearSVC', test_labels, model_LinearSVC_smote.decision_function(test_features), split_data='test', series='SMOTE')\n",
    "print('...Done')"
   ]
  },
  {
   "cell_type": "markdown",
   "metadata": {
    "toc-hr-collapsed": true
   },
   "source": [
    "## 4. SVC"
   ]
  },
  {
   "cell_type": "markdown",
   "metadata": {
    "toc-hr-collapsed": false
   },
   "source": [
    "### 4.1. Imbalanced Series"
   ]
  },
  {
   "cell_type": "markdown",
   "metadata": {},
   "source": [
    "#### 4.1.1. Optimization - GridSearch & Stratified K-Fold CV"
   ]
  },
  {
   "cell_type": "code",
   "execution_count": 24,
   "metadata": {
    "pycharm": {
     "is_executing": false
    }
   },
   "outputs": [
    {
     "name": "stdout",
     "output_type": "stream",
     "text": [
      "Fitting 10 folds for each of 160 candidates, totalling 1600 fits\n"
     ]
    },
    {
     "name": "stderr",
     "output_type": "stream",
     "text": [
      "[Parallel(n_jobs=-1)]: Using backend LokyBackend with 12 concurrent workers.\n",
      "[Parallel(n_jobs=-1)]: Done  26 tasks      | elapsed:    7.8s\n",
      "[Parallel(n_jobs=-1)]: Done 176 tasks      | elapsed:   15.6s\n",
      "[Parallel(n_jobs=-1)]: Done 426 tasks      | elapsed:   28.6s\n",
      "[Parallel(n_jobs=-1)]: Done 776 tasks      | elapsed:   47.7s\n",
      "[Parallel(n_jobs=-1)]: Done 1226 tasks      | elapsed:  1.2min\n",
      "[Parallel(n_jobs=-1)]: Done 1600 out of 1600 | elapsed:  1.5min finished\n",
      "C:\\ProgramData\\Anaconda3\\lib\\site-packages\\sklearn\\model_selection\\_search.py:814: DeprecationWarning: The default of the `iid` parameter will change from True to False in version 0.22 and will be removed in 0.24. This will change numeric results when test-set sizes are unequal.\n",
      "  DeprecationWarning)\n"
     ]
    },
    {
     "name": "stdout",
     "output_type": "stream",
     "text": [
      "SVC(C=1, cache_size=200,\n",
      "    class_weight={0: 0.595945945945946, 1: 3.1056338028169015}, coef0=1,\n",
      "    decision_function_shape='ovr', degree=3, gamma=0.1, kernel='rbf',\n",
      "    max_iter=5000, probability=True, random_state=0, shrinking=True, tol=0.001,\n",
      "    verbose=False)\n"
     ]
    }
   ],
   "source": [
    "parameters_svc = [{\n",
    "    'kernel' : ['rbf', 'linear', 'poly', 'sigmoid'],\n",
    "    'C' : [i for i in range(1,10,2)],\n",
    "    'gamma' : [1, 0.1],\n",
    "    'coef0' : [1, 0.1],\n",
    "    'shrinking' : [True, False]\n",
    "}]\n",
    "\n",
    "model_SVC = grids_skf_svc(\n",
    "    train_features,\n",
    "    train_labels,\n",
    "    parameters_svc,\n",
    "    class_weights,\n",
    "    n_folds\n",
    ")"
   ]
  },
  {
   "cell_type": "markdown",
   "metadata": {},
   "source": [
    "#### 4.1.2. Evaluation - Stratified K-Fold CV"
   ]
  },
  {
   "cell_type": "code",
   "execution_count": 26,
   "metadata": {},
   "outputs": [
    {
     "name": "stdout",
     "output_type": "stream",
     "text": [
      "Training on fold 1/10...\n",
      "Training on fold 2/10...\n",
      "Training on fold 3/10...\n",
      "Training on fold 4/10...\n",
      "Training on fold 5/10...\n",
      "Training on fold 6/10...\n",
      "Training on fold 7/10...\n",
      "Training on fold 8/10...\n",
      "Training on fold 9/10...\n",
      "Training on fold 10/10...\n",
      "...Done\n"
     ]
    }
   ],
   "source": [
    "# Loop through the indices the split() method returns\n",
    "for index, (train_indices, val_indices) in enumerate(skf.split(train_features_norm, train_labels)):\n",
    "    print(\"Training on fold \" + str(index+1) + \"/\" + str(skf.n_splits) + \"...\")\n",
    "    # Generate batches from indices\n",
    "    xtrain, xval = train_features_norm[train_indices], train_features_norm[val_indices]\n",
    "    ytrain, yval = train_labels[train_indices], train_labels[val_indices]\n",
    "    \n",
    "    # train model\n",
    "    model_SVC.fit(xtrain, ytrain)\n",
    "    \n",
    "    m_summary = save_metrics(m_summary, 'model_SVC', ytrain, model_SVC.predict_proba(xtrain)[:, 1], split_data='train', series='imbalanced')\n",
    "    m_summary = save_metrics(m_summary, 'model_SVC', yval, model_SVC.predict_proba(xval)[:, 1], split_data='val', series='imbalanced')\n",
    "    m_summary = save_metrics(m_summary, 'model_SVC', test_labels, model_SVC.predict_proba(test_features)[:, 1], split_data='test', series='imbalanced')\n",
    "print('...Done')"
   ]
  },
  {
   "cell_type": "markdown",
   "metadata": {},
   "source": [
    "### 4.2. Oversampling Series"
   ]
  },
  {
   "cell_type": "markdown",
   "metadata": {},
   "source": [
    "#### 4.2.1. Optimization - GridSearch & Stratified K-Fold CV"
   ]
  },
  {
   "cell_type": "code",
   "execution_count": 27,
   "metadata": {},
   "outputs": [
    {
     "name": "stdout",
     "output_type": "stream",
     "text": [
      "Fitting 10 folds for each of 160 candidates, totalling 1600 fits\n"
     ]
    },
    {
     "name": "stderr",
     "output_type": "stream",
     "text": [
      "[Parallel(n_jobs=-1)]: Using backend LokyBackend with 12 concurrent workers.\n",
      "[Parallel(n_jobs=-1)]: Done  26 tasks      | elapsed:   11.0s\n",
      "[Parallel(n_jobs=-1)]: Done 176 tasks      | elapsed:   32.3s\n",
      "[Parallel(n_jobs=-1)]: Done 426 tasks      | elapsed:  1.1min\n",
      "[Parallel(n_jobs=-1)]: Done 776 tasks      | elapsed:  2.0min\n",
      "[Parallel(n_jobs=-1)]: Done 1226 tasks      | elapsed:  3.0min\n",
      "[Parallel(n_jobs=-1)]: Done 1600 out of 1600 | elapsed:  3.9min finished\n"
     ]
    },
    {
     "name": "stdout",
     "output_type": "stream",
     "text": [
      "SVC(C=3, cache_size=200, class_weight={0: 1, 1: 1}, coef0=1,\n",
      "    decision_function_shape='ovr', degree=3, gamma=1, kernel='rbf',\n",
      "    max_iter=5000, probability=True, random_state=0, shrinking=True, tol=0.001,\n",
      "    verbose=False)\n"
     ]
    }
   ],
   "source": [
    "model_SVC_smote = grids_skf_svc(\n",
    "    X_SMOTE_mm,\n",
    "    y_SMOTE,\n",
    "    parameters_svc,\n",
    "    {0: 1, 1: 1},\n",
    "    n_folds\n",
    ")"
   ]
  },
  {
   "cell_type": "markdown",
   "metadata": {},
   "source": [
    "#### 4.2.2. Evaluation - Stratified K-Fold CV"
   ]
  },
  {
   "cell_type": "code",
   "execution_count": 28,
   "metadata": {},
   "outputs": [
    {
     "name": "stdout",
     "output_type": "stream",
     "text": [
      "Training on fold 1/10...\n"
     ]
    },
    {
     "name": "stderr",
     "output_type": "stream",
     "text": [
      "C:\\ProgramData\\Anaconda3\\lib\\site-packages\\sklearn\\metrics\\classification.py:1437: UndefinedMetricWarning: Precision is ill-defined and being set to 0.0 due to no predicted samples.\n",
      "  'precision', 'predicted', average, warn_for)\n",
      "C:\\ProgramData\\Anaconda3\\lib\\site-packages\\sklearn\\metrics\\classification.py:1437: UndefinedMetricWarning: F-score is ill-defined and being set to 0.0 due to no predicted samples.\n",
      "  'precision', 'predicted', average, warn_for)\n",
      "C:\\ProgramData\\Anaconda3\\lib\\site-packages\\sklearn\\metrics\\classification.py:872: RuntimeWarning: invalid value encountered in double_scalars\n",
      "  mcc = cov_ytyp / np.sqrt(cov_ytyt * cov_ypyp)\n"
     ]
    },
    {
     "name": "stdout",
     "output_type": "stream",
     "text": [
      "Training on fold 2/10...\n"
     ]
    },
    {
     "name": "stderr",
     "output_type": "stream",
     "text": [
      "C:\\ProgramData\\Anaconda3\\lib\\site-packages\\sklearn\\metrics\\classification.py:1437: UndefinedMetricWarning: Precision is ill-defined and being set to 0.0 due to no predicted samples.\n",
      "  'precision', 'predicted', average, warn_for)\n",
      "C:\\ProgramData\\Anaconda3\\lib\\site-packages\\sklearn\\metrics\\classification.py:1437: UndefinedMetricWarning: F-score is ill-defined and being set to 0.0 due to no predicted samples.\n",
      "  'precision', 'predicted', average, warn_for)\n",
      "C:\\ProgramData\\Anaconda3\\lib\\site-packages\\sklearn\\metrics\\classification.py:872: RuntimeWarning: invalid value encountered in double_scalars\n",
      "  mcc = cov_ytyp / np.sqrt(cov_ytyt * cov_ypyp)\n"
     ]
    },
    {
     "name": "stdout",
     "output_type": "stream",
     "text": [
      "Training on fold 3/10...\n"
     ]
    },
    {
     "name": "stderr",
     "output_type": "stream",
     "text": [
      "C:\\ProgramData\\Anaconda3\\lib\\site-packages\\sklearn\\metrics\\classification.py:1437: UndefinedMetricWarning: Precision is ill-defined and being set to 0.0 due to no predicted samples.\n",
      "  'precision', 'predicted', average, warn_for)\n",
      "C:\\ProgramData\\Anaconda3\\lib\\site-packages\\sklearn\\metrics\\classification.py:1437: UndefinedMetricWarning: F-score is ill-defined and being set to 0.0 due to no predicted samples.\n",
      "  'precision', 'predicted', average, warn_for)\n",
      "C:\\ProgramData\\Anaconda3\\lib\\site-packages\\sklearn\\metrics\\classification.py:872: RuntimeWarning: invalid value encountered in double_scalars\n",
      "  mcc = cov_ytyp / np.sqrt(cov_ytyt * cov_ypyp)\n"
     ]
    },
    {
     "name": "stdout",
     "output_type": "stream",
     "text": [
      "Training on fold 4/10...\n"
     ]
    },
    {
     "name": "stderr",
     "output_type": "stream",
     "text": [
      "C:\\ProgramData\\Anaconda3\\lib\\site-packages\\sklearn\\metrics\\classification.py:1437: UndefinedMetricWarning: Precision is ill-defined and being set to 0.0 due to no predicted samples.\n",
      "  'precision', 'predicted', average, warn_for)\n",
      "C:\\ProgramData\\Anaconda3\\lib\\site-packages\\sklearn\\metrics\\classification.py:1437: UndefinedMetricWarning: F-score is ill-defined and being set to 0.0 due to no predicted samples.\n",
      "  'precision', 'predicted', average, warn_for)\n",
      "C:\\ProgramData\\Anaconda3\\lib\\site-packages\\sklearn\\metrics\\classification.py:872: RuntimeWarning: invalid value encountered in double_scalars\n",
      "  mcc = cov_ytyp / np.sqrt(cov_ytyt * cov_ypyp)\n"
     ]
    },
    {
     "name": "stdout",
     "output_type": "stream",
     "text": [
      "Training on fold 5/10...\n"
     ]
    },
    {
     "name": "stderr",
     "output_type": "stream",
     "text": [
      "C:\\ProgramData\\Anaconda3\\lib\\site-packages\\sklearn\\metrics\\classification.py:1437: UndefinedMetricWarning: Precision is ill-defined and being set to 0.0 due to no predicted samples.\n",
      "  'precision', 'predicted', average, warn_for)\n",
      "C:\\ProgramData\\Anaconda3\\lib\\site-packages\\sklearn\\metrics\\classification.py:1437: UndefinedMetricWarning: F-score is ill-defined and being set to 0.0 due to no predicted samples.\n",
      "  'precision', 'predicted', average, warn_for)\n",
      "C:\\ProgramData\\Anaconda3\\lib\\site-packages\\sklearn\\metrics\\classification.py:872: RuntimeWarning: invalid value encountered in double_scalars\n",
      "  mcc = cov_ytyp / np.sqrt(cov_ytyt * cov_ypyp)\n"
     ]
    },
    {
     "name": "stdout",
     "output_type": "stream",
     "text": [
      "Training on fold 6/10...\n"
     ]
    },
    {
     "name": "stderr",
     "output_type": "stream",
     "text": [
      "C:\\ProgramData\\Anaconda3\\lib\\site-packages\\sklearn\\metrics\\classification.py:1437: UndefinedMetricWarning: Precision is ill-defined and being set to 0.0 due to no predicted samples.\n",
      "  'precision', 'predicted', average, warn_for)\n",
      "C:\\ProgramData\\Anaconda3\\lib\\site-packages\\sklearn\\metrics\\classification.py:1437: UndefinedMetricWarning: F-score is ill-defined and being set to 0.0 due to no predicted samples.\n",
      "  'precision', 'predicted', average, warn_for)\n",
      "C:\\ProgramData\\Anaconda3\\lib\\site-packages\\sklearn\\metrics\\classification.py:872: RuntimeWarning: invalid value encountered in double_scalars\n",
      "  mcc = cov_ytyp / np.sqrt(cov_ytyt * cov_ypyp)\n",
      "C:\\ProgramData\\Anaconda3\\lib\\site-packages\\sklearn\\metrics\\classification.py:1437: UndefinedMetricWarning: Precision is ill-defined and being set to 0.0 due to no predicted samples.\n",
      "  'precision', 'predicted', average, warn_for)\n",
      "C:\\ProgramData\\Anaconda3\\lib\\site-packages\\sklearn\\metrics\\classification.py:1437: UndefinedMetricWarning: F-score is ill-defined and being set to 0.0 due to no predicted samples.\n",
      "  'precision', 'predicted', average, warn_for)\n",
      "C:\\ProgramData\\Anaconda3\\lib\\site-packages\\sklearn\\metrics\\classification.py:872: RuntimeWarning: invalid value encountered in double_scalars\n",
      "  mcc = cov_ytyp / np.sqrt(cov_ytyt * cov_ypyp)\n"
     ]
    },
    {
     "name": "stdout",
     "output_type": "stream",
     "text": [
      "Training on fold 7/10...\n"
     ]
    },
    {
     "name": "stderr",
     "output_type": "stream",
     "text": [
      "C:\\ProgramData\\Anaconda3\\lib\\site-packages\\sklearn\\metrics\\classification.py:1437: UndefinedMetricWarning: Precision is ill-defined and being set to 0.0 due to no predicted samples.\n",
      "  'precision', 'predicted', average, warn_for)\n",
      "C:\\ProgramData\\Anaconda3\\lib\\site-packages\\sklearn\\metrics\\classification.py:1437: UndefinedMetricWarning: F-score is ill-defined and being set to 0.0 due to no predicted samples.\n",
      "  'precision', 'predicted', average, warn_for)\n",
      "C:\\ProgramData\\Anaconda3\\lib\\site-packages\\sklearn\\metrics\\classification.py:872: RuntimeWarning: invalid value encountered in double_scalars\n",
      "  mcc = cov_ytyp / np.sqrt(cov_ytyt * cov_ypyp)\n"
     ]
    },
    {
     "name": "stdout",
     "output_type": "stream",
     "text": [
      "Training on fold 8/10...\n"
     ]
    },
    {
     "name": "stderr",
     "output_type": "stream",
     "text": [
      "C:\\ProgramData\\Anaconda3\\lib\\site-packages\\sklearn\\metrics\\classification.py:1437: UndefinedMetricWarning: Precision is ill-defined and being set to 0.0 due to no predicted samples.\n",
      "  'precision', 'predicted', average, warn_for)\n",
      "C:\\ProgramData\\Anaconda3\\lib\\site-packages\\sklearn\\metrics\\classification.py:1437: UndefinedMetricWarning: F-score is ill-defined and being set to 0.0 due to no predicted samples.\n",
      "  'precision', 'predicted', average, warn_for)\n",
      "C:\\ProgramData\\Anaconda3\\lib\\site-packages\\sklearn\\metrics\\classification.py:872: RuntimeWarning: invalid value encountered in double_scalars\n",
      "  mcc = cov_ytyp / np.sqrt(cov_ytyt * cov_ypyp)\n"
     ]
    },
    {
     "name": "stdout",
     "output_type": "stream",
     "text": [
      "Training on fold 9/10...\n"
     ]
    },
    {
     "name": "stderr",
     "output_type": "stream",
     "text": [
      "C:\\ProgramData\\Anaconda3\\lib\\site-packages\\sklearn\\metrics\\classification.py:1437: UndefinedMetricWarning: Precision is ill-defined and being set to 0.0 due to no predicted samples.\n",
      "  'precision', 'predicted', average, warn_for)\n",
      "C:\\ProgramData\\Anaconda3\\lib\\site-packages\\sklearn\\metrics\\classification.py:1437: UndefinedMetricWarning: F-score is ill-defined and being set to 0.0 due to no predicted samples.\n",
      "  'precision', 'predicted', average, warn_for)\n",
      "C:\\ProgramData\\Anaconda3\\lib\\site-packages\\sklearn\\metrics\\classification.py:872: RuntimeWarning: invalid value encountered in double_scalars\n",
      "  mcc = cov_ytyp / np.sqrt(cov_ytyt * cov_ypyp)\n"
     ]
    },
    {
     "name": "stdout",
     "output_type": "stream",
     "text": [
      "Training on fold 10/10...\n",
      "...Done\n"
     ]
    },
    {
     "name": "stderr",
     "output_type": "stream",
     "text": [
      "C:\\ProgramData\\Anaconda3\\lib\\site-packages\\sklearn\\metrics\\classification.py:1437: UndefinedMetricWarning: Precision is ill-defined and being set to 0.0 due to no predicted samples.\n",
      "  'precision', 'predicted', average, warn_for)\n",
      "C:\\ProgramData\\Anaconda3\\lib\\site-packages\\sklearn\\metrics\\classification.py:1437: UndefinedMetricWarning: F-score is ill-defined and being set to 0.0 due to no predicted samples.\n",
      "  'precision', 'predicted', average, warn_for)\n",
      "C:\\ProgramData\\Anaconda3\\lib\\site-packages\\sklearn\\metrics\\classification.py:872: RuntimeWarning: invalid value encountered in double_scalars\n",
      "  mcc = cov_ytyp / np.sqrt(cov_ytyt * cov_ypyp)\n"
     ]
    }
   ],
   "source": [
    "for index, (train_indices, val_indices) in enumerate(skf.split(train_features_v, train_labels)):\n",
    "    print(\"Training on fold \" + str(index+1) + \"/\" + str(skf.n_splits) + \"...\")\n",
    "    # Generate batches from indices\n",
    "    xtrain, xval = train_features_v[train_indices], train_features_v[val_indices]\n",
    "    ytrain, yval = train_labels[train_indices], train_labels[val_indices]\n",
    "    \n",
    "    # Oversampling training sets\n",
    "    xtrain_SMOTE, ytrain_SMOTE = smote.fit_sample(xtrain, ytrain)\n",
    "    xtrain_SMOTE = minmax.fit_transform(xtrain_SMOTE)\n",
    "\n",
    "    # train model\n",
    "    model_SVC_smote.fit(xtrain_SMOTE, ytrain_SMOTE)\n",
    "    \n",
    "    m_summary = save_metrics(m_summary, 'model_SVC', ytrain_SMOTE, model_SVC_smote.predict_proba(xtrain_SMOTE)[:, 1], split_data='train', series='SMOTE')\n",
    "    m_summary = save_metrics(m_summary, 'model_SVC', yval, model_SVC_smote.predict_proba(xval)[:, 1], split_data='val', series='SMOTE')\n",
    "    m_summary = save_metrics(m_summary, 'model_SVC', test_labels, model_SVC_smote.predict_proba(test_features)[:, 1], split_data='test', series='SMOTE')\n",
    "print('...Done')"
   ]
  },
  {
   "cell_type": "markdown",
   "metadata": {
    "toc-hr-collapsed": true
   },
   "source": [
    "## 5. Random Forest Classifier"
   ]
  },
  {
   "cell_type": "markdown",
   "metadata": {
    "toc-hr-collapsed": false
   },
   "source": [
    "### 5.1. Imbalanced Series"
   ]
  },
  {
   "cell_type": "markdown",
   "metadata": {},
   "source": [
    "#### 5.1.1. Optimization - GridSearch & Stratified K-Fold CV"
   ]
  },
  {
   "cell_type": "code",
   "execution_count": 29,
   "metadata": {
    "pycharm": {
     "is_executing": false
    }
   },
   "outputs": [
    {
     "name": "stdout",
     "output_type": "stream",
     "text": [
      "Fitting 10 folds for each of 48 candidates, totalling 480 fits\n"
     ]
    },
    {
     "name": "stderr",
     "output_type": "stream",
     "text": [
      "[Parallel(n_jobs=-1)]: Using backend LokyBackend with 12 concurrent workers.\n",
      "[Parallel(n_jobs=-1)]: Done  26 tasks      | elapsed:    9.8s\n",
      "[Parallel(n_jobs=-1)]: Done 176 tasks      | elapsed:   35.8s\n",
      "[Parallel(n_jobs=-1)]: Done 426 tasks      | elapsed:  1.4min\n",
      "[Parallel(n_jobs=-1)]: Done 480 out of 480 | elapsed:  1.7min finished\n",
      "C:\\ProgramData\\Anaconda3\\lib\\site-packages\\sklearn\\model_selection\\_search.py:814: DeprecationWarning: The default of the `iid` parameter will change from True to False in version 0.22 and will be removed in 0.24. This will change numeric results when test-set sizes are unequal.\n",
      "  DeprecationWarning)\n"
     ]
    },
    {
     "name": "stdout",
     "output_type": "stream",
     "text": [
      "RandomForestClassifier(bootstrap=True,\n",
      "                       class_weight={0: 0.595945945945946,\n",
      "                                     1: 3.1056338028169015},\n",
      "                       criterion='gini', max_depth=9, max_features='auto',\n",
      "                       max_leaf_nodes=None, min_impurity_decrease=0.0,\n",
      "                       min_impurity_split=None, min_samples_leaf=3,\n",
      "                       min_samples_split=2, min_weight_fraction_leaf=0.0,\n",
      "                       n_estimators=1000, n_jobs=-1, oob_score=False,\n",
      "                       random_state=0, verbose=0, warm_start=False)\n"
     ]
    }
   ],
   "source": [
    "parameters_rf = [{\n",
    "    'n_estimators' : [100, 500, 1000],\n",
    "    'max_depth' : [i for i in range(3,15,3)],\n",
    "    'min_samples_split' : [i for i in range (2,4)],\n",
    "    'min_samples_leaf' : [i for i in range (2,4)]\n",
    "}]\n",
    "\n",
    "model_RandomForest = grids_skf_rf(\n",
    "    train_features, \n",
    "    train_labels, \n",
    "    parameters_rf, \n",
    "    class_weights, \n",
    "    n_folds\n",
    ")"
   ]
  },
  {
   "cell_type": "markdown",
   "metadata": {},
   "source": [
    "#### 5.1.2. Evaluation - Stratified K-Fold CV"
   ]
  },
  {
   "cell_type": "code",
   "execution_count": 31,
   "metadata": {},
   "outputs": [
    {
     "name": "stdout",
     "output_type": "stream",
     "text": [
      "Training on fold 1/10...\n",
      "Training on fold 2/10...\n",
      "Training on fold 3/10...\n",
      "Training on fold 4/10...\n",
      "Training on fold 5/10...\n",
      "Training on fold 6/10...\n",
      "Training on fold 7/10...\n",
      "Training on fold 8/10...\n",
      "Training on fold 9/10...\n",
      "Training on fold 10/10...\n",
      "...Done\n"
     ]
    }
   ],
   "source": [
    "# Loop through the indices the split() method returns\n",
    "for index, (train_indices, val_indices) in enumerate(skf.split(train_features_norm, train_labels)):\n",
    "    print(\"Training on fold \" + str(index+1) + \"/\" + str(skf.n_splits) + \"...\")\n",
    "    # Generate batches from indices\n",
    "    xtrain, xval = train_features_norm[train_indices], train_features_norm[val_indices]\n",
    "    ytrain, yval = train_labels[train_indices], train_labels[val_indices]\n",
    "    \n",
    "    # train model\n",
    "    model_RandomForest.fit(xtrain, ytrain)\n",
    "    \n",
    "    m_summary = save_metrics(m_summary, 'model_RandomForest', ytrain, model_RandomForest.predict_proba(xtrain)[:, 1], split_data='train', series='imbalanced')\n",
    "    m_summary = save_metrics(m_summary, 'model_RandomForest', yval, model_RandomForest.predict_proba(xval)[:, 1], split_data='val', series='imbalanced')\n",
    "    m_summary = save_metrics(m_summary, 'model_RandomForest', test_labels, model_RandomForest.predict_proba(test_features)[:, 1], split_data='test', series='imbalanced')\n",
    "print('...Done')"
   ]
  },
  {
   "cell_type": "markdown",
   "metadata": {},
   "source": [
    "### 5.2. Oversampling Series"
   ]
  },
  {
   "cell_type": "markdown",
   "metadata": {},
   "source": [
    "#### 5.2.1. Optimization - GridSearch & Stratified K-Fold CV"
   ]
  },
  {
   "cell_type": "code",
   "execution_count": 32,
   "metadata": {},
   "outputs": [
    {
     "name": "stdout",
     "output_type": "stream",
     "text": [
      "Fitting 10 folds for each of 48 candidates, totalling 480 fits\n"
     ]
    },
    {
     "name": "stderr",
     "output_type": "stream",
     "text": [
      "[Parallel(n_jobs=-1)]: Using backend LokyBackend with 12 concurrent workers.\n",
      "[Parallel(n_jobs=-1)]: Done  26 tasks      | elapsed:   10.0s\n",
      "[Parallel(n_jobs=-1)]: Done 176 tasks      | elapsed:   40.4s\n",
      "[Parallel(n_jobs=-1)]: Done 426 tasks      | elapsed:  1.9min\n",
      "[Parallel(n_jobs=-1)]: Done 480 out of 480 | elapsed:  2.2min finished\n"
     ]
    },
    {
     "name": "stdout",
     "output_type": "stream",
     "text": [
      "RandomForestClassifier(bootstrap=True, class_weight={0: 1, 1: 1},\n",
      "                       criterion='gini', max_depth=12, max_features='auto',\n",
      "                       max_leaf_nodes=None, min_impurity_decrease=0.0,\n",
      "                       min_impurity_split=None, min_samples_leaf=2,\n",
      "                       min_samples_split=2, min_weight_fraction_leaf=0.0,\n",
      "                       n_estimators=1000, n_jobs=-1, oob_score=False,\n",
      "                       random_state=0, verbose=0, warm_start=False)\n"
     ]
    }
   ],
   "source": [
    "model_RandomForest_smote = grids_skf_rf(\n",
    "    X_SMOTE_mm, \n",
    "    y_SMOTE, \n",
    "    parameters_rf, \n",
    "    {0: 1, 1: 1}, \n",
    "    n_folds\n",
    ")"
   ]
  },
  {
   "cell_type": "markdown",
   "metadata": {},
   "source": [
    "#### 5.2.2. Evaluation - Stratified K-Fold CV"
   ]
  },
  {
   "cell_type": "code",
   "execution_count": 33,
   "metadata": {},
   "outputs": [
    {
     "name": "stdout",
     "output_type": "stream",
     "text": [
      "Training on fold 1/10...\n"
     ]
    },
    {
     "name": "stderr",
     "output_type": "stream",
     "text": [
      "C:\\ProgramData\\Anaconda3\\lib\\site-packages\\sklearn\\metrics\\classification.py:1437: UndefinedMetricWarning: Precision is ill-defined and being set to 0.0 due to no predicted samples.\n",
      "  'precision', 'predicted', average, warn_for)\n",
      "C:\\ProgramData\\Anaconda3\\lib\\site-packages\\sklearn\\metrics\\classification.py:1437: UndefinedMetricWarning: F-score is ill-defined and being set to 0.0 due to no predicted samples.\n",
      "  'precision', 'predicted', average, warn_for)\n",
      "C:\\ProgramData\\Anaconda3\\lib\\site-packages\\sklearn\\metrics\\classification.py:872: RuntimeWarning: invalid value encountered in double_scalars\n",
      "  mcc = cov_ytyp / np.sqrt(cov_ytyt * cov_ypyp)\n"
     ]
    },
    {
     "name": "stdout",
     "output_type": "stream",
     "text": [
      "Training on fold 2/10...\n"
     ]
    },
    {
     "name": "stderr",
     "output_type": "stream",
     "text": [
      "C:\\ProgramData\\Anaconda3\\lib\\site-packages\\sklearn\\metrics\\classification.py:1437: UndefinedMetricWarning: Precision is ill-defined and being set to 0.0 due to no predicted samples.\n",
      "  'precision', 'predicted', average, warn_for)\n",
      "C:\\ProgramData\\Anaconda3\\lib\\site-packages\\sklearn\\metrics\\classification.py:1437: UndefinedMetricWarning: F-score is ill-defined and being set to 0.0 due to no predicted samples.\n",
      "  'precision', 'predicted', average, warn_for)\n",
      "C:\\ProgramData\\Anaconda3\\lib\\site-packages\\sklearn\\metrics\\classification.py:872: RuntimeWarning: invalid value encountered in double_scalars\n",
      "  mcc = cov_ytyp / np.sqrt(cov_ytyt * cov_ypyp)\n"
     ]
    },
    {
     "name": "stdout",
     "output_type": "stream",
     "text": [
      "Training on fold 3/10...\n"
     ]
    },
    {
     "name": "stderr",
     "output_type": "stream",
     "text": [
      "C:\\ProgramData\\Anaconda3\\lib\\site-packages\\sklearn\\metrics\\classification.py:1437: UndefinedMetricWarning: Precision is ill-defined and being set to 0.0 due to no predicted samples.\n",
      "  'precision', 'predicted', average, warn_for)\n",
      "C:\\ProgramData\\Anaconda3\\lib\\site-packages\\sklearn\\metrics\\classification.py:1437: UndefinedMetricWarning: F-score is ill-defined and being set to 0.0 due to no predicted samples.\n",
      "  'precision', 'predicted', average, warn_for)\n",
      "C:\\ProgramData\\Anaconda3\\lib\\site-packages\\sklearn\\metrics\\classification.py:872: RuntimeWarning: invalid value encountered in double_scalars\n",
      "  mcc = cov_ytyp / np.sqrt(cov_ytyt * cov_ypyp)\n"
     ]
    },
    {
     "name": "stdout",
     "output_type": "stream",
     "text": [
      "Training on fold 4/10...\n"
     ]
    },
    {
     "name": "stderr",
     "output_type": "stream",
     "text": [
      "C:\\ProgramData\\Anaconda3\\lib\\site-packages\\sklearn\\metrics\\classification.py:1437: UndefinedMetricWarning: Precision is ill-defined and being set to 0.0 due to no predicted samples.\n",
      "  'precision', 'predicted', average, warn_for)\n",
      "C:\\ProgramData\\Anaconda3\\lib\\site-packages\\sklearn\\metrics\\classification.py:1437: UndefinedMetricWarning: F-score is ill-defined and being set to 0.0 due to no predicted samples.\n",
      "  'precision', 'predicted', average, warn_for)\n",
      "C:\\ProgramData\\Anaconda3\\lib\\site-packages\\sklearn\\metrics\\classification.py:872: RuntimeWarning: invalid value encountered in double_scalars\n",
      "  mcc = cov_ytyp / np.sqrt(cov_ytyt * cov_ypyp)\n"
     ]
    },
    {
     "name": "stdout",
     "output_type": "stream",
     "text": [
      "Training on fold 5/10...\n"
     ]
    },
    {
     "name": "stderr",
     "output_type": "stream",
     "text": [
      "C:\\ProgramData\\Anaconda3\\lib\\site-packages\\sklearn\\metrics\\classification.py:1437: UndefinedMetricWarning: Precision is ill-defined and being set to 0.0 due to no predicted samples.\n",
      "  'precision', 'predicted', average, warn_for)\n",
      "C:\\ProgramData\\Anaconda3\\lib\\site-packages\\sklearn\\metrics\\classification.py:1437: UndefinedMetricWarning: F-score is ill-defined and being set to 0.0 due to no predicted samples.\n",
      "  'precision', 'predicted', average, warn_for)\n",
      "C:\\ProgramData\\Anaconda3\\lib\\site-packages\\sklearn\\metrics\\classification.py:872: RuntimeWarning: invalid value encountered in double_scalars\n",
      "  mcc = cov_ytyp / np.sqrt(cov_ytyt * cov_ypyp)\n"
     ]
    },
    {
     "name": "stdout",
     "output_type": "stream",
     "text": [
      "Training on fold 6/10...\n"
     ]
    },
    {
     "name": "stderr",
     "output_type": "stream",
     "text": [
      "C:\\ProgramData\\Anaconda3\\lib\\site-packages\\sklearn\\metrics\\classification.py:1437: UndefinedMetricWarning: Precision is ill-defined and being set to 0.0 due to no predicted samples.\n",
      "  'precision', 'predicted', average, warn_for)\n",
      "C:\\ProgramData\\Anaconda3\\lib\\site-packages\\sklearn\\metrics\\classification.py:1437: UndefinedMetricWarning: F-score is ill-defined and being set to 0.0 due to no predicted samples.\n",
      "  'precision', 'predicted', average, warn_for)\n",
      "C:\\ProgramData\\Anaconda3\\lib\\site-packages\\sklearn\\metrics\\classification.py:872: RuntimeWarning: invalid value encountered in double_scalars\n",
      "  mcc = cov_ytyp / np.sqrt(cov_ytyt * cov_ypyp)\n"
     ]
    },
    {
     "name": "stdout",
     "output_type": "stream",
     "text": [
      "Training on fold 7/10...\n"
     ]
    },
    {
     "name": "stderr",
     "output_type": "stream",
     "text": [
      "C:\\ProgramData\\Anaconda3\\lib\\site-packages\\sklearn\\metrics\\classification.py:1437: UndefinedMetricWarning: Precision is ill-defined and being set to 0.0 due to no predicted samples.\n",
      "  'precision', 'predicted', average, warn_for)\n",
      "C:\\ProgramData\\Anaconda3\\lib\\site-packages\\sklearn\\metrics\\classification.py:1437: UndefinedMetricWarning: F-score is ill-defined and being set to 0.0 due to no predicted samples.\n",
      "  'precision', 'predicted', average, warn_for)\n",
      "C:\\ProgramData\\Anaconda3\\lib\\site-packages\\sklearn\\metrics\\classification.py:872: RuntimeWarning: invalid value encountered in double_scalars\n",
      "  mcc = cov_ytyp / np.sqrt(cov_ytyt * cov_ypyp)\n"
     ]
    },
    {
     "name": "stdout",
     "output_type": "stream",
     "text": [
      "Training on fold 8/10...\n"
     ]
    },
    {
     "name": "stderr",
     "output_type": "stream",
     "text": [
      "C:\\ProgramData\\Anaconda3\\lib\\site-packages\\sklearn\\metrics\\classification.py:1437: UndefinedMetricWarning: Precision is ill-defined and being set to 0.0 due to no predicted samples.\n",
      "  'precision', 'predicted', average, warn_for)\n",
      "C:\\ProgramData\\Anaconda3\\lib\\site-packages\\sklearn\\metrics\\classification.py:1437: UndefinedMetricWarning: F-score is ill-defined and being set to 0.0 due to no predicted samples.\n",
      "  'precision', 'predicted', average, warn_for)\n",
      "C:\\ProgramData\\Anaconda3\\lib\\site-packages\\sklearn\\metrics\\classification.py:872: RuntimeWarning: invalid value encountered in double_scalars\n",
      "  mcc = cov_ytyp / np.sqrt(cov_ytyt * cov_ypyp)\n"
     ]
    },
    {
     "name": "stdout",
     "output_type": "stream",
     "text": [
      "Training on fold 9/10...\n"
     ]
    },
    {
     "name": "stderr",
     "output_type": "stream",
     "text": [
      "C:\\ProgramData\\Anaconda3\\lib\\site-packages\\sklearn\\metrics\\classification.py:1437: UndefinedMetricWarning: Precision is ill-defined and being set to 0.0 due to no predicted samples.\n",
      "  'precision', 'predicted', average, warn_for)\n",
      "C:\\ProgramData\\Anaconda3\\lib\\site-packages\\sklearn\\metrics\\classification.py:1437: UndefinedMetricWarning: F-score is ill-defined and being set to 0.0 due to no predicted samples.\n",
      "  'precision', 'predicted', average, warn_for)\n",
      "C:\\ProgramData\\Anaconda3\\lib\\site-packages\\sklearn\\metrics\\classification.py:872: RuntimeWarning: invalid value encountered in double_scalars\n",
      "  mcc = cov_ytyp / np.sqrt(cov_ytyt * cov_ypyp)\n"
     ]
    },
    {
     "name": "stdout",
     "output_type": "stream",
     "text": [
      "Training on fold 10/10...\n",
      "...Done\n"
     ]
    },
    {
     "name": "stderr",
     "output_type": "stream",
     "text": [
      "C:\\ProgramData\\Anaconda3\\lib\\site-packages\\sklearn\\metrics\\classification.py:1437: UndefinedMetricWarning: Precision is ill-defined and being set to 0.0 due to no predicted samples.\n",
      "  'precision', 'predicted', average, warn_for)\n",
      "C:\\ProgramData\\Anaconda3\\lib\\site-packages\\sklearn\\metrics\\classification.py:1437: UndefinedMetricWarning: F-score is ill-defined and being set to 0.0 due to no predicted samples.\n",
      "  'precision', 'predicted', average, warn_for)\n",
      "C:\\ProgramData\\Anaconda3\\lib\\site-packages\\sklearn\\metrics\\classification.py:872: RuntimeWarning: invalid value encountered in double_scalars\n",
      "  mcc = cov_ytyp / np.sqrt(cov_ytyt * cov_ypyp)\n"
     ]
    }
   ],
   "source": [
    "for index, (train_indices, val_indices) in enumerate(skf.split(train_features_v, train_labels)):\n",
    "    print(\"Training on fold \" + str(index+1) + \"/\" + str(skf.n_splits) + \"...\")\n",
    "    # Generate batches from indices\n",
    "    xtrain, xval = train_features_v[train_indices], train_features_v[val_indices]\n",
    "    ytrain, yval = train_labels[train_indices], train_labels[val_indices]\n",
    "    \n",
    "    # Oversampling training sets\n",
    "    xtrain_SMOTE, ytrain_SMOTE = smote.fit_sample(xtrain, ytrain)\n",
    "    xtrain_SMOTE = minmax.fit_transform(xtrain_SMOTE)\n",
    "    \n",
    "    # train model\n",
    "    model_RandomForest_smote.fit(xtrain_SMOTE, ytrain_SMOTE)\n",
    "    \n",
    "    m_summary = save_metrics(m_summary, 'model_RandomForest', ytrain_SMOTE, model_RandomForest_smote.predict_proba(xtrain_SMOTE)[:, 1], split_data='train', series='SMOTE')\n",
    "    m_summary = save_metrics(m_summary, 'model_RandomForest', yval, model_RandomForest_smote.predict_proba(xval)[:, 1], split_data='val', series='SMOTE')\n",
    "    m_summary = save_metrics(m_summary, 'model_RandomForest', test_labels, model_RandomForest_smote.predict_proba(test_features)[:, 1], split_data='test', series='SMOTE')\n",
    "print('...Done')"
   ]
  },
  {
   "cell_type": "markdown",
   "metadata": {
    "toc-hr-collapsed": true
   },
   "source": [
    "## 6. Keras Tensorflow Classification Deep Neural Network"
   ]
  },
  {
   "cell_type": "code",
   "execution_count": 34,
   "metadata": {
    "pycharm": {
     "is_executing": false
    }
   },
   "outputs": [],
   "source": [
    "import tensorflow as tf\n",
    "from tensorflow import keras\n",
    "from tensorflow.keras import Sequential\n",
    "from tensorflow.keras.layers import Dense, Dropout, BatchNormalization"
   ]
  },
  {
   "cell_type": "code",
   "execution_count": 35,
   "metadata": {
    "pycharm": {
     "is_executing": false
    }
   },
   "outputs": [
    {
     "name": "stdout",
     "output_type": "stream",
     "text": [
      "The advisable number of neurons in the first layer should be:  42\n"
     ]
    }
   ],
   "source": [
    "#metrics to obtain in history\n",
    "METRICS = [\n",
    "    keras.metrics.Precision(name='precision'),\n",
    "    keras.metrics.Recall(name='recall'),\n",
    "    keras.metrics.AUC(name='auc'),\n",
    "    keras.metrics.Accuracy(name='acc'),\n",
    "    keras.metrics.TrueNegatives(name='tn'),\n",
    "    keras.metrics.TruePositives(name='tp'),\n",
    "    keras.metrics.FalseNegatives(name='fn'),\n",
    "    keras.metrics.FalsePositives(name='fp'),\n",
    "]\n",
    "\n",
    "# max number of epochs (the early stopping callback will cutoff before)\n",
    "EPOCHS = 100 \n",
    "#best batch size = 64, 70, 32, 128, 256\n",
    "BATCH_SIZE = 32\n",
    "\n",
    "# Defining specific callbacks\n",
    "early_stopping = tf.keras.callbacks.EarlyStopping(\n",
    "    monitor='val_loss', \n",
    "    verbose=0,\n",
    "    patience=20, #best 20\n",
    "    restore_best_weights=True\n",
    ")\n",
    "reduce_lr = tf.keras.callbacks.ReduceLROnPlateau(\n",
    "    monitor='val_loss', \n",
    "    factor=0.1,\n",
    "    patience=5,\n",
    "    cooldown=6,\n",
    "    min_lr=0.00001\n",
    ")\n",
    "\n",
    "callback = [\n",
    "    early_stopping,\n",
    "    reduce_lr\n",
    "]\n",
    "\n",
    "if n_features%2 == 0:\n",
    "    n_init_neurons = n_features\n",
    "else:\n",
    "    n_init_neurons = n_features+1\n",
    "    \n",
    "print('The advisable number of neurons in the first layer should be: ', n_init_neurons)"
   ]
  },
  {
   "cell_type": "markdown",
   "metadata": {},
   "source": [
    "Constructor of Keras model definition"
   ]
  },
  {
   "cell_type": "code",
   "execution_count": 36,
   "metadata": {
    "pycharm": {
     "is_executing": false
    }
   },
   "outputs": [],
   "source": [
    "def make_model(\n",
    "    metrics = METRICS,\n",
    "    output_bias = None, \n",
    "    learn_rate = 0.001, \n",
    "    l1_neurons = n_init_neurons, \n",
    "    l2_neurons = 24, \n",
    "    input_shape = train_features.shape[-1:], \n",
    "    l2_dropout = 0.25\n",
    "):\n",
    "    if output_bias is not None:\n",
    "        output_bias = keras.initializers.Constant(output_bias)\n",
    "    model = Sequential(\n",
    "        [\n",
    "            #First hidden layer\n",
    "        Dense(\n",
    "            l1_neurons, \n",
    "            activation=keras.layers.ELU(), \n",
    "            input_shape=input_shape,\n",
    "            name='first_hidden_layer'\n",
    "        ),\n",
    "            #Normalization layer\n",
    "        BatchNormalization(name='first_Batch_norm'),\n",
    "            #Second hidden layer\n",
    "        Dense(\n",
    "            l2_neurons,\n",
    "            activation=keras.layers.LeakyReLU(),\n",
    "            name='second_hidden_layer'\n",
    "        ),\n",
    "            #Normalization layer\n",
    "        BatchNormalization(name='second_Batch_norm'),\n",
    "            #Dropout layer\n",
    "        Dropout(\n",
    "            l2_dropout,\n",
    "            name='l2_dropout_layer'\n",
    "        ),\n",
    "            #Output layer\n",
    "        Dense(\n",
    "            1, \n",
    "            activation='sigmoid',                   # sigmoid for regressor with probability output\n",
    "            bias_initializer=output_bias,\n",
    "            name='output_layer'\n",
    "        )\n",
    "    ])\n",
    "\n",
    "    model.compile(\n",
    "        optimizer=keras.optimizers.Adam(lr=learn_rate),\n",
    "            #Optimizer to use\n",
    "            #optimizer_ = keras.optimizers.RMSprop(lr=learn_rate)\n",
    "            #optimizer=keras.optimizers.Nadam(lr=learn_rate),\n",
    "        loss=keras.losses.BinaryCrossentropy(),\n",
    "        metrics=metrics\n",
    "    )\n",
    "\n",
    "    return model"
   ]
  },
  {
   "cell_type": "code",
   "execution_count": 37,
   "metadata": {
    "pycharm": {
     "is_executing": false
    }
   },
   "outputs": [
    {
     "name": "stdout",
     "output_type": "stream",
     "text": [
      "Model: \"sequential\"\n",
      "_________________________________________________________________\n",
      "Layer (type)                 Output Shape              Param #   \n",
      "=================================================================\n",
      "first_hidden_layer (Dense)   (None, 42)                1764      \n",
      "_________________________________________________________________\n",
      "first_Batch_norm (BatchNorma (None, 42)                168       \n",
      "_________________________________________________________________\n",
      "second_hidden_layer (Dense)  (None, 24)                1032      \n",
      "_________________________________________________________________\n",
      "second_Batch_norm (BatchNorm (None, 24)                96        \n",
      "_________________________________________________________________\n",
      "l2_dropout_layer (Dropout)   (None, 24)                0         \n",
      "_________________________________________________________________\n",
      "output_layer (Dense)         (None, 1)                 25        \n",
      "=================================================================\n",
      "Total params: 3,085\n",
      "Trainable params: 2,953\n",
      "Non-trainable params: 132\n",
      "_________________________________________________________________\n"
     ]
    }
   ],
   "source": [
    "make_model().summary()"
   ]
  },
  {
   "cell_type": "markdown",
   "metadata": {
    "toc-hr-collapsed": false
   },
   "source": [
    "### 6.1. Imbalanced Series"
   ]
  },
  {
   "cell_type": "markdown",
   "metadata": {},
   "source": [
    "#### 6.1.1. Optimization - Bayesian Optimization on weighted model"
   ]
  },
  {
   "cell_type": "markdown",
   "metadata": {},
   "source": [
    "Bayesian Optimization on the train dataset to better tune hyperparameters on the model."
   ]
  },
  {
   "cell_type": "markdown",
   "metadata": {},
   "source": [
    "Defining black box function"
   ]
  },
  {
   "cell_type": "code",
   "execution_count": 38,
   "metadata": {},
   "outputs": [],
   "source": [
    "def fit_with(\n",
    "    learn_rate, \n",
    "    l1_neurons, \n",
    "    l2_neurons, \n",
    "    l2_dropout,\n",
    "    BATCH_SIZE,\n",
    "    X = train_features,\n",
    "    y = train_labels\n",
    "):\n",
    "    X = np.array(train_features)\n",
    "    y = train_labels\n",
    "    # Split of data for evaluation (random state defined)\n",
    "    X, X_val, y, y_val = train_test_split(X, y, stratify=y, random_state=0, test_size=0.1)\n",
    "    # Instatiate model\n",
    "    #Loss with correct initialization and saving of bias onto model\n",
    "    neg_nn, pos_nn = np.bincount(y)\n",
    "    initial_bias = np.log([pos_nn/neg_nn])\n",
    "    \n",
    "    # Discretize parameters\n",
    "    l1_neurons = max(int(l1_neurons)*2, 32)\n",
    "    l2_neurons = max(int(l2_neurons)*2, 2)\n",
    "    BATCH_SIZE = max(int(BATCH_SIZE)*64, 32)\n",
    "    \n",
    "    model_keras_opt = make_model(\n",
    "        metrics = METRICS,\n",
    "        output_bias = initial_bias,\n",
    "        learn_rate = 0.001,\n",
    "        l1_neurons = n_init_neurons,\n",
    "        l2_neurons = 24,\n",
    "        input_shape = X.shape[-1:],\n",
    "        l2_dropout = 0.25\n",
    "    )\n",
    "    \n",
    "    results = model_keras_opt.evaluate(minmax.fit_transform(X_val), y_val, batch_size=BATCH_SIZE, verbose=0)\n",
    "    initial_weights = os.path.join(tempfile.mkdtemp(),'initial_weights')\n",
    "    model_keras_opt.save_weights(initial_weights)\n",
    "    \n",
    "    # Trainning of the model on the training features\n",
    "    model_keras_opt.fit(\n",
    "        minmax.fit_transform(X),\n",
    "        y,\n",
    "        epochs=EPOCHS,\n",
    "        batch_size=BATCH_SIZE,\n",
    "        callbacks = callback,\n",
    "        validation_data=(minmax.fit_transform(X_val), y_val),\n",
    "        class_weight=class_weights,\n",
    "        verbose=0\n",
    "    )\n",
    "    \n",
    "    # Evaluation of model with validation data\n",
    "    scores = model_keras_opt.evaluate(\n",
    "        x=X_val, \n",
    "        y=y_val,\n",
    "        verbose=0\n",
    "    )\n",
    "        \n",
    "    tn = scores[5]\n",
    "    tp = scores[6]\n",
    "    fn = scores[7]\n",
    "    fp = scores[8]\n",
    "    numerator = (tp * tn + fp * fn)\n",
    "    denominator = np.sqrt((tp + fp) * (tp + fn) * (tn + fp) * (tn + fn)) + 1e-7\n",
    "    mc_coef = numerator / denominator\n",
    "    # The target score to maximize, in this case we think the best is mcc\n",
    "    return mc_coef"
   ]
  },
  {
   "cell_type": "code",
   "execution_count": 39,
   "metadata": {},
   "outputs": [],
   "source": [
    "from functools import partial\n",
    "fit_with_partial = partial(fit_with)"
   ]
  },
  {
   "cell_type": "code",
   "execution_count": 40,
   "metadata": {},
   "outputs": [],
   "source": [
    "from bayes_opt import BayesianOptimization"
   ]
  },
  {
   "cell_type": "code",
   "execution_count": null,
   "metadata": {},
   "outputs": [
    {
     "name": "stdout",
     "output_type": "stream",
     "text": [
      "|   iter    |  target   | BATCH_... | l1_neu... | l2_dro... | l2_neu... | learn_... |\n",
      "-------------------------------------------------------------------------------------\n",
      "| \u001b[95m 4       \u001b[0m | \u001b[95m 0.3504  \u001b[0m | \u001b[95m 0.8572  \u001b[0m | \u001b[95m 16.53   \u001b[0m | \u001b[95m 0.6661  \u001b[0m | \u001b[95m 11.12   \u001b[0m | \u001b[95m 0.08701 \u001b[0m |\n",
      "| \u001b[95m 10      \u001b[0m | \u001b[95m 0.3842  \u001b[0m | \u001b[95m 3.25    \u001b[0m | \u001b[95m 21.47   \u001b[0m | \u001b[95m 0.1031  \u001b[0m | \u001b[95m 5.101   \u001b[0m | \u001b[95m 0.03643 \u001b[0m |\n",
      "| \u001b[95m 24      \u001b[0m | \u001b[95m 0.3849  \u001b[0m | \u001b[95m 4.6     \u001b[0m | \u001b[95m 16.0    \u001b[0m | \u001b[95m 0.0     \u001b[0m | \u001b[95m 3.735   \u001b[0m | \u001b[95m 0.1     \u001b[0m |\n",
      "| \u001b[95m 54      \u001b[0m | \u001b[95m 0.3888  \u001b[0m | \u001b[95m 4.6     \u001b[0m | \u001b[95m 28.21   \u001b[0m | \u001b[95m 0.0     \u001b[0m | \u001b[95m 1.0     \u001b[0m | \u001b[95m 0.1     \u001b[0m |\n",
      "| \u001b[95m 74      \u001b[0m | \u001b[95m 0.3999  \u001b[0m | \u001b[95m 0.5     \u001b[0m | \u001b[95m 18.85   \u001b[0m | \u001b[95m 0.0     \u001b[0m | \u001b[95m 1.0     \u001b[0m | \u001b[95m 0.1     \u001b[0m |\n"
     ]
    }
   ],
   "source": [
    "p_bounds = {\n",
    "    'learn_rate':(1e-4, 1e-1), \n",
    "    'l1_neurons':(16, 42), # max(int(i)*2, 32)\n",
    "    'l2_neurons':(1, 14), # max(int(i)*2, 2)\n",
    "    'l2_dropout':(0, 0.8),\n",
    "    'BATCH_SIZE':(0.5, 4.6), # max(int(i)*64, 32)\n",
    "}\n",
    "\n",
    "optimizer = BayesianOptimization(\n",
    "    f=fit_with_partial,\n",
    "    pbounds=p_bounds,\n",
    "    verbose=1,\n",
    "    random_state=0\n",
    ")\n",
    "\n",
    "optimizer.maximize(\n",
    "    init_points=10,\n",
    "    n_iter=100\n",
    ")\n",
    "\n",
    "#for i, res in enumerate(optimizer.res):\n",
    "#    print('Iteration {}: \\n\\t{}'.format(i, res))"
   ]
  },
  {
   "cell_type": "code",
   "execution_count": null,
   "metadata": {},
   "outputs": [],
   "source": [
    "print('learn_rate:', optimizer.max['params']['learn_rate'])\n",
    "print('l1_neurons:', max(int(optimizer.max['params']['l1_neurons'])*2, 32))\n",
    "print('l2_neurons:', max(int(optimizer.max['params']['l2_neurons'])*2, 2))\n",
    "print('l2_dropout:', optimizer.max['params']['l2_dropout'])\n",
    "print('BATCH_SIZE:', max(int(optimizer.max['params']['BATCH_SIZE'])*64, 32))"
   ]
  },
  {
   "cell_type": "code",
   "execution_count": null,
   "metadata": {},
   "outputs": [],
   "source": [
    "import time\n",
    "timestamp = time.gmtime()\n",
    "\n",
    "with open('../logs/nn_opt_log.txt', 'a') as file:\n",
    "    file.write(str(timestamp) + '\\n')\n",
    "    file.write('imbalanced: ' + str(optimizer.max) + '\\n')\n",
    "    file.write('---------------------------------------------------------------- \\n')\n",
    "file.close()"
   ]
  },
  {
   "cell_type": "code",
   "execution_count": null,
   "metadata": {},
   "outputs": [],
   "source": [
    "learn_rate = optimizer.max['params']['learn_rate']\n",
    "l1_neurons = max(int(optimizer.max['params']['l1_neurons'])*2, 32)\n",
    "l2_neurons = max(int(optimizer.max['params']['l2_neurons'])*2, 2)\n",
    "l2_dropout = optimizer.max['params']['l2_dropout']\n",
    "BATCH_SIZE = max(int(optimizer.max['params']['BATCH_SIZE'])*64, 32)\n",
    "\n",
    "tf.keras.backend.clear_session()"
   ]
  },
  {
   "cell_type": "markdown",
   "metadata": {},
   "source": [
    "#### 6.1.2. Evaluation - Stratified K-Fold CV"
   ]
  },
  {
   "cell_type": "code",
   "execution_count": null,
   "metadata": {},
   "outputs": [],
   "source": [
    "# Instantiate the cross validator\n",
    "skf = StratifiedKFold(n_splits=n_folds, shuffle=True)\n",
    "\n",
    "train_feat_norm = minmax.fit_transform(train_features)\n",
    "\n",
    "model_keras_w_history = []\n",
    "# Loop through the indices the split() method returns\n",
    "for index, (train_indices, val_indices) in enumerate(skf.split(train_feat_norm, train_labels)):\n",
    "    print(\"Training on fold \" + str(index+1) + \"/\" + str(skf.n_splits) + \"...\")\n",
    "    \n",
    "    # Generate batches from indices\n",
    "    X, X_val = train_feat_norm[train_indices], train_feat_norm[val_indices]\n",
    "    y, y_val = train_labels[train_indices], train_labels[val_indices]\n",
    "    \n",
    "    # Clear model\n",
    "    model_keras_w = None\n",
    "    \n",
    "    #Loss with correct initialization and saving of bias onto model\n",
    "    neg_nn, pos_nn = np.bincount(ytrain)\n",
    "    initial_bias = np.log([pos_nn/neg_nn])\n",
    "    \n",
    "    model_keras_w = make_model(\n",
    "        metrics = METRICS,\n",
    "        output_bias = initial_bias,\n",
    "        learn_rate = learn_rate,\n",
    "        l1_neurons = l1_neurons,\n",
    "        l2_neurons = l2_neurons,\n",
    "        input_shape = X.shape[-1:],\n",
    "        l2_dropout = l2_dropout\n",
    "    )\n",
    "    \n",
    "    results = model_keras_w.evaluate(xtrain, ytrain, batch_size=BATCH_SIZE, verbose=0)\n",
    "    initial_weights = os.path.join(tempfile.mkdtemp(),'initial_weights')\n",
    "    model_keras_w.save_weights(initial_weights)\n",
    "\n",
    "    baseline_history = model_keras_w.fit(\n",
    "        X,\n",
    "        y,\n",
    "        batch_size=BATCH_SIZE,\n",
    "        epochs=EPOCHS,\n",
    "        callbacks = callback,\n",
    "        validation_data=(X_val, y_val),\n",
    "        class_weight=class_weights,\n",
    "        verbose=0)\n",
    "    \n",
    "    model_keras_w_history.append(baseline_history)\n",
    "    m_summary = save_metrics(m_summary, 'NN_weighted', ytrain, model_keras_w.predict_proba(xtrain), batch_size=BATCH_SIZE, split_data='train', series='imbalanced')\n",
    "    m_summary = save_metrics(m_summary, 'NN_weighted', yval, model_keras_w.predict_proba(xval), batch_size=BATCH_SIZE, split_data='val', series='imbalanced')\n",
    "    m_summary = save_metrics(m_summary, 'NN_weighted', test_labels, model_keras_w.predict_proba(test_features), batch_size=BATCH_SIZE, split_data='test', series='imbalanced')\n",
    "print('...Done')\n",
    "\n",
    "tf.keras.backend.clear_session()"
   ]
  },
  {
   "cell_type": "code",
   "execution_count": null,
   "metadata": {},
   "outputs": [],
   "source": [
    "for i, h in enumerate(model_keras_w_history):\n",
    "    print('Metrics for fold nr:', i+1)\n",
    "    plot_nn_metrics(h)"
   ]
  },
  {
   "cell_type": "code",
   "execution_count": null,
   "metadata": {
    "pycharm": {
     "is_executing": false
    }
   },
   "outputs": [],
   "source": [
    "test_predictions_weighted = model_keras_w.predict_proba(test_features, batch_size=BATCH_SIZE)"
   ]
  },
  {
   "cell_type": "markdown",
   "metadata": {},
   "source": [
    "### 6.2. Oversampling Series"
   ]
  },
  {
   "cell_type": "markdown",
   "metadata": {},
   "source": [
    "#### 6.2.1. Optimization - Bayesian Optimization on weighted model"
   ]
  },
  {
   "cell_type": "code",
   "execution_count": null,
   "metadata": {},
   "outputs": [],
   "source": [
    "def fit_with_smote(\n",
    "    learn_rate, \n",
    "    l1_neurons, \n",
    "    l2_neurons, \n",
    "    l2_dropout,\n",
    "    BATCH_SIZE,\n",
    "    X = X_SMOTE_mm,\n",
    "    y = y_SMOTE\n",
    "):\n",
    "    X = np.array(train_features)\n",
    "    y = train_labels\n",
    "    # Split of data for evaluation (random state defined)\n",
    "    X, X_val, y, y_val = train_test_split(X, y, stratify=y, random_state=0, test_size=0.1)\n",
    "    # Instatiate model\n",
    "    #Loss with correct initialization and saving of bias onto model\n",
    "    neg_nn, pos_nn = np.bincount(y)\n",
    "    initial_bias = np.log([pos_nn/neg_nn])\n",
    "    \n",
    "    # Discretize parameters\n",
    "    l1_neurons = max(int(l1_neurons)*2, 32)\n",
    "    l2_neurons = max(int(l2_neurons)*2, 2)\n",
    "    BATCH_SIZE = max(int(BATCH_SIZE)*64, 32)\n",
    "    \n",
    "    model_keras_opt_smote = make_model(\n",
    "        metrics = METRICS,\n",
    "        output_bias = initial_bias,\n",
    "        learn_rate = 0.001,\n",
    "        l1_neurons = n_init_neurons,\n",
    "        l2_neurons = 24,\n",
    "        input_shape = X.shape[-1:],\n",
    "        l2_dropout = 0.25\n",
    "    )\n",
    "    \n",
    "    results = model_keras_opt_smote.evaluate(minmax.fit_transform(X_val), y_val, batch_size=BATCH_SIZE, verbose=0)\n",
    "    initial_weights = os.path.join(tempfile.mkdtemp(),'initial_weights')\n",
    "    model_keras_opt_smote.save_weights(initial_weights)\n",
    "    \n",
    "    # Trainning of the model on the training features\n",
    "    model_keras_opt_smote.fit(\n",
    "        minmax.fit_transform(X),\n",
    "        y,\n",
    "        epochs=EPOCHS,\n",
    "        batch_size=BATCH_SIZE,\n",
    "        callbacks = callback,\n",
    "        validation_data=(minmax.fit_transform(X_val), y_val),\n",
    "        verbose=0\n",
    "    )\n",
    "    \n",
    "    # Evaluation of model with validation data\n",
    "    scores = model_keras_opt_smote.evaluate(\n",
    "        x=X_val, \n",
    "        y=y_val,\n",
    "        verbose=0\n",
    "    )\n",
    "    \n",
    "    tn = scores[5]\n",
    "    tp = scores[6]\n",
    "    fn = scores[7]\n",
    "    fp = scores[8]\n",
    "    numerator = (tp * tn + fp * fn)\n",
    "    denominator = np.sqrt((tp + fp) * (tp + fn) * (tn + fp) * (tn + fn)) + 1e-7\n",
    "    mc_coef = numerator / denominator\n",
    "    # The target score to maximize, in this case we think the best is mcc\n",
    "    return mc_coef"
   ]
  },
  {
   "cell_type": "code",
   "execution_count": null,
   "metadata": {},
   "outputs": [],
   "source": [
    "fit_with_partial_smote = partial(fit_with_smote)\n",
    "\n",
    "optimizer_smote = BayesianOptimization(\n",
    "    f=fit_with_partial_smote,\n",
    "    pbounds=p_bounds,\n",
    "    verbose=1,\n",
    "    random_state=0\n",
    ")\n",
    "\n",
    "optimizer_smote.maximize(\n",
    "    init_points=10,\n",
    "    n_iter=100\n",
    ")\n",
    "\n",
    "#for i, res in enumerate(optimizer.res):\n",
    "#    print('Iteration {}: \\n\\t{}'.format(i, res))\n",
    "\n",
    "print('learn_rate:', optimizer_smote.max['params']['learn_rate'])\n",
    "print('l1_neurons:', max(int(optimizer_smote.max['params']['l1_neurons'])*2, 32))\n",
    "print('l2_neurons:', max(int(optimizer_smote.max['params']['l2_neurons'])*2, 2))\n",
    "print('l2_dropout:', optimizer_smote.max['params']['l2_dropout'])\n",
    "print('BATCH_SIZE:', max(int(optimizer_smote.max['params']['BATCH_SIZE'])*64, 32))"
   ]
  },
  {
   "cell_type": "code",
   "execution_count": null,
   "metadata": {},
   "outputs": [],
   "source": [
    "import time\n",
    "timestamp = time.gmtime()\n",
    "\n",
    "with open('../logs/nn_opt_log.txt', 'a') as file:\n",
    "    file.write(str(timestamp) + '\\n')\n",
    "    file.write('smote: ' + str(optimizer_smote.max) + '\\n')\n",
    "    file.write('---------------------------------------------------------------- \\n')\n",
    "file.close()"
   ]
  },
  {
   "cell_type": "code",
   "execution_count": null,
   "metadata": {},
   "outputs": [],
   "source": [
    "learn_rate = optimizer_smote.max['params']['learn_rate']\n",
    "l1_neurons = max(int(optimizer_smote.max['params']['l1_neurons'])*2, 32)\n",
    "l2_neurons = max(int(optimizer_smote.max['params']['l2_neurons'])*2, 2)\n",
    "l2_dropout = optimizer_smote.max['params']['l2_dropout']\n",
    "BATCH_SIZE = max(int(optimizer_smote.max['params']['BATCH_SIZE'])*64, 32)\n",
    "\n",
    "tf.keras.backend.clear_session()"
   ]
  },
  {
   "cell_type": "markdown",
   "metadata": {},
   "source": [
    "#### 6.2.2. Evaluation - Stratified K-Fold CV"
   ]
  },
  {
   "cell_type": "code",
   "execution_count": null,
   "metadata": {},
   "outputs": [],
   "source": [
    "model_keras_smote_history = []\n",
    "for index, (train_indices, val_indices) in enumerate(skf.split(train_features_v, train_labels)):\n",
    "    print(\"Training on fold \" + str(index+1) + \"/\" + str(skf.n_splits) + \"...\")\n",
    "    # Generate batches from indices\n",
    "    xtrain, xval = train_features_v[train_indices], train_features_v[val_indices]\n",
    "    ytrain, yval = train_labels[train_indices], train_labels[val_indices]\n",
    "    \n",
    "    # Oversampling training sets\n",
    "    xtrain_SMOTE, ytrain_SMOTE = smote.fit_sample(xtrain, ytrain)\n",
    "    xtrain_SMOTE = minmax.fit_transform(xtrain_SMOTE)\n",
    "    \n",
    "    # Clear model\n",
    "    model_keras_smote = None\n",
    "    \n",
    "    #Loss with correct initialization and saving of bias onto model\n",
    "    #neg_nn, pos_nn = np.bincount(ytrain_SMOTE)\n",
    "    #initial_bias = np.log([pos_nn/neg_nn])\n",
    "    model_keras_smote = make_model()#output_bias = initial_bias)\n",
    "    #results = model_keras_smote.evaluate(xtrain, ytrain, batch_size=BATCH_SIZE, verbose=0)\n",
    "    #initial_weights = os.path.join(tempfile.mkdtemp(),'initial_weights')\n",
    "    #model_keras_smote.save_weights(initial_weights)\n",
    "\n",
    "    baseline_history_smote = model_keras_smote.fit(\n",
    "        xtrain_SMOTE,\n",
    "        ytrain_SMOTE,\n",
    "        batch_size=BATCH_SIZE,\n",
    "        epochs=EPOCHS,\n",
    "        callbacks = callback,\n",
    "        validation_data=(xval, yval),\n",
    "        verbose=0)\n",
    "    \n",
    "    # Debug message\n",
    "    # print \"Training new iteration on \" + str(xtrain.shape[0]) + \" training samples, \" + str(xval.shape[0]) + \" validation samples, this may be a while...\"\n",
    "    \n",
    "    model_keras_smote_history.append(baseline_history_smote)\n",
    "    m_summary = save_metrics(m_summary, 'NN_weighted', ytrain_SMOTE, model_keras_smote.predict_proba(xtrain_SMOTE), batch_size=BATCH_SIZE, split_data='train', series='SMOTE')\n",
    "    m_summary = save_metrics(m_summary, 'NN_weighted', yval, model_keras_smote.predict_proba(xval), batch_size=BATCH_SIZE, split_data='val', series='SMOTE')\n",
    "    m_summary = save_metrics(m_summary, 'NN_weighted', test_labels, model_keras_smote.predict_proba(test_features), batch_size=BATCH_SIZE, split_data='test', series='SMOTE')\n",
    "print('...Done')"
   ]
  },
  {
   "cell_type": "code",
   "execution_count": null,
   "metadata": {},
   "outputs": [],
   "source": [
    "for i, h in enumerate(model_keras_smote_history):\n",
    "    print('Metrics for fold nr:', i+1)\n",
    "    plot_nn_metrics(h)"
   ]
  },
  {
   "cell_type": "markdown",
   "metadata": {},
   "source": [
    "# ..."
   ]
  },
  {
   "cell_type": "markdown",
   "metadata": {
    "toc-hr-collapsed": false
   },
   "source": [
    "# III. Selecting Best Models"
   ]
  },
  {
   "cell_type": "code",
   "execution_count": 49,
   "metadata": {
    "pycharm": {
     "is_executing": false
    }
   },
   "outputs": [
    {
     "data": {
      "image/png": "[encoded data removed]",
      "text/plain": [
       "<Figure size 504x504 with 1 Axes>"
      ]
     },
     "metadata": {
      "needs_background": "light"
     },
     "output_type": "display_data"
    }
   ],
   "source": [
    "plt.figure(figsize=(7, 7))\n",
    "plot_pr_curve(\"XGB Test\", test_labels, model_XGB.predict_proba(test_features)[:, 1], model_XGB.predict(test_features), lcolor=colors[0], lstyle='--', lwidth=1)\n",
    "\n",
    "plot_pr_curve(\"Log Test\", test_labels, model_logistic.predict_proba(test_features)[:, 1], model_logistic.predict(test_features), lcolor=colors[1], lstyle='--', lwidth=1)\n",
    "\n",
    "plot_pr_curve(\"LinearSVC Test\", test_labels, model_LinearSVC.decision_function(test_features), model_LinearSVC.predict(test_features), lcolor=colors[2], lstyle='--', lwidth=1)\n",
    "\n",
    "plot_pr_curve(\"SVC Test\", test_labels, model_SVC.predict_proba(test_features)[:, 1], model_SVC.predict(test_features), lcolor=colors[3], lstyle='--', lwidth=1)\n",
    "\n",
    "plot_pr_curve(\"RandomForest Test\", test_labels, model_RandomForest.predict_proba(test_features)[:, 1], model_RandomForest.predict(test_features), lcolor=colors[4], lstyle='--', lwidth=1)\n",
    "\n",
    "plot_pr_curve(\"NN Test Weighted\", test_labels, test_predictions_weighted, model_keras_w.predict_classes(test_features, batch_size=BATCH_SIZE), lcolor=colors[5], lstyle='-')\n",
    "\n",
    "plt.legend(loc='upper right')\n",
    "plt.show()"
   ]
  },
  {
   "cell_type": "code",
   "execution_count": 50,
   "metadata": {
    "pycharm": {
     "is_executing": false
    }
   },
   "outputs": [
    {
     "data": {
      "text/html": [
       "<div>\n",
       "<style scoped>\n",
       "    .dataframe tbody tr th:only-of-type {\n",
       "        vertical-align: middle;\n",
       "    }\n",
       "\n",
       "    .dataframe tbody tr th {\n",
       "        vertical-align: top;\n",
       "    }\n",
       "\n",
       "    .dataframe thead th {\n",
       "        text-align: right;\n",
       "    }\n",
       "</style>\n",
       "<table border=\"1\" class=\"dataframe\">\n",
       "  <thead>\n",
       "    <tr style=\"text-align: right;\">\n",
       "      <th></th>\n",
       "      <th></th>\n",
       "      <th></th>\n",
       "      <th>acc</th>\n",
       "      <th>prec</th>\n",
       "      <th>recall</th>\n",
       "      <th>pr_auc</th>\n",
       "      <th>f1</th>\n",
       "      <th>mc_coef</th>\n",
       "      <th>batch_s</th>\n",
       "    </tr>\n",
       "    <tr>\n",
       "      <th>model</th>\n",
       "      <th>data</th>\n",
       "      <th>series</th>\n",
       "      <th></th>\n",
       "      <th></th>\n",
       "      <th></th>\n",
       "      <th></th>\n",
       "      <th></th>\n",
       "      <th></th>\n",
       "      <th></th>\n",
       "    </tr>\n",
       "  </thead>\n",
       "  <tbody>\n",
       "    <tr>\n",
       "      <th>model_XGB</th>\n",
       "      <th>train</th>\n",
       "      <th>imbalanced</th>\n",
       "      <td>0.99</td>\n",
       "      <td>1.00</td>\n",
       "      <td>0.91</td>\n",
       "      <td>1.00</td>\n",
       "      <td>0.95</td>\n",
       "      <td>0.95</td>\n",
       "      <td>NaN</td>\n",
       "    </tr>\n",
       "    <tr>\n",
       "      <th>model_RandomForest</th>\n",
       "      <th>train</th>\n",
       "      <th>imbalanced</th>\n",
       "      <td>0.94</td>\n",
       "      <td>0.83</td>\n",
       "      <td>0.82</td>\n",
       "      <td>0.90</td>\n",
       "      <td>0.82</td>\n",
       "      <td>0.79</td>\n",
       "      <td>NaN</td>\n",
       "    </tr>\n",
       "    <tr>\n",
       "      <th rowspan=\"2\" valign=\"top\">NN_weighted</th>\n",
       "      <th>val</th>\n",
       "      <th>imbalanced</th>\n",
       "      <td>0.86</td>\n",
       "      <td>0.58</td>\n",
       "      <td>0.72</td>\n",
       "      <td>0.74</td>\n",
       "      <td>0.62</td>\n",
       "      <td>0.56</td>\n",
       "      <td>192.0</td>\n",
       "    </tr>\n",
       "    <tr>\n",
       "      <th>train</th>\n",
       "      <th>imbalanced</th>\n",
       "      <td>0.86</td>\n",
       "      <td>0.57</td>\n",
       "      <td>0.74</td>\n",
       "      <td>0.73</td>\n",
       "      <td>0.62</td>\n",
       "      <td>0.56</td>\n",
       "      <td>192.0</td>\n",
       "    </tr>\n",
       "    <tr>\n",
       "      <th>model_LinearSVC</th>\n",
       "      <th>train</th>\n",
       "      <th>imbalanced</th>\n",
       "      <td>0.88</td>\n",
       "      <td>0.70</td>\n",
       "      <td>0.47</td>\n",
       "      <td>0.65</td>\n",
       "      <td>0.56</td>\n",
       "      <td>0.51</td>\n",
       "      <td>NaN</td>\n",
       "    </tr>\n",
       "    <tr>\n",
       "      <th>model_SVC</th>\n",
       "      <th>val</th>\n",
       "      <th>imbalanced</th>\n",
       "      <td>0.88</td>\n",
       "      <td>0.73</td>\n",
       "      <td>0.38</td>\n",
       "      <td>0.59</td>\n",
       "      <td>0.50</td>\n",
       "      <td>0.47</td>\n",
       "      <td>NaN</td>\n",
       "    </tr>\n",
       "    <tr>\n",
       "      <th>model_logistic</th>\n",
       "      <th>train</th>\n",
       "      <th>imbalanced</th>\n",
       "      <td>0.78</td>\n",
       "      <td>0.41</td>\n",
       "      <td>0.81</td>\n",
       "      <td>0.65</td>\n",
       "      <td>0.54</td>\n",
       "      <td>0.46</td>\n",
       "      <td>NaN</td>\n",
       "    </tr>\n",
       "    <tr>\n",
       "      <th>model_LinearSVC</th>\n",
       "      <th>val</th>\n",
       "      <th>imbalanced</th>\n",
       "      <td>0.87</td>\n",
       "      <td>0.63</td>\n",
       "      <td>0.39</td>\n",
       "      <td>0.58</td>\n",
       "      <td>0.48</td>\n",
       "      <td>0.43</td>\n",
       "      <td>NaN</td>\n",
       "    </tr>\n",
       "    <tr>\n",
       "      <th>model_RandomForest</th>\n",
       "      <th>val</th>\n",
       "      <th>imbalanced</th>\n",
       "      <td>0.85</td>\n",
       "      <td>0.55</td>\n",
       "      <td>0.46</td>\n",
       "      <td>0.53</td>\n",
       "      <td>0.50</td>\n",
       "      <td>0.42</td>\n",
       "      <td>NaN</td>\n",
       "    </tr>\n",
       "    <tr>\n",
       "      <th>model_XGB</th>\n",
       "      <th>val</th>\n",
       "      <th>imbalanced</th>\n",
       "      <td>0.87</td>\n",
       "      <td>0.75</td>\n",
       "      <td>0.28</td>\n",
       "      <td>0.55</td>\n",
       "      <td>0.40</td>\n",
       "      <td>0.40</td>\n",
       "      <td>NaN</td>\n",
       "    </tr>\n",
       "    <tr>\n",
       "      <th>model_logistic</th>\n",
       "      <th>val</th>\n",
       "      <th>imbalanced</th>\n",
       "      <td>0.75</td>\n",
       "      <td>0.37</td>\n",
       "      <td>0.75</td>\n",
       "      <td>0.59</td>\n",
       "      <td>0.49</td>\n",
       "      <td>0.39</td>\n",
       "      <td>NaN</td>\n",
       "    </tr>\n",
       "    <tr>\n",
       "      <th>model_SVC</th>\n",
       "      <th>train</th>\n",
       "      <th>imbalanced</th>\n",
       "      <td>0.86</td>\n",
       "      <td>0.66</td>\n",
       "      <td>0.30</td>\n",
       "      <td>0.53</td>\n",
       "      <td>0.41</td>\n",
       "      <td>0.38</td>\n",
       "      <td>NaN</td>\n",
       "    </tr>\n",
       "    <tr>\n",
       "      <th>model_logistic</th>\n",
       "      <th>test</th>\n",
       "      <th>imbalanced</th>\n",
       "      <td>0.77</td>\n",
       "      <td>0.38</td>\n",
       "      <td>0.61</td>\n",
       "      <td>0.48</td>\n",
       "      <td>0.47</td>\n",
       "      <td>0.35</td>\n",
       "      <td>NaN</td>\n",
       "    </tr>\n",
       "    <tr>\n",
       "      <th>model_SVC</th>\n",
       "      <th>test</th>\n",
       "      <th>imbalanced</th>\n",
       "      <td>0.85</td>\n",
       "      <td>0.72</td>\n",
       "      <td>0.18</td>\n",
       "      <td>0.47</td>\n",
       "      <td>0.29</td>\n",
       "      <td>0.31</td>\n",
       "      <td>NaN</td>\n",
       "    </tr>\n",
       "    <tr>\n",
       "      <th>model_XGB</th>\n",
       "      <th>test</th>\n",
       "      <th>imbalanced</th>\n",
       "      <td>0.85</td>\n",
       "      <td>0.72</td>\n",
       "      <td>0.18</td>\n",
       "      <td>0.45</td>\n",
       "      <td>0.28</td>\n",
       "      <td>0.31</td>\n",
       "      <td>NaN</td>\n",
       "    </tr>\n",
       "    <tr>\n",
       "      <th>NN_weighted</th>\n",
       "      <th>test</th>\n",
       "      <th>imbalanced</th>\n",
       "      <td>0.81</td>\n",
       "      <td>0.46</td>\n",
       "      <td>0.38</td>\n",
       "      <td>0.46</td>\n",
       "      <td>0.38</td>\n",
       "      <td>0.29</td>\n",
       "      <td>192.0</td>\n",
       "    </tr>\n",
       "    <tr>\n",
       "      <th>model_LinearSVC</th>\n",
       "      <th>test</th>\n",
       "      <th>imbalanced</th>\n",
       "      <td>0.84</td>\n",
       "      <td>0.54</td>\n",
       "      <td>0.19</td>\n",
       "      <td>0.47</td>\n",
       "      <td>0.28</td>\n",
       "      <td>0.25</td>\n",
       "      <td>NaN</td>\n",
       "    </tr>\n",
       "    <tr>\n",
       "      <th>model_RandomForest</th>\n",
       "      <th>test</th>\n",
       "      <th>imbalanced</th>\n",
       "      <td>0.80</td>\n",
       "      <td>0.34</td>\n",
       "      <td>0.20</td>\n",
       "      <td>0.40</td>\n",
       "      <td>0.25</td>\n",
       "      <td>0.16</td>\n",
       "      <td>NaN</td>\n",
       "    </tr>\n",
       "  </tbody>\n",
       "</table>\n",
       "</div>"
      ],
      "text/plain": [
       "                                      acc  prec  recall  pr_auc    f1  \\\n",
       "model              data  series                                         \n",
       "model_XGB          train imbalanced  0.99  1.00    0.91    1.00  0.95   \n",
       "model_RandomForest train imbalanced  0.94  0.83    0.82    0.90  0.82   \n",
       "NN_weighted        val   imbalanced  0.86  0.58    0.72    0.74  0.62   \n",
       "                   train imbalanced  0.86  0.57    0.74    0.73  0.62   \n",
       "model_LinearSVC    train imbalanced  0.88  0.70    0.47    0.65  0.56   \n",
       "model_SVC          val   imbalanced  0.88  0.73    0.38    0.59  0.50   \n",
       "model_logistic     train imbalanced  0.78  0.41    0.81    0.65  0.54   \n",
       "model_LinearSVC    val   imbalanced  0.87  0.63    0.39    0.58  0.48   \n",
       "model_RandomForest val   imbalanced  0.85  0.55    0.46    0.53  0.50   \n",
       "model_XGB          val   imbalanced  0.87  0.75    0.28    0.55  0.40   \n",
       "model_logistic     val   imbalanced  0.75  0.37    0.75    0.59  0.49   \n",
       "model_SVC          train imbalanced  0.86  0.66    0.30    0.53  0.41   \n",
       "model_logistic     test  imbalanced  0.77  0.38    0.61    0.48  0.47   \n",
       "model_SVC          test  imbalanced  0.85  0.72    0.18    0.47  0.29   \n",
       "model_XGB          test  imbalanced  0.85  0.72    0.18    0.45  0.28   \n",
       "NN_weighted        test  imbalanced  0.81  0.46    0.38    0.46  0.38   \n",
       "model_LinearSVC    test  imbalanced  0.84  0.54    0.19    0.47  0.28   \n",
       "model_RandomForest test  imbalanced  0.80  0.34    0.20    0.40  0.25   \n",
       "\n",
       "                                     mc_coef  batch_s  \n",
       "model              data  series                        \n",
       "model_XGB          train imbalanced     0.95      NaN  \n",
       "model_RandomForest train imbalanced     0.79      NaN  \n",
       "NN_weighted        val   imbalanced     0.56    192.0  \n",
       "                   train imbalanced     0.56    192.0  \n",
       "model_LinearSVC    train imbalanced     0.51      NaN  \n",
       "model_SVC          val   imbalanced     0.47      NaN  \n",
       "model_logistic     train imbalanced     0.46      NaN  \n",
       "model_LinearSVC    val   imbalanced     0.43      NaN  \n",
       "model_RandomForest val   imbalanced     0.42      NaN  \n",
       "model_XGB          val   imbalanced     0.40      NaN  \n",
       "model_logistic     val   imbalanced     0.39      NaN  \n",
       "model_SVC          train imbalanced     0.38      NaN  \n",
       "model_logistic     test  imbalanced     0.35      NaN  \n",
       "model_SVC          test  imbalanced     0.31      NaN  \n",
       "model_XGB          test  imbalanced     0.31      NaN  \n",
       "NN_weighted        test  imbalanced     0.29    192.0  \n",
       "model_LinearSVC    test  imbalanced     0.25      NaN  \n",
       "model_RandomForest test  imbalanced     0.16      NaN  "
      ]
     },
     "execution_count": 50,
     "metadata": {},
     "output_type": "execute_result"
    }
   ],
   "source": [
    "m_summary.groupby(['model', 'data', 'series']).mean().sort_values(by=['mc_coef', 'recall'], ascending=False).applymap(lambda x: np.round(x,2))"
   ]
  },
  {
   "cell_type": "code",
   "execution_count": 75,
   "metadata": {},
   "outputs": [],
   "source": [
    "m_summary.to_csv('../logs/metrics_summary.csv')"
   ]
  },
  {
   "cell_type": "code",
   "execution_count": 76,
   "metadata": {
    "pycharm": {
     "is_executing": false
    }
   },
   "outputs": [
    {
     "data": {
      "text/html": [
       "<div>\n",
       "<style scoped>\n",
       "    .dataframe tbody tr th:only-of-type {\n",
       "        vertical-align: middle;\n",
       "    }\n",
       "\n",
       "    .dataframe tbody tr th {\n",
       "        vertical-align: top;\n",
       "    }\n",
       "\n",
       "    .dataframe thead th {\n",
       "        text-align: right;\n",
       "    }\n",
       "</style>\n",
       "<table border=\"1\" class=\"dataframe\">\n",
       "  <thead>\n",
       "    <tr style=\"text-align: right;\">\n",
       "      <th></th>\n",
       "      <th></th>\n",
       "      <th></th>\n",
       "      <th>acc</th>\n",
       "      <th>prec</th>\n",
       "      <th>recall</th>\n",
       "      <th>pr_auc</th>\n",
       "      <th>f1</th>\n",
       "      <th>mc_coef</th>\n",
       "      <th>batch_s</th>\n",
       "    </tr>\n",
       "    <tr>\n",
       "      <th>model</th>\n",
       "      <th>data</th>\n",
       "      <th>series</th>\n",
       "      <th></th>\n",
       "      <th></th>\n",
       "      <th></th>\n",
       "      <th></th>\n",
       "      <th></th>\n",
       "      <th></th>\n",
       "      <th></th>\n",
       "    </tr>\n",
       "  </thead>\n",
       "  <tbody>\n",
       "    <tr>\n",
       "      <th>model_XGB</th>\n",
       "      <th>train</th>\n",
       "      <th>SMOTE</th>\n",
       "      <td>1.00</td>\n",
       "      <td>1.00</td>\n",
       "      <td>1.00</td>\n",
       "      <td>1.00</td>\n",
       "      <td>1.00</td>\n",
       "      <td>1.00</td>\n",
       "      <td>NaN</td>\n",
       "    </tr>\n",
       "    <tr>\n",
       "      <th>model_RandomForest</th>\n",
       "      <th>train</th>\n",
       "      <th>SMOTE</th>\n",
       "      <td>0.99</td>\n",
       "      <td>1.00</td>\n",
       "      <td>0.98</td>\n",
       "      <td>1.00</td>\n",
       "      <td>0.99</td>\n",
       "      <td>0.98</td>\n",
       "      <td>NaN</td>\n",
       "    </tr>\n",
       "    <tr>\n",
       "      <th>model_XGB</th>\n",
       "      <th>train</th>\n",
       "      <th>imbalanced</th>\n",
       "      <td>0.99</td>\n",
       "      <td>1.00</td>\n",
       "      <td>0.91</td>\n",
       "      <td>1.00</td>\n",
       "      <td>0.95</td>\n",
       "      <td>0.95</td>\n",
       "      <td>NaN</td>\n",
       "    </tr>\n",
       "    <tr>\n",
       "      <th>model_SVC</th>\n",
       "      <th>train</th>\n",
       "      <th>SMOTE</th>\n",
       "      <td>0.90</td>\n",
       "      <td>0.90</td>\n",
       "      <td>0.90</td>\n",
       "      <td>0.93</td>\n",
       "      <td>0.90</td>\n",
       "      <td>0.80</td>\n",
       "      <td>NaN</td>\n",
       "    </tr>\n",
       "    <tr>\n",
       "      <th>model_RandomForest</th>\n",
       "      <th>train</th>\n",
       "      <th>imbalanced</th>\n",
       "      <td>0.94</td>\n",
       "      <td>0.83</td>\n",
       "      <td>0.82</td>\n",
       "      <td>0.90</td>\n",
       "      <td>0.82</td>\n",
       "      <td>0.79</td>\n",
       "      <td>NaN</td>\n",
       "    </tr>\n",
       "    <tr>\n",
       "      <th rowspan=\"2\" valign=\"top\">NN_weighted</th>\n",
       "      <th>val</th>\n",
       "      <th>imbalanced</th>\n",
       "      <td>0.86</td>\n",
       "      <td>0.58</td>\n",
       "      <td>0.72</td>\n",
       "      <td>0.74</td>\n",
       "      <td>0.62</td>\n",
       "      <td>0.56</td>\n",
       "      <td>192.0</td>\n",
       "    </tr>\n",
       "    <tr>\n",
       "      <th>train</th>\n",
       "      <th>imbalanced</th>\n",
       "      <td>0.86</td>\n",
       "      <td>0.57</td>\n",
       "      <td>0.74</td>\n",
       "      <td>0.73</td>\n",
       "      <td>0.62</td>\n",
       "      <td>0.56</td>\n",
       "      <td>192.0</td>\n",
       "    </tr>\n",
       "    <tr>\n",
       "      <th rowspan=\"2\" valign=\"top\">model_LinearSVC</th>\n",
       "      <th rowspan=\"2\" valign=\"top\">train</th>\n",
       "      <th>SMOTE</th>\n",
       "      <td>0.73</td>\n",
       "      <td>0.91</td>\n",
       "      <td>0.51</td>\n",
       "      <td>0.88</td>\n",
       "      <td>0.65</td>\n",
       "      <td>0.51</td>\n",
       "      <td>NaN</td>\n",
       "    </tr>\n",
       "    <tr>\n",
       "      <th>imbalanced</th>\n",
       "      <td>0.88</td>\n",
       "      <td>0.70</td>\n",
       "      <td>0.47</td>\n",
       "      <td>0.65</td>\n",
       "      <td>0.56</td>\n",
       "      <td>0.51</td>\n",
       "      <td>NaN</td>\n",
       "    </tr>\n",
       "    <tr>\n",
       "      <th>model_SVC</th>\n",
       "      <th>val</th>\n",
       "      <th>imbalanced</th>\n",
       "      <td>0.88</td>\n",
       "      <td>0.73</td>\n",
       "      <td>0.38</td>\n",
       "      <td>0.59</td>\n",
       "      <td>0.50</td>\n",
       "      <td>0.47</td>\n",
       "      <td>NaN</td>\n",
       "    </tr>\n",
       "    <tr>\n",
       "      <th>model_logistic</th>\n",
       "      <th>train</th>\n",
       "      <th>imbalanced</th>\n",
       "      <td>0.78</td>\n",
       "      <td>0.41</td>\n",
       "      <td>0.81</td>\n",
       "      <td>0.65</td>\n",
       "      <td>0.54</td>\n",
       "      <td>0.46</td>\n",
       "      <td>NaN</td>\n",
       "    </tr>\n",
       "    <tr>\n",
       "      <th>model_XGB</th>\n",
       "      <th>val</th>\n",
       "      <th>SMOTE</th>\n",
       "      <td>0.86</td>\n",
       "      <td>0.60</td>\n",
       "      <td>0.46</td>\n",
       "      <td>0.59</td>\n",
       "      <td>0.51</td>\n",
       "      <td>0.44</td>\n",
       "      <td>NaN</td>\n",
       "    </tr>\n",
       "    <tr>\n",
       "      <th rowspan=\"2\" valign=\"top\">model_LinearSVC</th>\n",
       "      <th rowspan=\"2\" valign=\"top\">val</th>\n",
       "      <th>SMOTE</th>\n",
       "      <td>0.86</td>\n",
       "      <td>0.61</td>\n",
       "      <td>0.44</td>\n",
       "      <td>0.59</td>\n",
       "      <td>0.51</td>\n",
       "      <td>0.44</td>\n",
       "      <td>NaN</td>\n",
       "    </tr>\n",
       "    <tr>\n",
       "      <th>imbalanced</th>\n",
       "      <td>0.87</td>\n",
       "      <td>0.63</td>\n",
       "      <td>0.39</td>\n",
       "      <td>0.58</td>\n",
       "      <td>0.48</td>\n",
       "      <td>0.43</td>\n",
       "      <td>NaN</td>\n",
       "    </tr>\n",
       "    <tr>\n",
       "      <th>model_RandomForest</th>\n",
       "      <th>val</th>\n",
       "      <th>imbalanced</th>\n",
       "      <td>0.85</td>\n",
       "      <td>0.55</td>\n",
       "      <td>0.46</td>\n",
       "      <td>0.53</td>\n",
       "      <td>0.50</td>\n",
       "      <td>0.42</td>\n",
       "      <td>NaN</td>\n",
       "    </tr>\n",
       "    <tr>\n",
       "      <th>model_XGB</th>\n",
       "      <th>val</th>\n",
       "      <th>imbalanced</th>\n",
       "      <td>0.87</td>\n",
       "      <td>0.75</td>\n",
       "      <td>0.28</td>\n",
       "      <td>0.55</td>\n",
       "      <td>0.40</td>\n",
       "      <td>0.40</td>\n",
       "      <td>NaN</td>\n",
       "    </tr>\n",
       "    <tr>\n",
       "      <th>model_logistic</th>\n",
       "      <th>val</th>\n",
       "      <th>imbalanced</th>\n",
       "      <td>0.75</td>\n",
       "      <td>0.37</td>\n",
       "      <td>0.75</td>\n",
       "      <td>0.59</td>\n",
       "      <td>0.49</td>\n",
       "      <td>0.39</td>\n",
       "      <td>NaN</td>\n",
       "    </tr>\n",
       "    <tr>\n",
       "      <th>model_RandomForest</th>\n",
       "      <th>val</th>\n",
       "      <th>SMOTE</th>\n",
       "      <td>0.87</td>\n",
       "      <td>0.75</td>\n",
       "      <td>0.26</td>\n",
       "      <td>0.57</td>\n",
       "      <td>0.39</td>\n",
       "      <td>0.39</td>\n",
       "      <td>NaN</td>\n",
       "    </tr>\n",
       "    <tr>\n",
       "      <th>model_SVC</th>\n",
       "      <th>train</th>\n",
       "      <th>imbalanced</th>\n",
       "      <td>0.86</td>\n",
       "      <td>0.66</td>\n",
       "      <td>0.30</td>\n",
       "      <td>0.53</td>\n",
       "      <td>0.41</td>\n",
       "      <td>0.38</td>\n",
       "      <td>NaN</td>\n",
       "    </tr>\n",
       "    <tr>\n",
       "      <th rowspan=\"2\" valign=\"top\">model_logistic</th>\n",
       "      <th rowspan=\"2\" valign=\"top\">test</th>\n",
       "      <th>imbalanced</th>\n",
       "      <td>0.77</td>\n",
       "      <td>0.38</td>\n",
       "      <td>0.61</td>\n",
       "      <td>0.48</td>\n",
       "      <td>0.47</td>\n",
       "      <td>0.35</td>\n",
       "      <td>NaN</td>\n",
       "    </tr>\n",
       "    <tr>\n",
       "      <th>SMOTE</th>\n",
       "      <td>0.76</td>\n",
       "      <td>0.36</td>\n",
       "      <td>0.58</td>\n",
       "      <td>0.54</td>\n",
       "      <td>0.44</td>\n",
       "      <td>0.32</td>\n",
       "      <td>NaN</td>\n",
       "    </tr>\n",
       "    <tr>\n",
       "      <th>model_SVC</th>\n",
       "      <th>test</th>\n",
       "      <th>imbalanced</th>\n",
       "      <td>0.85</td>\n",
       "      <td>0.72</td>\n",
       "      <td>0.18</td>\n",
       "      <td>0.47</td>\n",
       "      <td>0.29</td>\n",
       "      <td>0.31</td>\n",
       "      <td>NaN</td>\n",
       "    </tr>\n",
       "    <tr>\n",
       "      <th>model_XGB</th>\n",
       "      <th>test</th>\n",
       "      <th>imbalanced</th>\n",
       "      <td>0.85</td>\n",
       "      <td>0.72</td>\n",
       "      <td>0.18</td>\n",
       "      <td>0.45</td>\n",
       "      <td>0.28</td>\n",
       "      <td>0.31</td>\n",
       "      <td>NaN</td>\n",
       "    </tr>\n",
       "    <tr>\n",
       "      <th>NN_weighted</th>\n",
       "      <th>test</th>\n",
       "      <th>imbalanced</th>\n",
       "      <td>0.81</td>\n",
       "      <td>0.46</td>\n",
       "      <td>0.38</td>\n",
       "      <td>0.46</td>\n",
       "      <td>0.38</td>\n",
       "      <td>0.29</td>\n",
       "      <td>192.0</td>\n",
       "    </tr>\n",
       "    <tr>\n",
       "      <th>model_LinearSVC</th>\n",
       "      <th>test</th>\n",
       "      <th>imbalanced</th>\n",
       "      <td>0.84</td>\n",
       "      <td>0.54</td>\n",
       "      <td>0.19</td>\n",
       "      <td>0.47</td>\n",
       "      <td>0.28</td>\n",
       "      <td>0.25</td>\n",
       "      <td>NaN</td>\n",
       "    </tr>\n",
       "    <tr>\n",
       "      <th>model_RandomForest</th>\n",
       "      <th>test</th>\n",
       "      <th>imbalanced</th>\n",
       "      <td>0.80</td>\n",
       "      <td>0.34</td>\n",
       "      <td>0.20</td>\n",
       "      <td>0.40</td>\n",
       "      <td>0.25</td>\n",
       "      <td>0.16</td>\n",
       "      <td>NaN</td>\n",
       "    </tr>\n",
       "    <tr>\n",
       "      <th rowspan=\"2\" valign=\"top\">NN_weighted</th>\n",
       "      <th>train</th>\n",
       "      <th>SMOTE</th>\n",
       "      <td>0.56</td>\n",
       "      <td>0.70</td>\n",
       "      <td>0.26</td>\n",
       "      <td>0.63</td>\n",
       "      <td>0.31</td>\n",
       "      <td>0.16</td>\n",
       "      <td>256.0</td>\n",
       "    </tr>\n",
       "    <tr>\n",
       "      <th>val</th>\n",
       "      <th>SMOTE</th>\n",
       "      <td>0.75</td>\n",
       "      <td>0.34</td>\n",
       "      <td>0.23</td>\n",
       "      <td>0.26</td>\n",
       "      <td>0.18</td>\n",
       "      <td>0.10</td>\n",
       "      <td>256.0</td>\n",
       "    </tr>\n",
       "    <tr>\n",
       "      <th>model_LinearSVC</th>\n",
       "      <th>test</th>\n",
       "      <th>SMOTE</th>\n",
       "      <td>0.21</td>\n",
       "      <td>0.17</td>\n",
       "      <td>1.00</td>\n",
       "      <td>0.38</td>\n",
       "      <td>0.29</td>\n",
       "      <td>0.09</td>\n",
       "      <td>NaN</td>\n",
       "    </tr>\n",
       "    <tr>\n",
       "      <th>model_RandomForest</th>\n",
       "      <th>test</th>\n",
       "      <th>SMOTE</th>\n",
       "      <td>0.26</td>\n",
       "      <td>0.17</td>\n",
       "      <td>0.94</td>\n",
       "      <td>0.28</td>\n",
       "      <td>0.29</td>\n",
       "      <td>0.07</td>\n",
       "      <td>NaN</td>\n",
       "    </tr>\n",
       "    <tr>\n",
       "      <th>NN_weighted</th>\n",
       "      <th>test</th>\n",
       "      <th>SMOTE</th>\n",
       "      <td>0.50</td>\n",
       "      <td>0.15</td>\n",
       "      <td>0.56</td>\n",
       "      <td>0.17</td>\n",
       "      <td>0.22</td>\n",
       "      <td>0.04</td>\n",
       "      <td>256.0</td>\n",
       "    </tr>\n",
       "    <tr>\n",
       "      <th>model_XGB</th>\n",
       "      <th>test</th>\n",
       "      <th>SMOTE</th>\n",
       "      <td>0.16</td>\n",
       "      <td>0.16</td>\n",
       "      <td>1.00</td>\n",
       "      <td>0.28</td>\n",
       "      <td>0.28</td>\n",
       "      <td>0.00</td>\n",
       "      <td>NaN</td>\n",
       "    </tr>\n",
       "    <tr>\n",
       "      <th rowspan=\"2\" valign=\"top\">model_logistic</th>\n",
       "      <th>train</th>\n",
       "      <th>SMOTE</th>\n",
       "      <td>0.50</td>\n",
       "      <td>0.50</td>\n",
       "      <td>1.00</td>\n",
       "      <td>0.75</td>\n",
       "      <td>0.67</td>\n",
       "      <td>0.00</td>\n",
       "      <td>NaN</td>\n",
       "    </tr>\n",
       "    <tr>\n",
       "      <th>val</th>\n",
       "      <th>SMOTE</th>\n",
       "      <td>0.16</td>\n",
       "      <td>0.16</td>\n",
       "      <td>1.00</td>\n",
       "      <td>0.58</td>\n",
       "      <td>0.28</td>\n",
       "      <td>0.00</td>\n",
       "      <td>NaN</td>\n",
       "    </tr>\n",
       "    <tr>\n",
       "      <th rowspan=\"2\" valign=\"top\">model_SVC</th>\n",
       "      <th>test</th>\n",
       "      <th>SMOTE</th>\n",
       "      <td>0.84</td>\n",
       "      <td>0.00</td>\n",
       "      <td>0.00</td>\n",
       "      <td>0.58</td>\n",
       "      <td>0.00</td>\n",
       "      <td>0.00</td>\n",
       "      <td>NaN</td>\n",
       "    </tr>\n",
       "    <tr>\n",
       "      <th>val</th>\n",
       "      <th>SMOTE</th>\n",
       "      <td>0.84</td>\n",
       "      <td>0.00</td>\n",
       "      <td>0.00</td>\n",
       "      <td>0.58</td>\n",
       "      <td>0.00</td>\n",
       "      <td>0.00</td>\n",
       "      <td>NaN</td>\n",
       "    </tr>\n",
       "  </tbody>\n",
       "</table>\n",
       "</div>"
      ],
      "text/plain": [
       "                                      acc  prec  recall  pr_auc    f1  \\\n",
       "model              data  series                                         \n",
       "model_XGB          train SMOTE       1.00  1.00    1.00    1.00  1.00   \n",
       "model_RandomForest train SMOTE       0.99  1.00    0.98    1.00  0.99   \n",
       "model_XGB          train imbalanced  0.99  1.00    0.91    1.00  0.95   \n",
       "model_SVC          train SMOTE       0.90  0.90    0.90    0.93  0.90   \n",
       "model_RandomForest train imbalanced  0.94  0.83    0.82    0.90  0.82   \n",
       "NN_weighted        val   imbalanced  0.86  0.58    0.72    0.74  0.62   \n",
       "                   train imbalanced  0.86  0.57    0.74    0.73  0.62   \n",
       "model_LinearSVC    train SMOTE       0.73  0.91    0.51    0.88  0.65   \n",
       "                         imbalanced  0.88  0.70    0.47    0.65  0.56   \n",
       "model_SVC          val   imbalanced  0.88  0.73    0.38    0.59  0.50   \n",
       "model_logistic     train imbalanced  0.78  0.41    0.81    0.65  0.54   \n",
       "model_XGB          val   SMOTE       0.86  0.60    0.46    0.59  0.51   \n",
       "model_LinearSVC    val   SMOTE       0.86  0.61    0.44    0.59  0.51   \n",
       "                         imbalanced  0.87  0.63    0.39    0.58  0.48   \n",
       "model_RandomForest val   imbalanced  0.85  0.55    0.46    0.53  0.50   \n",
       "model_XGB          val   imbalanced  0.87  0.75    0.28    0.55  0.40   \n",
       "model_logistic     val   imbalanced  0.75  0.37    0.75    0.59  0.49   \n",
       "model_RandomForest val   SMOTE       0.87  0.75    0.26    0.57  0.39   \n",
       "model_SVC          train imbalanced  0.86  0.66    0.30    0.53  0.41   \n",
       "model_logistic     test  imbalanced  0.77  0.38    0.61    0.48  0.47   \n",
       "                         SMOTE       0.76  0.36    0.58    0.54  0.44   \n",
       "model_SVC          test  imbalanced  0.85  0.72    0.18    0.47  0.29   \n",
       "model_XGB          test  imbalanced  0.85  0.72    0.18    0.45  0.28   \n",
       "NN_weighted        test  imbalanced  0.81  0.46    0.38    0.46  0.38   \n",
       "model_LinearSVC    test  imbalanced  0.84  0.54    0.19    0.47  0.28   \n",
       "model_RandomForest test  imbalanced  0.80  0.34    0.20    0.40  0.25   \n",
       "NN_weighted        train SMOTE       0.56  0.70    0.26    0.63  0.31   \n",
       "                   val   SMOTE       0.75  0.34    0.23    0.26  0.18   \n",
       "model_LinearSVC    test  SMOTE       0.21  0.17    1.00    0.38  0.29   \n",
       "model_RandomForest test  SMOTE       0.26  0.17    0.94    0.28  0.29   \n",
       "NN_weighted        test  SMOTE       0.50  0.15    0.56    0.17  0.22   \n",
       "model_XGB          test  SMOTE       0.16  0.16    1.00    0.28  0.28   \n",
       "model_logistic     train SMOTE       0.50  0.50    1.00    0.75  0.67   \n",
       "                   val   SMOTE       0.16  0.16    1.00    0.58  0.28   \n",
       "model_SVC          test  SMOTE       0.84  0.00    0.00    0.58  0.00   \n",
       "                   val   SMOTE       0.84  0.00    0.00    0.58  0.00   \n",
       "\n",
       "                                     mc_coef  batch_s  \n",
       "model              data  series                        \n",
       "model_XGB          train SMOTE          1.00      NaN  \n",
       "model_RandomForest train SMOTE          0.98      NaN  \n",
       "model_XGB          train imbalanced     0.95      NaN  \n",
       "model_SVC          train SMOTE          0.80      NaN  \n",
       "model_RandomForest train imbalanced     0.79      NaN  \n",
       "NN_weighted        val   imbalanced     0.56    192.0  \n",
       "                   train imbalanced     0.56    192.0  \n",
       "model_LinearSVC    train SMOTE          0.51      NaN  \n",
       "                         imbalanced     0.51      NaN  \n",
       "model_SVC          val   imbalanced     0.47      NaN  \n",
       "model_logistic     train imbalanced     0.46      NaN  \n",
       "model_XGB          val   SMOTE          0.44      NaN  \n",
       "model_LinearSVC    val   SMOTE          0.44      NaN  \n",
       "                         imbalanced     0.43      NaN  \n",
       "model_RandomForest val   imbalanced     0.42      NaN  \n",
       "model_XGB          val   imbalanced     0.40      NaN  \n",
       "model_logistic     val   imbalanced     0.39      NaN  \n",
       "model_RandomForest val   SMOTE          0.39      NaN  \n",
       "model_SVC          train imbalanced     0.38      NaN  \n",
       "model_logistic     test  imbalanced     0.35      NaN  \n",
       "                         SMOTE          0.32      NaN  \n",
       "model_SVC          test  imbalanced     0.31      NaN  \n",
       "model_XGB          test  imbalanced     0.31      NaN  \n",
       "NN_weighted        test  imbalanced     0.29    192.0  \n",
       "model_LinearSVC    test  imbalanced     0.25      NaN  \n",
       "model_RandomForest test  imbalanced     0.16      NaN  \n",
       "NN_weighted        train SMOTE          0.16    256.0  \n",
       "                   val   SMOTE          0.10    256.0  \n",
       "model_LinearSVC    test  SMOTE          0.09      NaN  \n",
       "model_RandomForest test  SMOTE          0.07      NaN  \n",
       "NN_weighted        test  SMOTE          0.04    256.0  \n",
       "model_XGB          test  SMOTE          0.00      NaN  \n",
       "model_logistic     train SMOTE          0.00      NaN  \n",
       "                   val   SMOTE          0.00      NaN  \n",
       "model_SVC          test  SMOTE          0.00      NaN  \n",
       "                   val   SMOTE          0.00      NaN  "
      ]
     },
     "execution_count": 76,
     "metadata": {},
     "output_type": "execute_result"
    }
   ],
   "source": [
    "m_summary.groupby(['model', 'data', 'series']).mean().sort_values(by=['mc_coef', 'recall'], ascending=False).applymap(lambda x: np.round(x,2))"
   ]
  },
  {
   "cell_type": "code",
   "execution_count": 77,
   "metadata": {},
   "outputs": [],
   "source": [
    "m_summary_melted = pd.melt(\n",
    "    m_summary, \n",
    "    id_vars=['model', 'data', 'series'], \n",
    "    value_vars=[\n",
    "        'tp', 'fp', 'tn', 'fn', \n",
    "        'acc', 'prec', 'recall', 'pr_auc', 'f1', 'mc_coef'\n",
    "    ], \n",
    "    var_name='metrics', \n",
    "    value_name='values')\n",
    "\n",
    "m_summary_melted.to_csv('../logs/metrics_summary_melted.csv')"
   ]
  },
  {
   "cell_type": "code",
   "execution_count": 92,
   "metadata": {},
   "outputs": [
    {
     "data": {
      "image/png": "[encoded data removed]",
      "text/plain": [
       "<Figure size 1296x432 with 6 Axes>"
      ]
     },
     "metadata": {
      "needs_background": "light"
     },
     "output_type": "display_data"
    }
   ],
   "source": [
    "sb.catplot(\n",
    "    x='values',\n",
    "    y='metrics',\n",
    "    hue='model',\n",
    "    data=m_summary_melted[m_summary_melted.metrics.isin(['acc', 'prec', 'recall', 'pr_auc', 'f1', 'mc_coef'])], \n",
    "    row='series', \n",
    "    col='data',\n",
    "    estimator= np.mean,\n",
    "    ci=95, \n",
    "    n_boot=1000, \n",
    "    kind='point', \n",
    "    height=3,\n",
    "    aspect=2, \n",
    "    palette='tab10', \n",
    "    legend=True, \n",
    "    legend_out=False, \n",
    "    sharex=True, \n",
    "    sharey=True, \n",
    "    margin_titles=True, \n",
    "    **{\n",
    "        #'linestyles':'',\n",
    "        'dodge':True,\n",
    "        'capsize':0.1,\n",
    "        'errwidth':1.5\n",
    "    }\n",
    ")\n",
    "plt.tight_layout()\n",
    "plt.show()"
   ]
  },
  {
   "cell_type": "markdown",
   "metadata": {
    "toc-hr-collapsed": true
   },
   "source": [
    "## 1. Feature importance"
   ]
  },
  {
   "cell_type": "markdown",
   "metadata": {},
   "source": [
    "### D.1 Logistic Model"
   ]
  },
  {
   "cell_type": "code",
   "execution_count": 81,
   "metadata": {
    "pycharm": {
     "is_executing": false
    }
   },
   "outputs": [
    {
     "name": "stderr",
     "output_type": "stream",
     "text": [
      "data_pre_proc.py:9: RuntimeWarning: invalid value encountered in sqrt\n",
      "  df = pd.read_csv(dataset_path)\n",
      "C:\\ProgramData\\Anaconda3\\lib\\site-packages\\scipy\\stats\\_distn_infrastructure.py:901: RuntimeWarning: invalid value encountered in greater\n",
      "  return (a < x) & (x < b)\n",
      "C:\\ProgramData\\Anaconda3\\lib\\site-packages\\scipy\\stats\\_distn_infrastructure.py:901: RuntimeWarning: invalid value encountered in less\n",
      "  return (a < x) & (x < b)\n",
      "C:\\ProgramData\\Anaconda3\\lib\\site-packages\\scipy\\stats\\_distn_infrastructure.py:1807: RuntimeWarning: invalid value encountered in greater_equal\n",
      "  cond2 = (x >= _b) & cond0\n"
     ]
    },
    {
     "data": {
      "text/html": [
       "<div>\n",
       "<style scoped>\n",
       "    .dataframe tbody tr th:only-of-type {\n",
       "        vertical-align: middle;\n",
       "    }\n",
       "\n",
       "    .dataframe tbody tr th {\n",
       "        vertical-align: top;\n",
       "    }\n",
       "\n",
       "    .dataframe thead th {\n",
       "        text-align: right;\n",
       "    }\n",
       "</style>\n",
       "<table border=\"1\" class=\"dataframe\">\n",
       "  <thead>\n",
       "    <tr style=\"text-align: right;\">\n",
       "      <th></th>\n",
       "      <th>features</th>\n",
       "      <th>coef</th>\n",
       "      <th>se</th>\n",
       "      <th>t_values</th>\n",
       "      <th>p_value</th>\n",
       "    </tr>\n",
       "  </thead>\n",
       "  <tbody>\n",
       "    <tr>\n",
       "      <th>18</th>\n",
       "      <td>YearsWithCurrManager</td>\n",
       "      <td>1.7878</td>\n",
       "      <td>0.363</td>\n",
       "      <td>4.924</td>\n",
       "      <td>0.000</td>\n",
       "    </tr>\n",
       "    <tr>\n",
       "      <th>41</th>\n",
       "      <td>OverTime_Yes</td>\n",
       "      <td>1.5827</td>\n",
       "      <td>0.134</td>\n",
       "      <td>11.769</td>\n",
       "      <td>0.000</td>\n",
       "    </tr>\n",
       "    <tr>\n",
       "      <th>40</th>\n",
       "      <td>MaritalStatus_Single</td>\n",
       "      <td>1.1163</td>\n",
       "      <td>0.189</td>\n",
       "      <td>5.894</td>\n",
       "      <td>0.000</td>\n",
       "    </tr>\n",
       "    <tr>\n",
       "      <th>32</th>\n",
       "      <td>JobRole_LaboratoryTechnician</td>\n",
       "      <td>0.9459</td>\n",
       "      <td>0.269</td>\n",
       "      <td>3.521</td>\n",
       "      <td>0.001</td>\n",
       "    </tr>\n",
       "    <tr>\n",
       "      <th>3</th>\n",
       "      <td>Education</td>\n",
       "      <td>0.8050</td>\n",
       "      <td>0.181</td>\n",
       "      <td>4.448</td>\n",
       "      <td>0.000</td>\n",
       "    </tr>\n",
       "    <tr>\n",
       "      <th>39</th>\n",
       "      <td>MaritalStatus_Married</td>\n",
       "      <td>0.5228</td>\n",
       "      <td>0.141</td>\n",
       "      <td>3.706</td>\n",
       "      <td>0.000</td>\n",
       "    </tr>\n",
       "    <tr>\n",
       "      <th>13</th>\n",
       "      <td>StockOptionLevel</td>\n",
       "      <td>-0.3988</td>\n",
       "      <td>0.147</td>\n",
       "      <td>-2.711</td>\n",
       "      <td>0.008</td>\n",
       "    </tr>\n",
       "    <tr>\n",
       "      <th>2</th>\n",
       "      <td>DistanceFromHome</td>\n",
       "      <td>-0.4319</td>\n",
       "      <td>0.192</td>\n",
       "      <td>-2.248</td>\n",
       "      <td>0.026</td>\n",
       "    </tr>\n",
       "    <tr>\n",
       "      <th>22</th>\n",
       "      <td>BusinessTravel_Rarely</td>\n",
       "      <td>-0.6012</td>\n",
       "      <td>0.142</td>\n",
       "      <td>-4.237</td>\n",
       "      <td>0.000</td>\n",
       "    </tr>\n",
       "    <tr>\n",
       "      <th>16</th>\n",
       "      <td>YearsInCurrentRole</td>\n",
       "      <td>-0.7694</td>\n",
       "      <td>0.230</td>\n",
       "      <td>-3.344</td>\n",
       "      <td>0.001</td>\n",
       "    </tr>\n",
       "    <tr>\n",
       "      <th>35</th>\n",
       "      <td>JobRole_ResearchDirector</td>\n",
       "      <td>-0.8958</td>\n",
       "      <td>0.383</td>\n",
       "      <td>-2.340</td>\n",
       "      <td>0.021</td>\n",
       "    </tr>\n",
       "    <tr>\n",
       "      <th>8</th>\n",
       "      <td>MonthlyIncome</td>\n",
       "      <td>-1.0394</td>\n",
       "      <td>0.161</td>\n",
       "      <td>-6.461</td>\n",
       "      <td>0.000</td>\n",
       "    </tr>\n",
       "    <tr>\n",
       "      <th>5</th>\n",
       "      <td>HourlyRate</td>\n",
       "      <td>-1.1025</td>\n",
       "      <td>0.155</td>\n",
       "      <td>-7.096</td>\n",
       "      <td>0.000</td>\n",
       "    </tr>\n",
       "    <tr>\n",
       "      <th>15</th>\n",
       "      <td>WorkLifeBalance</td>\n",
       "      <td>-1.1750</td>\n",
       "      <td>0.238</td>\n",
       "      <td>-4.938</td>\n",
       "      <td>0.000</td>\n",
       "    </tr>\n",
       "    <tr>\n",
       "      <th>7</th>\n",
       "      <td>JobSatisfaction</td>\n",
       "      <td>-1.2603</td>\n",
       "      <td>0.274</td>\n",
       "      <td>-4.601</td>\n",
       "      <td>0.000</td>\n",
       "    </tr>\n",
       "    <tr>\n",
       "      <th>21</th>\n",
       "      <td>BusinessTravel_NonTravel</td>\n",
       "      <td>-1.3464</td>\n",
       "      <td>0.201</td>\n",
       "      <td>-6.695</td>\n",
       "      <td>0.000</td>\n",
       "    </tr>\n",
       "    <tr>\n",
       "      <th>17</th>\n",
       "      <td>YearsSinceLastPromotion</td>\n",
       "      <td>-1.4585</td>\n",
       "      <td>0.399</td>\n",
       "      <td>-3.658</td>\n",
       "      <td>0.000</td>\n",
       "    </tr>\n",
       "    <tr>\n",
       "      <th>19</th>\n",
       "      <td>StayScore</td>\n",
       "      <td>-1.8177</td>\n",
       "      <td>0.341</td>\n",
       "      <td>-5.327</td>\n",
       "      <td>0.000</td>\n",
       "    </tr>\n",
       "    <tr>\n",
       "      <th>20</th>\n",
       "      <td>Attrition_Yes</td>\n",
       "      <td>-2.3048</td>\n",
       "      <td>0.540</td>\n",
       "      <td>-4.265</td>\n",
       "      <td>0.000</td>\n",
       "    </tr>\n",
       "  </tbody>\n",
       "</table>\n",
       "</div>"
      ],
      "text/plain": [
       "                        features    coef     se  t_values  p_value\n",
       "18          YearsWithCurrManager  1.7878  0.363     4.924    0.000\n",
       "41                  OverTime_Yes  1.5827  0.134    11.769    0.000\n",
       "40          MaritalStatus_Single  1.1163  0.189     5.894    0.000\n",
       "32  JobRole_LaboratoryTechnician  0.9459  0.269     3.521    0.001\n",
       "3                      Education  0.8050  0.181     4.448    0.000\n",
       "39         MaritalStatus_Married  0.5228  0.141     3.706    0.000\n",
       "13              StockOptionLevel -0.3988  0.147    -2.711    0.008\n",
       "2               DistanceFromHome -0.4319  0.192    -2.248    0.026\n",
       "22         BusinessTravel_Rarely -0.6012  0.142    -4.237    0.000\n",
       "16            YearsInCurrentRole -0.7694  0.230    -3.344    0.001\n",
       "35      JobRole_ResearchDirector -0.8958  0.383    -2.340    0.021\n",
       "8                  MonthlyIncome -1.0394  0.161    -6.461    0.000\n",
       "5                     HourlyRate -1.1025  0.155    -7.096    0.000\n",
       "15               WorkLifeBalance -1.1750  0.238    -4.938    0.000\n",
       "7                JobSatisfaction -1.2603  0.274    -4.601    0.000\n",
       "21      BusinessTravel_NonTravel -1.3464  0.201    -6.695    0.000\n",
       "17       YearsSinceLastPromotion -1.4585  0.399    -3.658    0.000\n",
       "19                     StayScore -1.8177  0.341    -5.327    0.000\n",
       "20                 Attrition_Yes -2.3048  0.540    -4.265    0.000"
      ]
     },
     "execution_count": 81,
     "metadata": {},
     "output_type": "execute_result"
    }
   ],
   "source": [
    "from scipy import stats\n",
    "params = np.append(model_logistic.intercept_,model_logistic.coef_)\n",
    "predictions = model_logistic.predict(test_features)\n",
    "\n",
    "newX = pd.DataFrame({\"Constant\":np.ones(len(test_features))}).join(pd.DataFrame(test_features))\n",
    "MSE = (sum((test_labels-predictions)**2))/(len(newX)-len(newX.columns))\n",
    "\n",
    "var_b = MSE*(np.linalg.inv(np.dot(newX.T,newX)).diagonal())\n",
    "sd_b = np.sqrt(var_b)\n",
    "ts_b = params/ sd_b\n",
    "\n",
    "p_values =[2*(1-stats.t.cdf(np.abs(i),(len(newX)-1))) for i in ts_b]\n",
    "\n",
    "sd_b = np.round(sd_b,3)\n",
    "ts_b = np.round(ts_b,3)\n",
    "p_values = np.round(p_values,3)\n",
    "params = np.round(params,4)\n",
    "\n",
    "myDF3 = pd.DataFrame()\n",
    "myDF3[\"features\"],myDF3[\"coef\"],myDF3[\"se\"],myDF3[\"t_values\"],myDF3[\"p_value\"] = [test_df.columns.to_list(), params,sd_b,ts_b,p_values]\n",
    "myDF3[myDF3['p_value'] < 0.05].sort_values(by=['coef'], ascending=False)"
   ]
  },
  {
   "cell_type": "markdown",
   "metadata": {},
   "source": [
    "Least important features:"
   ]
  },
  {
   "cell_type": "code",
   "execution_count": 82,
   "metadata": {
    "pycharm": {
     "is_executing": false
    }
   },
   "outputs": [
    {
     "data": {
      "text/html": [
       "<div>\n",
       "<style scoped>\n",
       "    .dataframe tbody tr th:only-of-type {\n",
       "        vertical-align: middle;\n",
       "    }\n",
       "\n",
       "    .dataframe tbody tr th {\n",
       "        vertical-align: top;\n",
       "    }\n",
       "\n",
       "    .dataframe thead th {\n",
       "        text-align: right;\n",
       "    }\n",
       "</style>\n",
       "<table border=\"1\" class=\"dataframe\">\n",
       "  <thead>\n",
       "    <tr style=\"text-align: right;\">\n",
       "      <th></th>\n",
       "      <th>features</th>\n",
       "      <th>coef</th>\n",
       "      <th>se</th>\n",
       "      <th>t_values</th>\n",
       "      <th>p_value</th>\n",
       "    </tr>\n",
       "  </thead>\n",
       "  <tbody>\n",
       "    <tr>\n",
       "      <th>38</th>\n",
       "      <td>JobRole_SalesRepresentative</td>\n",
       "      <td>0.9621</td>\n",
       "      <td>0.617</td>\n",
       "      <td>1.559</td>\n",
       "      <td>0.121</td>\n",
       "    </tr>\n",
       "    <tr>\n",
       "      <th>29</th>\n",
       "      <td>EducationField_TechnicalDegree</td>\n",
       "      <td>0.5523</td>\n",
       "      <td>0.663</td>\n",
       "      <td>0.833</td>\n",
       "      <td>0.406</td>\n",
       "    </tr>\n",
       "    <tr>\n",
       "      <th>9</th>\n",
       "      <td>MonthlyRate</td>\n",
       "      <td>0.3445</td>\n",
       "      <td>0.545</td>\n",
       "      <td>0.632</td>\n",
       "      <td>0.528</td>\n",
       "    </tr>\n",
       "    <tr>\n",
       "      <th>30</th>\n",
       "      <td>Gender_Male</td>\n",
       "      <td>0.1821</td>\n",
       "      <td>0.114</td>\n",
       "      <td>1.593</td>\n",
       "      <td>0.113</td>\n",
       "    </tr>\n",
       "    <tr>\n",
       "      <th>37</th>\n",
       "      <td>JobRole_SalesExecutive</td>\n",
       "      <td>0.1797</td>\n",
       "      <td>0.573</td>\n",
       "      <td>0.313</td>\n",
       "      <td>0.754</td>\n",
       "    </tr>\n",
       "    <tr>\n",
       "      <th>34</th>\n",
       "      <td>JobRole_ManufacturingDirector</td>\n",
       "      <td>0.1691</td>\n",
       "      <td>0.241</td>\n",
       "      <td>0.702</td>\n",
       "      <td>0.484</td>\n",
       "    </tr>\n",
       "    <tr>\n",
       "      <th>10</th>\n",
       "      <td>PercentSalaryHike</td>\n",
       "      <td>0.0899</td>\n",
       "      <td>0.187</td>\n",
       "      <td>0.480</td>\n",
       "      <td>0.632</td>\n",
       "    </tr>\n",
       "    <tr>\n",
       "      <th>6</th>\n",
       "      <td>JobInvolvement</td>\n",
       "      <td>0.0254</td>\n",
       "      <td>0.184</td>\n",
       "      <td>0.138</td>\n",
       "      <td>0.890</td>\n",
       "    </tr>\n",
       "    <tr>\n",
       "      <th>36</th>\n",
       "      <td>JobRole_ResearchScientist</td>\n",
       "      <td>0.0251</td>\n",
       "      <td>0.260</td>\n",
       "      <td>0.097</td>\n",
       "      <td>0.923</td>\n",
       "    </tr>\n",
       "    <tr>\n",
       "      <th>4</th>\n",
       "      <td>EnvironmentSatisfaction</td>\n",
       "      <td>0.0179</td>\n",
       "      <td>0.268</td>\n",
       "      <td>0.067</td>\n",
       "      <td>0.947</td>\n",
       "    </tr>\n",
       "    <tr>\n",
       "      <th>26</th>\n",
       "      <td>EducationField_Marketing</td>\n",
       "      <td>-0.0532</td>\n",
       "      <td>0.656</td>\n",
       "      <td>-0.081</td>\n",
       "      <td>0.935</td>\n",
       "    </tr>\n",
       "    <tr>\n",
       "      <th>1</th>\n",
       "      <td>DailyRate</td>\n",
       "      <td>-0.0910</td>\n",
       "      <td>0.334</td>\n",
       "      <td>-0.272</td>\n",
       "      <td>0.786</td>\n",
       "    </tr>\n",
       "    <tr>\n",
       "      <th>12</th>\n",
       "      <td>RelationshipSatisfaction</td>\n",
       "      <td>-0.1680</td>\n",
       "      <td>0.250</td>\n",
       "      <td>-0.672</td>\n",
       "      <td>0.503</td>\n",
       "    </tr>\n",
       "    <tr>\n",
       "      <th>27</th>\n",
       "      <td>EducationField_Medical</td>\n",
       "      <td>-0.2799</td>\n",
       "      <td>0.640</td>\n",
       "      <td>-0.438</td>\n",
       "      <td>0.662</td>\n",
       "    </tr>\n",
       "    <tr>\n",
       "      <th>11</th>\n",
       "      <td>PerformanceRating</td>\n",
       "      <td>-0.2812</td>\n",
       "      <td>0.315</td>\n",
       "      <td>-0.893</td>\n",
       "      <td>0.373</td>\n",
       "    </tr>\n",
       "    <tr>\n",
       "      <th>28</th>\n",
       "      <td>EducationField_Other</td>\n",
       "      <td>-0.2829</td>\n",
       "      <td>0.664</td>\n",
       "      <td>-0.426</td>\n",
       "      <td>0.671</td>\n",
       "    </tr>\n",
       "    <tr>\n",
       "      <th>14</th>\n",
       "      <td>TrainingTimesLastYear</td>\n",
       "      <td>-0.3202</td>\n",
       "      <td>0.253</td>\n",
       "      <td>-1.268</td>\n",
       "      <td>0.207</td>\n",
       "    </tr>\n",
       "    <tr>\n",
       "      <th>25</th>\n",
       "      <td>EducationField_LifeSciences</td>\n",
       "      <td>-0.4373</td>\n",
       "      <td>0.628</td>\n",
       "      <td>-0.696</td>\n",
       "      <td>0.487</td>\n",
       "    </tr>\n",
       "    <tr>\n",
       "      <th>33</th>\n",
       "      <td>JobRole_Manager</td>\n",
       "      <td>-0.4691</td>\n",
       "      <td>0.532</td>\n",
       "      <td>-0.882</td>\n",
       "      <td>0.379</td>\n",
       "    </tr>\n",
       "  </tbody>\n",
       "</table>\n",
       "</div>"
      ],
      "text/plain": [
       "                          features    coef     se  t_values  p_value\n",
       "38     JobRole_SalesRepresentative  0.9621  0.617     1.559    0.121\n",
       "29  EducationField_TechnicalDegree  0.5523  0.663     0.833    0.406\n",
       "9                      MonthlyRate  0.3445  0.545     0.632    0.528\n",
       "30                     Gender_Male  0.1821  0.114     1.593    0.113\n",
       "37          JobRole_SalesExecutive  0.1797  0.573     0.313    0.754\n",
       "34   JobRole_ManufacturingDirector  0.1691  0.241     0.702    0.484\n",
       "10               PercentSalaryHike  0.0899  0.187     0.480    0.632\n",
       "6                   JobInvolvement  0.0254  0.184     0.138    0.890\n",
       "36       JobRole_ResearchScientist  0.0251  0.260     0.097    0.923\n",
       "4          EnvironmentSatisfaction  0.0179  0.268     0.067    0.947\n",
       "26        EducationField_Marketing -0.0532  0.656    -0.081    0.935\n",
       "1                        DailyRate -0.0910  0.334    -0.272    0.786\n",
       "12        RelationshipSatisfaction -0.1680  0.250    -0.672    0.503\n",
       "27          EducationField_Medical -0.2799  0.640    -0.438    0.662\n",
       "11               PerformanceRating -0.2812  0.315    -0.893    0.373\n",
       "28            EducationField_Other -0.2829  0.664    -0.426    0.671\n",
       "14           TrainingTimesLastYear -0.3202  0.253    -1.268    0.207\n",
       "25     EducationField_LifeSciences -0.4373  0.628    -0.696    0.487\n",
       "33                 JobRole_Manager -0.4691  0.532    -0.882    0.379"
      ]
     },
     "execution_count": 82,
     "metadata": {},
     "output_type": "execute_result"
    }
   ],
   "source": [
    "myDF3[myDF3['p_value'] > 0.05].sort_values(by=['coef'], ascending=False)"
   ]
  },
  {
   "cell_type": "markdown",
   "metadata": {},
   "source": [
    "### D.2 XGBoost"
   ]
  },
  {
   "cell_type": "code",
   "execution_count": 83,
   "metadata": {
    "pycharm": {
     "is_executing": false
    }
   },
   "outputs": [],
   "source": [
    "import xgboost"
   ]
  },
  {
   "cell_type": "code",
   "execution_count": 84,
   "metadata": {
    "pycharm": {
     "is_executing": false
    }
   },
   "outputs": [
    {
     "data": {
      "image/png": "[encoded data removed]",
      "text/plain": [
       "<Figure size 504x720 with 1 Axes>"
      ]
     },
     "metadata": {
      "needs_background": "light"
     },
     "output_type": "display_data"
    }
   ],
   "source": [
    "fig, ax = plt.subplots(1,1,figsize=(7,10))\n",
    "#model_XGB.get_booster().feature_names = train_df.columns\n",
    "xgboost.plot_importance(model_XGB, height=0.5, ax=ax, grid=False)\n",
    "plt.show()"
   ]
  },
  {
   "cell_type": "markdown",
   "metadata": {},
   "source": [
    "### D.3 LinearSVC"
   ]
  },
  {
   "cell_type": "code",
   "execution_count": 85,
   "metadata": {
    "pycharm": {
     "is_executing": false
    }
   },
   "outputs": [],
   "source": [
    "lsvc = pd.DataFrame({'features':train_features.columns, 'coefs':model_LinearSVC.coef_.ravel()}).sort_values(by='coefs')\n",
    "lsvc_pos_class = lsvc[lsvc.coefs > 0].sort_values(by='coefs', ascending=False)\n",
    "lsvc_neg_class = lsvc[lsvc.coefs < 0].sort_values(by='coefs', ascending=True)"
   ]
  },
  {
   "cell_type": "code",
   "execution_count": 86,
   "metadata": {
    "pycharm": {
     "is_executing": false
    }
   },
   "outputs": [
    {
     "data": {
      "image/png": "[encoded data removed]",
      "text/plain": [
       "<Figure size 360x720 with 1 Axes>"
      ]
     },
     "metadata": {
      "needs_background": "light"
     },
     "output_type": "display_data"
    }
   ],
   "source": [
    "plt.figure(figsize=(5,10))\n",
    "sb.barplot(lsvc_pos_class.coefs, lsvc_pos_class.features, palette=\"RdYlBu\")\n",
    "plt.title('Coefs favoring attrition')\n",
    "plt.show()"
   ]
  },
  {
   "cell_type": "code",
   "execution_count": 87,
   "metadata": {
    "pycharm": {
     "is_executing": false
    }
   },
   "outputs": [
    {
     "data": {
      "image/png": "[encoded data removed]",
      "text/plain": [
       "<Figure size 360x720 with 1 Axes>"
      ]
     },
     "metadata": {
      "needs_background": "light"
     },
     "output_type": "display_data"
    }
   ],
   "source": [
    "plt.figure(figsize=(5,10))\n",
    "sb.barplot(lsvc_neg_class.coefs*-1, lsvc_neg_class.features, palette=\"RdYlBu\")\n",
    "plt.title('coefs protecting against attrition')\n",
    "plt.show()"
   ]
  },
  {
   "cell_type": "code",
   "execution_count": 88,
   "metadata": {
    "pycharm": {
     "is_executing": false
    }
   },
   "outputs": [],
   "source": [
    "from mlxtend.evaluate import feature_importance_permutation"
   ]
  },
  {
   "cell_type": "code",
   "execution_count": 89,
   "metadata": {
    "pycharm": {
     "is_executing": false
    }
   },
   "outputs": [
    {
     "data": {
      "image/png": "[encoded data removed]",
      "text/plain": [
       "<Figure size 360x720 with 1 Axes>"
      ]
     },
     "metadata": {
      "needs_background": "light"
     },
     "output_type": "display_data"
    }
   ],
   "source": [
    "imp_vals, imp_all = feature_importance_permutation(\n",
    "    predict_method=model_LinearSVC.predict, \n",
    "    X=test_features,\n",
    "    y=test_labels,\n",
    "    metric=metrics.f1_score,\n",
    "    num_rounds=100,\n",
    "    seed=1)\n",
    "\n",
    "X=test_df\n",
    "y=test_labels\n",
    "\n",
    "#imp_vals = minmax.fit_transform(imp_vals.reshape(-1,1)).ravel()\n",
    "\n",
    "std = np.std(imp_all, axis=1)\n",
    "indices = np.argsort(imp_vals)[::1]\n",
    "\n",
    "plt.figure(figsize=(5,10))\n",
    "plt.title(\"LinearSVC feature importance via permutation importance\")\n",
    "sb.barplot(y=test_df.columns[indices], x=imp_vals[indices], xerr=std[indices], palette=\"RdYlBu_r\")\n",
    "#plt.barh(test_df.columns[indices], imp_vals[indices], xerr=std[indices])\n",
    "#plt.yticks(range(X.shape[1]), test_df.columns[indices])\n",
    "plt.ylim([-1, X.shape[1]])\n",
    "plt.show()"
   ]
  },
  {
   "cell_type": "markdown",
   "metadata": {},
   "source": [
    "### D.4 Weighted NN"
   ]
  },
  {
   "cell_type": "code",
   "execution_count": 90,
   "metadata": {
    "pycharm": {
     "is_executing": false
    }
   },
   "outputs": [
    {
     "data": {
      "image/png": "[encoded data removed]",
      "text/plain": [
       "<Figure size 360x720 with 1 Axes>"
      ]
     },
     "metadata": {
      "needs_background": "light"
     },
     "output_type": "display_data"
    }
   ],
   "source": [
    "imp_vals, imp_all = feature_importance_permutation(\n",
    "    predict_method=model_keras_w.predict_classes, \n",
    "    X=test_features,\n",
    "    y=test_labels,\n",
    "    metric=metrics.f1_score,\n",
    "    num_rounds=50,\n",
    "    seed=1)\n",
    "\n",
    "X=test_df\n",
    "y=test_labels\n",
    "\n",
    "#imp_vals = minmax.fit_transform(imp_vals.reshape(-1,1)).ravel()\n",
    "\n",
    "std = np.std(imp_all, axis=1)\n",
    "indices = np.argsort(imp_vals)[::1]\n",
    "\n",
    "plt.figure(figsize=(5,10))\n",
    "plt.title(\"Weighted NN feature importance via permutation importance\")\n",
    "sb.barplot(y=test_df.columns[indices], x=imp_vals[indices], xerr=std[indices], palette=\"RdYlBu_r\")\n",
    "plt.ylim([-1, X.shape[1]])\n",
    "plt.show()"
   ]
  },
  {
   "cell_type": "markdown",
   "metadata": {},
   "source": [
    "## 2. Recursive Feature Selection with Stratified Kfold CV"
   ]
  },
  {
   "cell_type": "code",
   "execution_count": 79,
   "metadata": {
    "pycharm": {
     "is_executing": false
    }
   },
   "outputs": [
    {
     "name": "stdout",
     "output_type": "stream",
     "text": [
      "Optimal number of features : 15\n"
     ]
    },
    {
     "data": {
      "image/png": "[encoded data removed]",
      "text/plain": [
       "<Figure size 432x288 with 1 Axes>"
      ]
     },
     "metadata": {
      "needs_background": "light"
     },
     "output_type": "display_data"
    }
   ],
   "source": [
    "from sklearn.feature_selection import RFECV\n",
    "\n",
    "# Logistic Model\n",
    "rfecv = RFECV(estimator=model_logistic, step=1, cv=StratifiedKFold(5, shuffle=True, random_state=0),\n",
    "              scoring='f1')\n",
    "#rfecv.fit(finaldf.drop(['Attrition_Yes'], axis=1), finaldf.Attrition_Yes)\n",
    "rfecv.fit(test_features, test_labels)\n",
    "\n",
    "print(\"Optimal number of features : %d\" % rfecv.n_features_)\n",
    "\n",
    "# Plot number of features VS. cross-validation scores\n",
    "plt.figure()\n",
    "plt.xlabel(\"Number of features selected\")\n",
    "plt.ylabel(\"Cross validation score\")\n",
    "plt.plot(range(1, len(rfecv.grid_scores_) + 1), rfecv.grid_scores_)\n",
    "plt.plot(range(1, len(rfecv.grid_scores_) + 1), [max(rfecv.grid_scores_) for i in range(1, len(rfecv.grid_scores_) + 1)])\n",
    "plt.show()"
   ]
  },
  {
   "cell_type": "code",
   "execution_count": 80,
   "metadata": {
    "pycharm": {
     "is_executing": false
    }
   },
   "outputs": [
    {
     "name": "stdout",
     "output_type": "stream",
     "text": [
      "Best ranking features:\n",
      " [('DailyRate', 1), ('EnvironmentSatisfaction', 4), ('HourlyRate', 5), ('JobInvolvement', 6), ('MonthlyIncome', 8), ('RelationshipSatisfaction', 12), ('YearsInCurrentRole', 16), ('Attrition_Yes', 20), ('EducationField_Medical', 27), ('EducationField_TechnicalDegree', 29), ('JobRole_HumanResources', 31), ('JobRole_ResearchDirector', 35), ('JobRole_ResearchScientist', 36), ('MaritalStatus_Married', 39), ('MaritalStatus_Single', 40)]\n"
     ]
    }
   ],
   "source": [
    "l = []\n",
    "for (i, feat), rank in zip(enumerate(test_df.columns), rfecv.ranking_):\n",
    "    if rank == 1:\n",
    "        l.append((feat, i))\n",
    "print('Best ranking features:\\n',l)"
   ]
  },
  {
   "cell_type": "markdown",
   "metadata": {},
   "source": [
    "## 3. Cluster Profile & Analysis"
   ]
  },
  {
   "cell_type": "code",
   "execution_count": null,
   "metadata": {},
   "outputs": [],
   "source": [
    "# Kmeans\n",
    "# heatmap for clusters (mean?)"
   ]
  },
  {
   "cell_type": "markdown",
   "metadata": {},
   "source": [
    "# IV. Conclusions"
   ]
  },
  {
   "cell_type": "code",
   "execution_count": null,
   "metadata": {
    "pycharm": {
     "is_executing": false
    }
   },
   "outputs": [],
   "source": []
  }
 ],
 "metadata": {
  "kernelspec": {
   "display_name": "Python 3",
   "language": "python",
   "name": "python3"
  },
  "language_info": {
   "codemirror_mode": {
    "name": "ipython",
    "version": 3
   },
   "file_extension": ".py",
   "mimetype": "text/x-python",
   "name": "python",
   "nbconvert_exporter": "python",
   "pygments_lexer": "ipython3",
   "version": "3.7.4"
  },
  "pycharm": {
   "stem_cell": {
    "cell_type": "raw",
    "metadata": {
     "collapsed": false
    },
    "source": []
   }
  }
 },
 "nbformat": 4,
 "nbformat_minor": 4
}
